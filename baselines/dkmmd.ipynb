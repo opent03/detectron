{
 "cells": [
  {
   "cell_type": "code",
   "execution_count": 327,
   "metadata": {},
   "outputs": [],
   "source": [
    "import numpy as np\n",
    "import os\n",
    "import torch\n",
    "import torch.nn as nn\n",
    "import torch.nn.functional as F \n",
    "import torch.optim as optim\n",
    "from torch.utils.data import DataLoader\n",
    "\n",
    "torch.backends.cudnn.deterministic = True\n",
    "\n",
    "from tqdm import tqdm\n",
    "\n",
    "from cifar10_loader import load_and_process_cifar"
   ]
  },
  {
   "cell_type": "code",
   "execution_count": 328,
   "metadata": {},
   "outputs": [],
   "source": [
    "def get_item(x, is_cuda):\n",
    "    \"\"\"get the numpy value from a torch tensor.\"\"\"\n",
    "    if is_cuda:\n",
    "        x = x.cpu().detach().numpy()\n",
    "    else:\n",
    "        x = x.detach().numpy()\n",
    "    return x\n",
    "\n",
    "def MatConvert(x, device, dtype):\n",
    "    \"\"\"convert the numpy to a torch tensor.\"\"\"\n",
    "    x = torch.from_numpy(x).to(device, dtype)\n",
    "    return x\n",
    "\n",
    "def Pdist2(x, y):\n",
    "    \"\"\"compute the paired distance between x and y.\"\"\"\n",
    "    x_norm = (x ** 2).sum(1).view(-1, 1)\n",
    "    if y is not None:\n",
    "        y_norm = (y ** 2).sum(1).view(1, -1)\n",
    "    else:\n",
    "        y = x\n",
    "        y_norm = x_norm.view(1, -1)\n",
    "    Pdist = x_norm + y_norm - 2.0 * torch.mm(x, torch.transpose(y, 0, 1))\n",
    "    Pdist[Pdist<0]=0\n",
    "    return Pdist"
   ]
  },
  {
   "cell_type": "code",
   "execution_count": 362,
   "metadata": {},
   "outputs": [],
   "source": [
    "def h1_mean_var_gram(Kx, Ky, Kxy, is_var_computed, use_1sample_U=True):\n",
    "    \"\"\"compute value of MMD and std of MMD using kernel matrix.\"\"\"\n",
    "    Kxxy = torch.cat((Kx,Kxy),1)\n",
    "    Kyxy = torch.cat((Kxy.transpose(0,1),Ky),1)\n",
    "    Kxyxy = torch.cat((Kxxy,Kyxy),0)\n",
    "    nx = Kx.shape[0]\n",
    "    ny = Ky.shape[0]\n",
    "    is_unbiased = True\n",
    "    if is_unbiased:\n",
    "        xx = torch.div((torch.sum(Kx) - torch.sum(torch.diag(Kx))), (nx * (nx - 1)))\n",
    "        yy = torch.div((torch.sum(Ky) - torch.sum(torch.diag(Ky))), (ny * (ny - 1)))\n",
    "        # one-sample U-statistic.\n",
    "        if use_1sample_U:\n",
    "            xy = torch.div((torch.sum(Kxy) - torch.sum(torch.diag(Kxy))), (nx * (ny - 1)))\n",
    "        else:\n",
    "            xy = torch.div(torch.sum(Kxy), (nx * ny))\n",
    "        mmd2 = xx - 2 * xy + yy\n",
    "    else:\n",
    "        xx = torch.div((torch.sum(Kx)), (nx * nx))\n",
    "        yy = torch.div((torch.sum(Ky)), (ny * ny))\n",
    "        # one-sample U-statistic.\n",
    "        if use_1sample_U:\n",
    "            xy = torch.div((torch.sum(Kxy)), (nx * ny))\n",
    "        else:\n",
    "            xy = torch.div(torch.sum(Kxy), (nx * ny))\n",
    "        mmd2 = xx - 2 * xy + yy\n",
    "    if not is_var_computed:\n",
    "        return mmd2, None, Kxyxy\n",
    "    hh = Kx+Ky-Kxy-Kxy.transpose(0,1)\n",
    "    \n",
    "    V1 = torch.dot(hh.sum(1)/ny,hh.sum(1)/ny) / ny\n",
    "    V2 = (hh).sum() / (nx) / nx\n",
    "    varEst = torch.abs(4*(V1 - V2**2))\n",
    "    if np.isnan(varEst.item()):\n",
    "        print('yeet')\n",
    "        return None\n",
    "    #if  varEst == 0.0:\n",
    "    #    print('error_var!!'+str(V1))\n",
    "    return mmd2, varEst, (Kx, Ky, Kxy)#(Kxxy, Kyxy, Kxyxy)"
   ]
  },
  {
   "cell_type": "code",
   "execution_count": 363,
   "metadata": {},
   "outputs": [],
   "source": [
    "def MMDu(Fea, len_s, Fea_org, sigma, sigma0=0.1, epsilon = 10**(-10), is_smooth=True, is_var_computed=True, use_1sample_U=True):\n",
    "    \"\"\"compute value of deep-kernel MMD and std of deep-kernel MMD using merged data.\"\"\"\n",
    "    X = Fea[0:len_s, :] # fetch the sample 1 (features of deep networks)\n",
    "    Y = Fea[len_s:, :] # fetch the sample 2 (features of deep networks)\n",
    "    X_org = Fea_org[0:len_s, :] # fetch the original sample 1\n",
    "    Y_org = Fea_org[len_s:, :] # fetch the original sample 2\n",
    "    L = 1 # generalized Gaussian (if L>1)\n",
    "\n",
    "    nx = X.shape[0]\n",
    "    ny = Y.shape[0]\n",
    "    Dxx = Pdist2(X, X)\n",
    "    Dyy = Pdist2(Y, Y)\n",
    "    Dxy = Pdist2(X, Y)\n",
    "    Dxx_org = Pdist2(X_org, X_org)\n",
    "    Dyy_org = Pdist2(Y_org, Y_org)\n",
    "    Dxy_org = Pdist2(X_org, Y_org)\n",
    "    if is_smooth:\n",
    "        Kx = (1-epsilon) * torch.exp(-(Dxx / sigma0)**L -Dxx_org / sigma) + epsilon * torch.exp(-Dxx_org / sigma)\n",
    "        Ky = (1-epsilon) * torch.exp(-(Dyy / sigma0)**L -Dyy_org / sigma) + epsilon * torch.exp(-Dyy_org / sigma)\n",
    "        Kxy = (1-epsilon) * torch.exp(-(Dxy / sigma0)**L -Dxy_org / sigma) + epsilon * torch.exp(-Dxy_org / sigma)\n",
    "    else:\n",
    "        Kx = torch.exp(-Dxx / sigma0)\n",
    "        Ky = torch.exp(-Dyy / sigma0)\n",
    "        Kxy = torch.exp(-Dxy / sigma0)\n",
    "    return h1_mean_var_gram(Kx, Ky, Kxy, is_var_computed, use_1sample_U)"
   ]
  },
  {
   "cell_type": "code",
   "execution_count": 364,
   "metadata": {},
   "outputs": [],
   "source": [
    "''' Latent space model '''\n",
    "\n",
    "class ModelLatentF(torch.nn.Module):\n",
    "    \"\"\"define deep networks.\"\"\"\n",
    "    def __init__(self, x_in, H, x_out):\n",
    "        \"\"\"Init latent features.\"\"\"\n",
    "        super(ModelLatentF, self).__init__()\n",
    "        self.restored = False\n",
    "\n",
    "        self.latent = torch.nn.Sequential(\n",
    "            torch.nn.Linear(x_in, H, bias=True),\n",
    "            torch.nn.Softplus(),\n",
    "            torch.nn.Linear(H, H, bias=True),\n",
    "            torch.nn.Softplus(),\n",
    "            torch.nn.Linear(H, H, bias=True),\n",
    "            torch.nn.Softplus(),\n",
    "            torch.nn.Linear(H, x_out, bias=True),\n",
    "        )\n",
    "    def forward(self, input):\n",
    "        \"\"\"Forward the LeNet.\"\"\"\n",
    "        fealant = self.latent(input)\n",
    "        return fealant"
   ]
  },
  {
   "cell_type": "code",
   "execution_count": 365,
   "metadata": {},
   "outputs": [],
   "source": [
    "''' Custom dataset class '''\n",
    "\n",
    "class CustomDataset(torch.utils.data.Dataset):\n",
    "    def __init__(self, X, Y):\n",
    "        self.X = X\n",
    "        self.Y = Y\n",
    "        self.n = len(X)\n",
    "        \n",
    "    def __len__(self):\n",
    "        return len(self.X)\n",
    "\n",
    "    def __getitem__(self, idx):\n",
    "        return self.X[idx], self.Y[idx]"
   ]
  },
  {
   "cell_type": "code",
   "execution_count": 366,
   "metadata": {},
   "outputs": [],
   "source": [
    "''' Deep Kernel MMD class'''\n",
    "\n",
    "class DK_MMD:\n",
    "    def __init__(self, n, X, Y, n_features=10, hidden_dim=20, out_features=20, lr=5e-5, train_epochs=1000, alpha=0.05, batch_size=32, P=None, Q=None):\n",
    "        self.device = torch.device('cuda' if torch.cuda.is_available() else 'cpu')\n",
    "        self.lr = lr\n",
    "        self.n = n # number of samples in one set\n",
    "        self.batch_size=batch_size\n",
    "        self.alpha = alpha\n",
    "        self.train_epochs = train_epochs\n",
    "        self.losses = torch.zeros(size=(self.train_epochs,)) # collecting loss data\n",
    "        self.P, self.Q = P, Q # DEFAULTS TO NONE\n",
    "        self.oracle = True if self.P is not None else False\n",
    "        self.dtype = torch.float\n",
    "        \n",
    "        if self.oracle:\n",
    "            print('Distribution oracles provided. Will be using oracles instead of samples.')\n",
    "            \n",
    "        # feature map\n",
    "        self.feature_map = ModelLatentF(n_features, hidden_dim, out_features) \n",
    "        self.feature_map = self.feature_map.to(self.device)\n",
    "        \n",
    "        # Training stuff\n",
    "        self.eps_opt = torch.log(MatConvert(np.random.rand(1) * 10 ** (-10), self.device, torch.float))\n",
    "        self.eps_opt.requires_grad = True\n",
    "        self.sigma_q = MatConvert(np.ones(1) * np.sqrt(2*n_features), self.device, torch.float)\n",
    "        self.sigma_q.requires_grad = True\n",
    "        self.sigma_phi = MatConvert(np.ones(1) * np.sqrt(0.005), self.device, torch.float)\n",
    "        self.sigma_phi.requires_grad = True\n",
    "        \n",
    "        print('n:{}\\t d: {}'.format(self.n, n_features))\n",
    "        print('Epsilon: {:.6f}'.format(self.eps_opt.item()))\n",
    "        \n",
    "        self.optimizer = optim.Adam(list(self.feature_map.parameters()) + [self.eps_opt] + [self.sigma_phi] + [self.sigma_q], lr=self.lr)\n",
    "        # initialize data variables.\n",
    "        idx = np.random.choice(len(X), self.n, replace=False)\n",
    "        idy = np.random.choice(len(Y), self.n, replace=False)\n",
    "        \n",
    "        self.dataset = CustomDataset(X[idx], Y[idy])\n",
    "        self.loader = DataLoader(self.dataset, batch_size=self.batch_size, shuffle=True, num_workers=3, pin_memory=True)\n",
    "    \n",
    "    def save(self, save_dir, name):\n",
    "        os.makedirs(save_dir, exist_ok=True)\n",
    "        torch.save(self.feature_map.state_dict(), os.path.join(save_dir, name))\n",
    "    \n",
    "    def load(self, pth):\n",
    "        try: \n",
    "            self.feature_map.load_state_dict(torch.load(pth))\n",
    "            self.feature_map = self.feature_map.to(self.device)\n",
    "        except:\n",
    "            print('Unable to load model, path not found.')\n",
    "            exit(1)\n",
    "    \n",
    "    def train(self):\n",
    "        ''' Trains the deep kernel MMD'''\n",
    "        for e in tqdm(range(self.train_epochs)):            \n",
    "            # Printables\n",
    "            mmd_value_temp = None\n",
    "            mmd_std_temp = None\n",
    "            STAT_u = None\n",
    "            \n",
    "            # if using distribution oracles to train, regen every epoch\n",
    "            if self.oracle:\n",
    "                X, Y = self.P.sample(self.n), self.Q.sample(self.n)\n",
    "                self.dataset = CustomDataset(X, Y)\n",
    "                self.loader = DataLoader(self.dataset, batch_size=self.batch_size, shuffle=True, num_workers=3, pin_memory=True)\n",
    "                \n",
    "            for idx, (batch_X, batch_Y) in enumerate(self.loader):\n",
    "                eps = torch.exp(self.eps_opt) / (1 + torch.exp(self.eps_opt))\n",
    "                sigma_phi = self.sigma_phi ** 2\n",
    "                sigma_q = self.sigma_q ** 2\n",
    "                \n",
    "                S = np.concatenate((batch_X, batch_Y), axis=0)\n",
    "                S = MatConvert(S, self.device, self.dtype)\n",
    "                \n",
    "                model_output = self.feature_map(S)\n",
    "                mmd, var, (Kx, Ky, Kxy) = MMDu(model_output, int(len(S)/2), S, sigma=sigma_q, sigma0=sigma_phi, epsilon=eps)\n",
    "                mmd_value_temp = -1 * (mmd + 1e-8)\n",
    "                mmd_std_temp = torch.sqrt(var + 1e-8) \n",
    "                if mmd_std_temp.item() == 0:\n",
    "                    print('error 1!!')\n",
    "                if np.isnan(mmd_std_temp.item()):\n",
    "                    print('error 2!!')\n",
    "                    nx = Kx.shape[0]\n",
    "                    ny = Ky.shape[0]\n",
    "                    hh = Kx+Ky-Kxy-Kxy.transpose(0,1)\n",
    "                    print()\n",
    "                    print(hh)\n",
    "                    print()\n",
    "                    V1 = torch.dot(hh.sum(1)/ny,hh.sum(1)/ny) / ny\n",
    "                    print(V1)\n",
    "                    print()\n",
    "                    V2 = (hh).sum() / (nx) / nx\n",
    "                    print(V2)\n",
    "                    varEst = 4*(V1 - V2**2) + 1e-8\n",
    "                    print('varEst', varEst)\n",
    "                    print('var:', var)\n",
    "                    stdtemp = torch.sqrt(varEst + 1e-8)\n",
    "                    print(stdtemp)\n",
    "                    print(mmd_value_temp)\n",
    "                    st = torch.div(mmd_value_temp, mmd_std_temp)\n",
    "                    print(st)\n",
    "                STAT_u = torch.div(mmd_value_temp, mmd_std_temp)\n",
    "                self.optimizer.zero_grad()\n",
    "                STAT_u.backward(retain_graph=True)\n",
    "                self.optimizer.step()\n",
    "            if e % 100 ==0:\n",
    "                print(\"mmd: \", -1 * mmd_value_temp.item(), \"mmd_std: \", mmd_std_temp.item(), \"Statistic: \",\n",
    "                    -1 * STAT_u.item())  # ,\"Reg: \", loss1.item()\n",
    "                \n",
    "            \n",
    "        print('Done training!')\n",
    "        return None\n",
    "    \n",
    "    def get_distance(self, X, Y):\n",
    "        eps = torch.exp(self.eps_opt) / (1 + torch.exp(self.eps_opt))\n",
    "        if len(X) > len(Y):\n",
    "            idx = np.random.choice(len(X), len(Y), replace=False)\n",
    "            X = X[idx]\n",
    "        S = np.concatenate((X, Y), axis=0)\n",
    "        S = MatConvert(S, self.device, self.dtype)\n",
    "        model_output = self.feature_map(S)\n",
    "        mmd, _, _ = MMDu(model_output, len(X), S, sigma=self.sigma_q ** 2, sigma0=self.sigma_phi ** 2, epsilon=eps)\n",
    "        mmd = get_item(mmd, True if torch.cuda.is_available() else False)\n",
    "        return mmd\n",
    "    "
   ]
  },
  {
   "cell_type": "markdown",
   "metadata": {},
   "source": [
    "### Load CIFAR10.1 data"
   ]
  },
  {
   "cell_type": "code",
   "execution_count": 367,
   "metadata": {},
   "outputs": [
    {
     "name": "stdout",
     "output_type": "stream",
     "text": [
      "PCA explained variance ratio:  0.8065884494863885\n"
     ]
    }
   ],
   "source": [
    "from sklearn.decomposition import PCA\n",
    "def load_cifar10_512():\n",
    "    with open('data/cifar10_x_train.npy', 'rb') as f:\n",
    "        x_train = np.load(f)\n",
    "    #with open('baselines/data/cifar10_x_test.npy', 'rb') as f:\n",
    "    #    x_test = np.load(f)\n",
    "    with open('data/cifar10_y_train.npy', 'rb') as f:\n",
    "        y_train = np.load(f)\n",
    "    #with open('baselines/data/cifar10_y_test.npy', 'rb') as f:\n",
    "    #    y_test = np.load(f)\n",
    "    return x_train, y_train\n",
    "\n",
    "def load_cifar101_512():\n",
    "    with open('data/cifar101_x_test.npy', 'rb') as f:\n",
    "        x_test = np.load(f)\n",
    "    with open('data/cifar10.1_v6_labels.npy', 'rb') as f:\n",
    "        y_test = np.load(f)\n",
    "    return x_test, y_test\n",
    "\n",
    "def load_and_process_cifar(n_components=10):\n",
    "    # load datasets -------------------------------\n",
    "    x_train, y_train = load_cifar10_512()\n",
    "    x_test, y_test = load_cifar101_512()\n",
    "    \n",
    "    xy_train = np.concatenate([x_train, np.expand_dims(y_train, axis=1)], axis=1)\n",
    "    np.random.shuffle(xy_train)\n",
    "    x_train, y_train = xy_train[:, :512], xy_train[:,512:]\n",
    "    \n",
    "    xy_test = np.concatenate([x_test, np.expand_dims(y_test, axis=1)], axis=1)\n",
    "    np.random.shuffle(xy_test)\n",
    "    x_test, y_test = xy_test[:, :512], xy_test[:,512:]\n",
    "    # PCA -----------------------------------------\n",
    "    pca = PCA(n_components=n_components)\n",
    "    pca.fit(x_train)\n",
    "    x_train_pca, x_test_pca = pca.transform(x_train), pca.transform(x_test)\n",
    "    print('PCA explained variance ratio: ', sum(pca.explained_variance_ratio_))\n",
    "    return x_train_pca, x_test_pca, y_train, y_test\n",
    "    \n",
    "    \n",
    "x_train, x_test, y_train, y_test = load_and_process_cifar(n_components=20)"
   ]
  },
  {
   "cell_type": "code",
   "execution_count": 368,
   "metadata": {},
   "outputs": [],
   "source": [
    "np.random.shuffle(x_test)\n",
    "x_val, x_test = x_test[:1000], x_test[1000:]\n",
    "x_train = x_train[np.random.choice(len(x_train), 1000, replace=False)]"
   ]
  },
  {
   "cell_type": "code",
   "execution_count": null,
   "metadata": {},
   "outputs": [],
   "source": []
  },
  {
   "cell_type": "code",
   "execution_count": 369,
   "metadata": {},
   "outputs": [],
   "source": [
    "mmd_config = {\n",
    "    'n': 1000,  # lower of the two\n",
    "    'X': x_train,\n",
    "    'Y': x_test,\n",
    "    'n_features': 20,\n",
    "    'hidden_dim': 32,\n",
    "    'batch_size': 32,\n",
    "    'lr': 5e-5,\n",
    "    'train_epochs': 500,\n",
    "    'P': None,\n",
    "    'Q': None\n",
    "}"
   ]
  },
  {
   "cell_type": "code",
   "execution_count": 370,
   "metadata": {},
   "outputs": [
    {
     "name": "stdout",
     "output_type": "stream",
     "text": [
      "n:1000\t d: 20\n",
      "Epsilon: -25.962107\n"
     ]
    }
   ],
   "source": [
    "mmd = DK_MMD(**mmd_config)"
   ]
  },
  {
   "cell_type": "code",
   "execution_count": 371,
   "metadata": {},
   "outputs": [
    {
     "name": "stderr",
     "output_type": "stream",
     "text": [
      "  0%|          | 1/500 [00:00<01:06,  7.50it/s]"
     ]
    },
    {
     "name": "stdout",
     "output_type": "stream",
     "text": [
      "mmd:  9.999994610154772e-09 mmd_std:  0.00015780102694407105 Statistic:  6.3370905991178e-05\n"
     ]
    },
    {
     "name": "stderr",
     "output_type": "stream",
     "text": [
      " 20%|██        | 101/500 [00:13<00:53,  7.43it/s]"
     ]
    },
    {
     "name": "stdout",
     "output_type": "stream",
     "text": [
      "mmd:  -2.738575312832836e-05 mmd_std:  0.0004345272609498352 Statistic:  -0.06302424520254135\n"
     ]
    },
    {
     "name": "stderr",
     "output_type": "stream",
     "text": [
      " 40%|████      | 201/500 [00:26<00:39,  7.60it/s]"
     ]
    },
    {
     "name": "stdout",
     "output_type": "stream",
     "text": [
      "mmd:  -0.0018509689252823591 mmd_std:  0.003556147450581193 Statistic:  -0.5204983353614807\n"
     ]
    },
    {
     "name": "stderr",
     "output_type": "stream",
     "text": [
      " 60%|██████    | 301/500 [00:39<00:25,  7.78it/s]"
     ]
    },
    {
     "name": "stdout",
     "output_type": "stream",
     "text": [
      "mmd:  -0.0012094881385564804 mmd_std:  0.005689931567758322 Statistic:  -0.21256637573242188\n"
     ]
    },
    {
     "name": "stderr",
     "output_type": "stream",
     "text": [
      " 80%|████████  | 401/500 [00:52<00:13,  7.54it/s]"
     ]
    },
    {
     "name": "stdout",
     "output_type": "stream",
     "text": [
      "mmd:  4.4057971535949036e-05 mmd_std:  0.000263826921582222 Statistic:  0.16699573397636414\n"
     ]
    },
    {
     "name": "stderr",
     "output_type": "stream",
     "text": [
      "100%|██████████| 500/500 [01:06<00:00,  7.55it/s]"
     ]
    },
    {
     "name": "stdout",
     "output_type": "stream",
     "text": [
      "Done training!\n"
     ]
    },
    {
     "name": "stderr",
     "output_type": "stream",
     "text": [
      "\n"
     ]
    }
   ],
   "source": [
    "mmd.train()"
   ]
  },
  {
   "cell_type": "code",
   "execution_count": 30,
   "metadata": {},
   "outputs": [],
   "source": [
    "mmd.save('.', 'mmd_cifar_weights.pth')"
   ]
  },
  {
   "cell_type": "code",
   "execution_count": 34,
   "metadata": {},
   "outputs": [],
   "source": [
    "mmd.load('baselines/mmd_cifar_weights.pth')"
   ]
  },
  {
   "cell_type": "code",
   "execution_count": 381,
   "metadata": {},
   "outputs": [
    {
     "name": "stderr",
     "output_type": "stream",
     "text": [
      "100%|██████████| 500/500 [00:00<00:00, 972.51it/s]\n"
     ]
    }
   ],
   "source": [
    "from divergence import permutation_test\n",
    "flag, distr, est = permutation_test(mmd, x_train, x_val, 500, 0.05, enable_tqdm=True, max_size=200)"
   ]
  },
  {
   "cell_type": "code",
   "execution_count": 382,
   "metadata": {},
   "outputs": [
    {
     "data": {
      "text/plain": [
       "<matplotlib.lines.Line2D at 0x7ff8fb609730>"
      ]
     },
     "execution_count": 382,
     "metadata": {},
     "output_type": "execute_result"
    },
    {
     "data": {
      "image/png": "[encoded data removed]",
      "text/plain": [
       "<Figure size 640x480 with 1 Axes>"
      ]
     },
     "metadata": {},
     "output_type": "display_data"
    }
   ],
   "source": [
    "import matplotlib.pyplot as plt\n",
    "plt.hist(distr)\n",
    "plt.axvline(est, c='r')"
   ]
  },
  {
   "cell_type": "code",
   "execution_count": 383,
   "metadata": {},
   "outputs": [
    {
     "data": {
      "text/plain": [
       "1"
      ]
     },
     "execution_count": 383,
     "metadata": {},
     "output_type": "execute_result"
    }
   ],
   "source": [
    "flag"
   ]
  },
  {
   "cell_type": "code",
   "execution_count": null,
   "metadata": {},
   "outputs": [],
   "source": []
  },
  {
   "cell_type": "code",
   "execution_count": null,
   "metadata": {},
   "outputs": [],
   "source": []
  }
 ],
 "metadata": {
  "kernelspec": {
   "display_name": "Python 3 (ipykernel)",
   "language": "python",
   "name": "python3"
  },
  "language_info": {
   "codemirror_mode": {
    "name": "ipython",
    "version": 3
   },
   "file_extension": ".py",
   "mimetype": "text/x-python",
   "name": "python",
   "nbconvert_exporter": "python",
   "pygments_lexer": "ipython3",
   "version": "3.9.18"
  }
 },
 "nbformat": 4,
 "nbformat_minor": 2
}
