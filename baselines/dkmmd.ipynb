{
 "cells": [
  {
   "cell_type": "code",
   "execution_count": 4,
   "metadata": {},
   "outputs": [],
   "source": [
    "import numpy as np\n",
    "import os\n",
    "import torch\n",
    "import torch.nn as nn\n",
    "import torch.nn.functional as F \n",
    "import torch.optim as optim\n",
    "from torch.utils.data import DataLoader\n",
    "\n",
    "torch.backends.cudnn.deterministic = True\n",
    "\n",
    "from tqdm import tqdm\n",
    "\n",
    "from baselines.cifar10_loader import load_and_process_cifar"
   ]
  },
  {
   "cell_type": "code",
   "execution_count": 5,
   "metadata": {},
   "outputs": [],
   "source": [
    "def get_item(x, is_cuda):\n",
    "    \"\"\"get the numpy value from a torch tensor.\"\"\"\n",
    "    if is_cuda:\n",
    "        x = x.cpu().detach().numpy()\n",
    "    else:\n",
    "        x = x.detach().numpy()\n",
    "    return x\n",
    "\n",
    "def MatConvert(x, device, dtype):\n",
    "    \"\"\"convert the numpy to a torch tensor.\"\"\"\n",
    "    x = torch.from_numpy(x).to(device, dtype)\n",
    "    return x\n",
    "\n",
    "def Pdist2(x, y):\n",
    "    \"\"\"compute the paired distance between x and y.\"\"\"\n",
    "    x_norm = (x ** 2).sum(1).view(-1, 1)\n",
    "    if y is not None:\n",
    "        y_norm = (y ** 2).sum(1).view(1, -1)\n",
    "    else:\n",
    "        y = x\n",
    "        y_norm = x_norm.view(1, -1)\n",
    "    Pdist = x_norm + y_norm - 2.0 * torch.mm(x, torch.transpose(y, 0, 1))\n",
    "    Pdist[Pdist<0]=0\n",
    "    return Pdist"
   ]
  },
  {
   "cell_type": "code",
   "execution_count": 7,
   "metadata": {},
   "outputs": [],
   "source": [
    "def h1_mean_var_gram(Kx, Ky, Kxy, is_var_computed, use_1sample_U=True):\n",
    "    \"\"\"compute value of MMD and std of MMD using kernel matrix.\"\"\"\n",
    "    Kxxy = torch.cat((Kx,Kxy),1)\n",
    "    Kyxy = torch.cat((Kxy.transpose(0,1),Ky),1)\n",
    "    Kxyxy = torch.cat((Kxxy,Kyxy),0)\n",
    "    nx = Kx.shape[0]\n",
    "    ny = Ky.shape[0]\n",
    "    is_unbiased = True\n",
    "    if is_unbiased:\n",
    "        xx = torch.div((torch.sum(Kx) - torch.sum(torch.diag(Kx))), (nx * (nx - 1)))\n",
    "        yy = torch.div((torch.sum(Ky) - torch.sum(torch.diag(Ky))), (ny * (ny - 1)))\n",
    "        # one-sample U-statistic.\n",
    "        if use_1sample_U:\n",
    "            xy = torch.div((torch.sum(Kxy) - torch.sum(torch.diag(Kxy))), (nx * (ny - 1)))\n",
    "        else:\n",
    "            xy = torch.div(torch.sum(Kxy), (nx * ny))\n",
    "        mmd2 = xx - 2 * xy + yy\n",
    "    else:\n",
    "        xx = torch.div((torch.sum(Kx)), (nx * nx))\n",
    "        yy = torch.div((torch.sum(Ky)), (ny * ny))\n",
    "        # one-sample U-statistic.\n",
    "        if use_1sample_U:\n",
    "            xy = torch.div((torch.sum(Kxy)), (nx * ny))\n",
    "        else:\n",
    "            xy = torch.div(torch.sum(Kxy), (nx * ny))\n",
    "        mmd2 = xx - 2 * xy + yy\n",
    "    if not is_var_computed:\n",
    "        return mmd2, None, Kxyxy\n",
    "    hh = Kx+Ky-Kxy-Kxy.transpose(0,1)\n",
    "    V1 = torch.dot(hh.sum(1)/ny,hh.sum(1)/ny) / ny\n",
    "    V2 = (hh).sum() / (nx) / nx\n",
    "    varEst = 4*(V1 - V2**2)\n",
    "    if  varEst == 0.0:\n",
    "        print('error_var!!'+str(V1))\n",
    "    return mmd2, varEst, Kxyxy"
   ]
  },
  {
   "cell_type": "code",
   "execution_count": 8,
   "metadata": {},
   "outputs": [],
   "source": [
    "def MMDu(Fea, len_s, Fea_org, sigma, sigma0=0.1, epsilon = 10**(-10), is_smooth=True, is_var_computed=True, use_1sample_U=True):\n",
    "    \"\"\"compute value of deep-kernel MMD and std of deep-kernel MMD using merged data.\"\"\"\n",
    "    X = Fea[0:len_s, :] # fetch the sample 1 (features of deep networks)\n",
    "    Y = Fea[len_s:, :] # fetch the sample 2 (features of deep networks)\n",
    "    X_org = Fea_org[0:len_s, :] # fetch the original sample 1\n",
    "    Y_org = Fea_org[len_s:, :] # fetch the original sample 2\n",
    "    L = 1 # generalized Gaussian (if L>1)\n",
    "\n",
    "    nx = X.shape[0]\n",
    "    ny = Y.shape[0]\n",
    "    Dxx = Pdist2(X, X)\n",
    "    Dyy = Pdist2(Y, Y)\n",
    "    Dxy = Pdist2(X, Y)\n",
    "    Dxx_org = Pdist2(X_org, X_org)\n",
    "    Dyy_org = Pdist2(Y_org, Y_org)\n",
    "    Dxy_org = Pdist2(X_org, Y_org)\n",
    "    if is_smooth:\n",
    "        Kx = (1-epsilon) * torch.exp(-(Dxx / sigma0)**L -Dxx_org / sigma) + epsilon * torch.exp(-Dxx_org / sigma)\n",
    "        Ky = (1-epsilon) * torch.exp(-(Dyy / sigma0)**L -Dyy_org / sigma) + epsilon * torch.exp(-Dyy_org / sigma)\n",
    "        Kxy = (1-epsilon) * torch.exp(-(Dxy / sigma0)**L -Dxy_org / sigma) + epsilon * torch.exp(-Dxy_org / sigma)\n",
    "    else:\n",
    "        Kx = torch.exp(-Dxx / sigma0)\n",
    "        Ky = torch.exp(-Dyy / sigma0)\n",
    "        Kxy = torch.exp(-Dxy / sigma0)\n",
    "        \n",
    "    return h1_mean_var_gram(Kx, Ky, Kxy, is_var_computed, use_1sample_U)"
   ]
  },
  {
   "cell_type": "code",
   "execution_count": 9,
   "metadata": {},
   "outputs": [],
   "source": [
    "''' Latent space model '''\n",
    "\n",
    "class ModelLatentF(torch.nn.Module):\n",
    "    \"\"\"define deep networks.\"\"\"\n",
    "    def __init__(self, x_in, H, x_out):\n",
    "        \"\"\"Init latent features.\"\"\"\n",
    "        super(ModelLatentF, self).__init__()\n",
    "        self.restored = False\n",
    "\n",
    "        self.latent = torch.nn.Sequential(\n",
    "            torch.nn.Linear(x_in, H, bias=True),\n",
    "            torch.nn.Softplus(),\n",
    "            torch.nn.Linear(H, H, bias=True),\n",
    "            torch.nn.Softplus(),\n",
    "            torch.nn.Linear(H, H, bias=True),\n",
    "            torch.nn.Softplus(),\n",
    "            torch.nn.Linear(H, x_out, bias=True),\n",
    "        )\n",
    "    def forward(self, input):\n",
    "        \"\"\"Forward the LeNet.\"\"\"\n",
    "        fealant = self.latent(input)\n",
    "        return fealant"
   ]
  },
  {
   "cell_type": "code",
   "execution_count": 10,
   "metadata": {},
   "outputs": [],
   "source": [
    "''' Custom dataset class '''\n",
    "\n",
    "class CustomDataset(torch.utils.data.Dataset):\n",
    "    def __init__(self, X, Y):\n",
    "        self.X = X\n",
    "        self.Y = Y\n",
    "        self.n = len(X)\n",
    "        \n",
    "    def __len__(self):\n",
    "        return len(self.X)\n",
    "\n",
    "    def __getitem__(self, idx):\n",
    "        return self.X[idx], self.Y[idx]"
   ]
  },
  {
   "cell_type": "code",
   "execution_count": 24,
   "metadata": {},
   "outputs": [],
   "source": [
    "''' Deep Kernel MMD class'''\n",
    "\n",
    "class DK_MMD:\n",
    "    def __init__(self, n, X, Y, n_features=10, hidden_dim=20, out_features=20, lr=5e-5, train_epochs=1000, alpha=0.05, batch_size=32, P=None, Q=None):\n",
    "        self.device = torch.device('cuda' if torch.cuda.is_available() else 'cpu')\n",
    "        self.lr = lr\n",
    "        self.n = n # number of samples in one set\n",
    "        self.batch_size=batch_size\n",
    "        self.alpha = alpha\n",
    "        self.train_epochs = train_epochs\n",
    "        self.losses = torch.zeros(size=(self.train_epochs,)) # collecting loss data\n",
    "        self.P, self.Q = P, Q # DEFAULTS TO NONE\n",
    "        self.oracle = True if self.P is not None else False\n",
    "        self.dtype = torch.float\n",
    "        \n",
    "        if self.oracle:\n",
    "            print('Distribution oracles provided. Will be using oracles instead of samples.')\n",
    "            \n",
    "        # feature map\n",
    "        self.feature_map = ModelLatentF(n_features, hidden_dim, out_features) \n",
    "        self.feature_map = self.feature_map.to(self.device)\n",
    "        \n",
    "        # Training stuff\n",
    "        self.eps_opt = torch.log(MatConvert(np.random.rand(1) * 10 ** (-10), self.device, torch.float))\n",
    "        self.eps_opt.requires_grad = True\n",
    "        self.sigma_q = MatConvert(np.ones(1) * np.sqrt(2*n_features), self.device, torch.float)\n",
    "        self.sigma_q.requires_grad = True\n",
    "        self.sigma_phi = MatConvert(np.ones(1) * np.sqrt(0.005), self.device, torch.float)\n",
    "        self.sigma_phi.requires_grad = True\n",
    "        \n",
    "        print('n:{}\\t d: {}'.format(self.n, n_features))\n",
    "        print('Epsilon: {:.6f}'.format(self.eps_opt.item()))\n",
    "        \n",
    "        self.optimizer = optim.Adam(list(self.feature_map.parameters()) + [self.eps_opt] + [self.sigma_phi] + [self.sigma_q], lr=self.lr)\n",
    "        # initialize data variables.\n",
    "        idx = np.random.choice(len(X), self.n, replace=False)\n",
    "        idy = np.random.choice(len(Y), self.n, replace=False)\n",
    "        \n",
    "        self.dataset = CustomDataset(X[idx], Y[idy])\n",
    "        self.loader = DataLoader(self.dataset, batch_size=self.batch_size, shuffle=True, num_workers=3, pin_memory=True)\n",
    "    \n",
    "    def save(self, save_dir, name):\n",
    "        os.makedirs(save_dir, exist_ok=True)\n",
    "        torch.save(self.feature_map.state_dict(), os.path.join(save_dir, name))\n",
    "    \n",
    "    def load(self, pth):\n",
    "        try: \n",
    "            self.feature_map.load_state_dict(torch.load(pth))\n",
    "            self.feature_map = self.feature_map.to(self.device)\n",
    "        except:\n",
    "            print('Unable to load model, path not found.')\n",
    "            exit(1)\n",
    "    \n",
    "    def train(self):\n",
    "        ''' Trains the deep kernel MMD'''\n",
    "        for e in tqdm(range(self.train_epochs)):            \n",
    "            # Printables\n",
    "            mmd_value_temp = None\n",
    "            mmd_std_temp = None\n",
    "            STAT_u = None\n",
    "            \n",
    "            # if using distribution oracles to train, regen every epoch\n",
    "            if self.oracle:\n",
    "                X, Y = self.P.sample(self.n), self.Q.sample(self.n)\n",
    "                self.dataset = CustomDataset(X, Y)\n",
    "                self.loader = DataLoader(self.dataset, batch_size=self.batch_size, shuffle=True, num_workers=3, pin_memory=True)\n",
    "                \n",
    "            for idx, (batch_X, batch_Y) in enumerate(self.loader):\n",
    "                eps = torch.exp(self.eps_opt) / (1 + torch.exp(self.eps_opt))\n",
    "                sigma_phi = self.sigma_phi ** 2\n",
    "                sigma_q = self.sigma_q ** 2\n",
    "                S = np.concatenate((batch_X, batch_Y), axis=0)\n",
    "                S = MatConvert(S, self.device, self.dtype)\n",
    "                model_output = self.feature_map(S)\n",
    "                mmd, var, _ = MMDu(model_output, int(len(S)/2), S, sigma=sigma_q, sigma0=sigma_phi, epsilon=eps)\n",
    "                mmd_value_temp = -1 * (mmd + 1e-8)\n",
    "                mmd_std_temp = torch.sqrt(var + 1e-8)\n",
    "                if mmd_std_temp.item() == 0:\n",
    "                    print('error 1!!')\n",
    "                if np.isnan(mmd_std_temp.item()):\n",
    "                    print('error 2!!')\n",
    "                STAT_u = torch.div(mmd_value_temp, mmd_std_temp)\n",
    "                self.optimizer.zero_grad()\n",
    "                STAT_u.backward(retain_graph=True)\n",
    "                self.optimizer.step()\n",
    "            if e % 100 ==0:\n",
    "                print(\"mmd: \", -1 * mmd_value_temp.item(), \"mmd_std: \", mmd_std_temp.item(), \"Statistic: \",\n",
    "                    -1 * STAT_u.item())  # ,\"Reg: \", loss1.item()\n",
    "                \n",
    "            \n",
    "        print('Done training!')\n",
    "        return None\n",
    "    \n",
    "    def get_distance(self, X, Y):\n",
    "        eps = torch.exp(self.eps_opt) / (1 + torch.exp(self.eps_opt))\n",
    "        if len(X) > len(Y):\n",
    "            idx = np.random.choice(len(X), len(Y), replace=False)\n",
    "            X = X[idx]\n",
    "        S = np.concatenate((X, Y), axis=0)\n",
    "        S = MatConvert(S, self.device, self.dtype)\n",
    "        model_output = self.feature_map(S)\n",
    "        mmd, _, _ = MMDu(model_output, len(X), S, sigma=self.sigma_q ** 2, sigma0=self.sigma_phi ** 2, epsilon=eps)\n",
    "        mmd = get_item(mmd, True if torch.cuda.is_available() else False)\n",
    "        return mmd\n",
    "    "
   ]
  },
  {
   "cell_type": "markdown",
   "metadata": {},
   "source": [
    "### Load CIFAR10.1 data"
   ]
  },
  {
   "cell_type": "code",
   "execution_count": 14,
   "metadata": {},
   "outputs": [
    {
     "name": "stdout",
     "output_type": "stream",
     "text": [
      "PCA explained variance ratio:  0.8065923235518608\n"
     ]
    }
   ],
   "source": [
    "x_train, x_test, y_train, y_test = load_and_process_cifar(n_components=20)"
   ]
  },
  {
   "cell_type": "code",
   "execution_count": 22,
   "metadata": {},
   "outputs": [],
   "source": [
    "mmd_config = {\n",
    "    'n': len(x_test),  # lower of the two\n",
    "    'X': x_train,\n",
    "    'Y': x_test,\n",
    "    'n_features': 20,\n",
    "    'hidden_dim': 32,\n",
    "    'lr': 1e-4,\n",
    "    'train_epochs': 500,\n",
    "    'P': None,\n",
    "    'Q': None\n",
    "}"
   ]
  },
  {
   "cell_type": "code",
   "execution_count": 25,
   "metadata": {},
   "outputs": [
    {
     "name": "stdout",
     "output_type": "stream",
     "text": [
      "n:2000\t d: 20\n",
      "Epsilon: -23.411371\n"
     ]
    }
   ],
   "source": [
    "mmd = DK_MMD(**mmd_config)"
   ]
  },
  {
   "cell_type": "code",
   "execution_count": 26,
   "metadata": {},
   "outputs": [
    {
     "name": "stderr",
     "output_type": "stream",
     "text": [
      "  0%|          | 0/500 [00:00<?, ?it/s]"
     ]
    },
    {
     "name": "stdout",
     "output_type": "stream",
     "text": [
      "error_var!!tensor(0.0039, device='cuda:0', grad_fn=<DivBackward0>)\n"
     ]
    },
    {
     "name": "stderr",
     "output_type": "stream",
     "text": [
      "  0%|          | 1/500 [00:00<07:53,  1.05it/s]"
     ]
    },
    {
     "name": "stdout",
     "output_type": "stream",
     "text": [
      "mmd:  2.7001860871678218e-05 mmd_std:  0.00015780102694407105 Statistic:  0.17111334204673767\n"
     ]
    },
    {
     "name": "stderr",
     "output_type": "stream",
     "text": [
      "  0%|          | 2/500 [00:01<07:25,  1.12it/s]"
     ]
    },
    {
     "name": "stdout",
     "output_type": "stream",
     "text": [
      "error_var!!tensor(0.0039, device='cuda:0', grad_fn=<DivBackward0>)\n"
     ]
    },
    {
     "name": "stderr",
     "output_type": "stream",
     "text": [
      "  1%|          | 3/500 [00:02<07:16,  1.14it/s]"
     ]
    },
    {
     "name": "stdout",
     "output_type": "stream",
     "text": [
      "error_var!!tensor(0.0039, device='cuda:0', grad_fn=<DivBackward0>)\n"
     ]
    },
    {
     "name": "stderr",
     "output_type": "stream",
     "text": [
      "  1%|          | 4/500 [00:03<07:13,  1.15it/s]"
     ]
    },
    {
     "name": "stdout",
     "output_type": "stream",
     "text": [
      "error_var!!tensor(0.0039, device='cuda:0', grad_fn=<DivBackward0>)\n"
     ]
    },
    {
     "name": "stderr",
     "output_type": "stream",
     "text": [
      "  1%|          | 5/500 [00:04<07:12,  1.15it/s]"
     ]
    },
    {
     "name": "stdout",
     "output_type": "stream",
     "text": [
      "error_var!!tensor(0.0039, device='cuda:0', grad_fn=<DivBackward0>)\n"
     ]
    },
    {
     "name": "stderr",
     "output_type": "stream",
     "text": [
      "  2%|▏         | 11/500 [00:09<07:00,  1.16it/s]"
     ]
    },
    {
     "name": "stdout",
     "output_type": "stream",
     "text": [
      "error_var!!tensor(0.0156, device='cuda:0', grad_fn=<DivBackward0>)\n"
     ]
    },
    {
     "name": "stderr",
     "output_type": "stream",
     "text": [
      " 20%|██        | 101/500 [01:28<06:23,  1.04it/s]"
     ]
    },
    {
     "name": "stdout",
     "output_type": "stream",
     "text": [
      "mmd:  0.0011387683916836977 mmd_std:  0.009525138884782791 Statistic:  0.11955399066209793\n"
     ]
    },
    {
     "name": "stderr",
     "output_type": "stream",
     "text": [
      " 40%|████      | 201/500 [02:57<04:14,  1.18it/s]"
     ]
    },
    {
     "name": "stdout",
     "output_type": "stream",
     "text": [
      "mmd:  -0.0004990394227206707 mmd_std:  0.004922206047922373 Statistic:  -0.10138531774282455\n"
     ]
    },
    {
     "name": "stderr",
     "output_type": "stream",
     "text": [
      " 60%|██████    | 301/500 [04:26<02:54,  1.14it/s]"
     ]
    },
    {
     "name": "stdout",
     "output_type": "stream",
     "text": [
      "mmd:  0.0040547591634094715 mmd_std:  0.01397007703781128 Statistic:  0.29024600982666016\n"
     ]
    },
    {
     "name": "stderr",
     "output_type": "stream",
     "text": [
      " 80%|████████  | 401/500 [05:50<01:20,  1.22it/s]"
     ]
    },
    {
     "name": "stdout",
     "output_type": "stream",
     "text": [
      "mmd:  0.0022892665583640337 mmd_std:  0.005754383746534586 Statistic:  0.3978300094604492\n"
     ]
    },
    {
     "name": "stderr",
     "output_type": "stream",
     "text": [
      "100%|██████████| 500/500 [07:10<00:00,  1.16it/s]"
     ]
    },
    {
     "name": "stdout",
     "output_type": "stream",
     "text": [
      "Done training!\n"
     ]
    },
    {
     "name": "stderr",
     "output_type": "stream",
     "text": [
      "\n"
     ]
    }
   ],
   "source": [
    "mmd.train()"
   ]
  },
  {
   "cell_type": "code",
   "execution_count": 30,
   "metadata": {},
   "outputs": [],
   "source": [
    "mmd.save('.', 'mmd_cifar_weights.pth')"
   ]
  },
  {
   "cell_type": "code",
   "execution_count": 34,
   "metadata": {},
   "outputs": [],
   "source": [
    "mmd.load('baselines/mmd_cifar_weights.pth')"
   ]
  },
  {
   "cell_type": "code",
   "execution_count": 46,
   "metadata": {},
   "outputs": [
    {
     "name": "stderr",
     "output_type": "stream",
     "text": [
      "100%|██████████| 500/500 [00:01<00:00, 301.92it/s]\n"
     ]
    }
   ],
   "source": [
    "from baselines.divergence import permutation_test\n",
    "flag, distr, est = permutation_test(mmd, x_train, x_test, 500, 0.05, enable_tqdm=True, max_size=50)"
   ]
  },
  {
   "cell_type": "code",
   "execution_count": 47,
   "metadata": {},
   "outputs": [
    {
     "data": {
      "text/plain": [
       "<matplotlib.lines.Line2D at 0x7f1c9171f460>"
      ]
     },
     "execution_count": 47,
     "metadata": {},
     "output_type": "execute_result"
    },
    {
     "data": {
      "image/png": "[encoded data removed]",
      "text/plain": [
       "<Figure size 640x480 with 1 Axes>"
      ]
     },
     "metadata": {},
     "output_type": "display_data"
    }
   ],
   "source": [
    "import matplotlib.pyplot as plt\n",
    "plt.hist(distr)\n",
    "plt.axvline(est, c='r')"
   ]
  },
  {
   "cell_type": "code",
   "execution_count": 48,
   "metadata": {},
   "outputs": [
    {
     "data": {
      "text/plain": [
       "1"
      ]
     },
     "execution_count": 48,
     "metadata": {},
     "output_type": "execute_result"
    }
   ],
   "source": [
    "flag"
   ]
  },
  {
   "cell_type": "code",
   "execution_count": null,
   "metadata": {},
   "outputs": [],
   "source": []
  }
 ],
 "metadata": {
  "kernelspec": {
   "display_name": "Python 3 (ipykernel)",
   "language": "python",
   "name": "python3"
  }
 },
 "nbformat": 4,
 "nbformat_minor": 2
}
