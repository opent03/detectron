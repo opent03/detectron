{
 "cells": [
  {
   "cell_type": "code",
   "execution_count": 1,
   "metadata": {},
   "outputs": [],
   "source": [
    "import numpy as np\n",
    "from scipy import stats\n",
    "import torchvision\n",
    "import torch\n",
    "from torchvision import transforms\n",
    "\n",
    "import torch\n",
    "import torch.nn as nn\n",
    "import torch.nn.functional as F \n",
    "import torch.optim as optim\n",
    "from torch.utils.data import DataLoader\n",
    "import multiprocessing\n",
    "from tqdm import tqdm\n",
    "\n",
    "MEAN, STD = (0.4914, 0.4822, 0.4465), (0.2023, 0.1994, 0.2010)"
   ]
  },
  {
   "cell_type": "code",
   "execution_count": 51,
   "metadata": {},
   "outputs": [],
   "source": [
    "transform = transforms.Compose([\n",
    "        transforms.ToTensor(),\n",
    "        transforms.Normalize(MEAN, STD)  \n",
    "    ])"
   ]
  },
  {
   "cell_type": "code",
   "execution_count": 52,
   "metadata": {},
   "outputs": [
    {
     "name": "stdout",
     "output_type": "stream",
     "text": [
      "Files already downloaded and verified\n",
      "Files already downloaded and verified\n"
     ]
    }
   ],
   "source": [
    "train = torchvision.datasets.CIFAR10(root='./data', train=True, download=True, transform=transform)\n",
    "test = torchvision.datasets.CIFAR10(root='./data', train=False, download=True, transform=transform)\n"
   ]
  },
  {
   "cell_type": "markdown",
   "metadata": {},
   "source": [
    "## Finetune on cifar10 to get representation"
   ]
  },
  {
   "cell_type": "code",
   "execution_count": 79,
   "metadata": {},
   "outputs": [
    {
     "name": "stderr",
     "output_type": "stream",
     "text": [
      "/home/viet/anaconda3/envs/dl/lib/python3.9/site-packages/torchvision/models/_utils.py:208: UserWarning: The parameter 'pretrained' is deprecated since 0.13 and may be removed in the future, please use 'weights' instead.\n",
      "  warnings.warn(\n",
      "/home/viet/anaconda3/envs/dl/lib/python3.9/site-packages/torchvision/models/_utils.py:223: UserWarning: Arguments other than a weight enum or `None` for 'weights' are deprecated since 0.13 and may be removed in the future. The current behavior is equivalent to passing `weights=ResNet18_Weights.IMAGENET1K_V1`. You can also use `weights=ResNet18_Weights.DEFAULT` to get the most up-to-date weights.\n",
      "  warnings.warn(msg)\n"
     ]
    }
   ],
   "source": [
    "resnet18 = torchvision.models.resnet18(pretrained=True)\n",
    "resnet18.fc = nn.Linear(resnet18.fc.in_features, 10)"
   ]
  },
  {
   "cell_type": "code",
   "execution_count": 54,
   "metadata": {},
   "outputs": [],
   "source": [
    "batch_size = 64\n",
    "learning_rate=5e-5\n",
    "epochs = 100"
   ]
  },
  {
   "cell_type": "code",
   "execution_count": 59,
   "metadata": {},
   "outputs": [],
   "source": [
    "trainloader = DataLoader(train, batch_size=batch_size, shuffle=True, num_workers=multiprocessing.cpu_count())\n",
    "testloader = DataLoader(test, batch_size=batch_size, shuffle=True, num_workers=multiprocessing.cpu_count())"
   ]
  },
  {
   "cell_type": "code",
   "execution_count": 60,
   "metadata": {},
   "outputs": [],
   "source": [
    "optimizer = optim.AdamW(resnet18.parameters(), lr=learning_rate)\n",
    "criterion = nn.CrossEntropyLoss()"
   ]
  },
  {
   "cell_type": "code",
   "execution_count": 62,
   "metadata": {},
   "outputs": [
    {
     "name": "stderr",
     "output_type": "stream",
     "text": [
      " 48%|████▊     | 375/782 [00:02<00:02, 141.49it/s]\n"
     ]
    },
    {
     "ename": "KeyboardInterrupt",
     "evalue": "",
     "output_type": "error",
     "traceback": [
      "\u001b[0;31m---------------------------------------------------------------------------\u001b[0m",
      "\u001b[0;31mKeyboardInterrupt\u001b[0m                         Traceback (most recent call last)",
      "Cell \u001b[0;32mIn[62], line 6\u001b[0m\n\u001b[1;32m      4\u001b[0m model\u001b[38;5;241m.\u001b[39mtrain()\n\u001b[1;32m      5\u001b[0m \u001b[38;5;28;01mfor\u001b[39;00m batch_idx, (imgs, labels) \u001b[38;5;129;01min\u001b[39;00m \u001b[38;5;28menumerate\u001b[39m(tqdm(trainloader)):\n\u001b[0;32m----> 6\u001b[0m     imgs, labels \u001b[38;5;241m=\u001b[39m \u001b[43mimgs\u001b[49m\u001b[38;5;241;43m.\u001b[39;49m\u001b[43mcuda\u001b[49m\u001b[43m(\u001b[49m\u001b[43m)\u001b[49m, labels\u001b[38;5;241m.\u001b[39mcuda()\n\u001b[1;32m      7\u001b[0m     output \u001b[38;5;241m=\u001b[39m model(imgs)\n\u001b[1;32m      8\u001b[0m     optimizer\u001b[38;5;241m.\u001b[39mzero_grad()\n",
      "\u001b[0;31mKeyboardInterrupt\u001b[0m: "
     ]
    }
   ],
   "source": [
    "patience = 0\n",
    "best = 0\n",
    "for epoch in range(epochs):\n",
    "    model.train()\n",
    "    for batch_idx, (imgs, labels) in enumerate(tqdm(trainloader)):\n",
    "        imgs, labels = imgs.cuda(), labels.cuda()\n",
    "        output = model(imgs)\n",
    "        optimizer.zero_grad()\n",
    "        loss = criterion(output, labels)\n",
    "        loss.backward()\n",
    "        optimizer.step()\n",
    "    \n",
    "    model.eval()\n",
    "    count = 0\n",
    "    acc = 0 \n",
    "    with torch.no_grad():\n",
    "        for imgs, labels in tqdm(testloader):\n",
    "            imgs, labels = imgs.cuda(), labels.cuda()\n",
    "            output = model(imgs)\n",
    "            preds = torch.argmax(output, 1)\n",
    "            acc += torch.sum(preds == labels)\n",
    "            count += len(labels)\n",
    "    acc = (acc/count).item()\n",
    "    if acc > best:\n",
    "        best = acc\n",
    "        patience = 0\n",
    "    else:\n",
    "        patience += 1\n",
    "    print(acc)\n",
    "    if patience > 5:\n",
    "        print(best)\n",
    "        break"
   ]
  },
  {
   "cell_type": "code",
   "execution_count": null,
   "metadata": {},
   "outputs": [],
   "source": []
  },
  {
   "cell_type": "code",
   "execution_count": null,
   "metadata": {},
   "outputs": [],
   "source": [
    "rep = torch.nn.Sequential(*list(model.children())[:-1])"
   ]
  },
  {
   "cell_type": "code",
   "execution_count": null,
   "metadata": {},
   "outputs": [],
   "source": [
    "rep"
   ]
  },
  {
   "cell_type": "code",
   "execution_count": null,
   "metadata": {},
   "outputs": [],
   "source": [
    "torch.save(rep.state_dict(), 'resnet18_cifar10.pth')"
   ]
  },
  {
   "cell_type": "code",
   "execution_count": 84,
   "metadata": {},
   "outputs": [],
   "source": [
    "def get_rep(model, dataset):\n",
    "    model = model.cuda()\n",
    "    model.eval()\n",
    "    new_data = np.zeros((len(dataset), 512))\n",
    "    i = 0\n",
    "    for features, label in tqdm(dataset):\n",
    "        features = features.unsqueeze(0).cuda()\n",
    "        rep = model(features)\n",
    "        rep = torch.flatten(rep)\n",
    "        new_data[i] = rep.cpu().detach().numpy()\n",
    "        i += 1\n",
    "    return new_data"
   ]
  },
  {
   "cell_type": "code",
   "execution_count": null,
   "metadata": {},
   "outputs": [],
   "source": [
    "x = get_rep(rep, train)"
   ]
  },
  {
   "cell_type": "code",
   "execution_count": null,
   "metadata": {},
   "outputs": [],
   "source": [
    "x_ = get_rep(rep, test)"
   ]
  },
  {
   "cell_type": "code",
   "execution_count": null,
   "metadata": {},
   "outputs": [],
   "source": [
    "with open('data/cifar10_x_train.npy', 'wb') as f:\n",
    "    np.save(f, x)\n",
    "with open('data/cifar10_x_test.npy', 'wb') as f:\n",
    "    np.save(f, x_)\n",
    "with open('data/cifar10_y_train.npy', 'wb') as f:\n",
    "    np.save(f, np.array(train.targets))\n",
    "with open('data/cifar10_y_test.npy', 'wb') as f:\n",
    "    np.save(f, np.array(test.targets))"
   ]
  },
  {
   "cell_type": "markdown",
   "metadata": {},
   "source": [
    "## CIFAR-10.1"
   ]
  },
  {
   "cell_type": "code",
   "execution_count": 92,
   "metadata": {},
   "outputs": [
    {
     "data": {
      "text/plain": [
       "Sequential(\n",
       "  (0): Conv2d(3, 64, kernel_size=(7, 7), stride=(2, 2), padding=(3, 3), bias=False)\n",
       "  (1): BatchNorm2d(64, eps=1e-05, momentum=0.1, affine=True, track_running_stats=True)\n",
       "  (2): ReLU(inplace=True)\n",
       "  (3): MaxPool2d(kernel_size=3, stride=2, padding=1, dilation=1, ceil_mode=False)\n",
       "  (4): Sequential(\n",
       "    (0): BasicBlock(\n",
       "      (conv1): Conv2d(64, 64, kernel_size=(3, 3), stride=(1, 1), padding=(1, 1), bias=False)\n",
       "      (bn1): BatchNorm2d(64, eps=1e-05, momentum=0.1, affine=True, track_running_stats=True)\n",
       "      (relu): ReLU(inplace=True)\n",
       "      (conv2): Conv2d(64, 64, kernel_size=(3, 3), stride=(1, 1), padding=(1, 1), bias=False)\n",
       "      (bn2): BatchNorm2d(64, eps=1e-05, momentum=0.1, affine=True, track_running_stats=True)\n",
       "    )\n",
       "    (1): BasicBlock(\n",
       "      (conv1): Conv2d(64, 64, kernel_size=(3, 3), stride=(1, 1), padding=(1, 1), bias=False)\n",
       "      (bn1): BatchNorm2d(64, eps=1e-05, momentum=0.1, affine=True, track_running_stats=True)\n",
       "      (relu): ReLU(inplace=True)\n",
       "      (conv2): Conv2d(64, 64, kernel_size=(3, 3), stride=(1, 1), padding=(1, 1), bias=False)\n",
       "      (bn2): BatchNorm2d(64, eps=1e-05, momentum=0.1, affine=True, track_running_stats=True)\n",
       "    )\n",
       "  )\n",
       "  (5): Sequential(\n",
       "    (0): BasicBlock(\n",
       "      (conv1): Conv2d(64, 128, kernel_size=(3, 3), stride=(2, 2), padding=(1, 1), bias=False)\n",
       "      (bn1): BatchNorm2d(128, eps=1e-05, momentum=0.1, affine=True, track_running_stats=True)\n",
       "      (relu): ReLU(inplace=True)\n",
       "      (conv2): Conv2d(128, 128, kernel_size=(3, 3), stride=(1, 1), padding=(1, 1), bias=False)\n",
       "      (bn2): BatchNorm2d(128, eps=1e-05, momentum=0.1, affine=True, track_running_stats=True)\n",
       "      (downsample): Sequential(\n",
       "        (0): Conv2d(64, 128, kernel_size=(1, 1), stride=(2, 2), bias=False)\n",
       "        (1): BatchNorm2d(128, eps=1e-05, momentum=0.1, affine=True, track_running_stats=True)\n",
       "      )\n",
       "    )\n",
       "    (1): BasicBlock(\n",
       "      (conv1): Conv2d(128, 128, kernel_size=(3, 3), stride=(1, 1), padding=(1, 1), bias=False)\n",
       "      (bn1): BatchNorm2d(128, eps=1e-05, momentum=0.1, affine=True, track_running_stats=True)\n",
       "      (relu): ReLU(inplace=True)\n",
       "      (conv2): Conv2d(128, 128, kernel_size=(3, 3), stride=(1, 1), padding=(1, 1), bias=False)\n",
       "      (bn2): BatchNorm2d(128, eps=1e-05, momentum=0.1, affine=True, track_running_stats=True)\n",
       "    )\n",
       "  )\n",
       "  (6): Sequential(\n",
       "    (0): BasicBlock(\n",
       "      (conv1): Conv2d(128, 256, kernel_size=(3, 3), stride=(2, 2), padding=(1, 1), bias=False)\n",
       "      (bn1): BatchNorm2d(256, eps=1e-05, momentum=0.1, affine=True, track_running_stats=True)\n",
       "      (relu): ReLU(inplace=True)\n",
       "      (conv2): Conv2d(256, 256, kernel_size=(3, 3), stride=(1, 1), padding=(1, 1), bias=False)\n",
       "      (bn2): BatchNorm2d(256, eps=1e-05, momentum=0.1, affine=True, track_running_stats=True)\n",
       "      (downsample): Sequential(\n",
       "        (0): Conv2d(128, 256, kernel_size=(1, 1), stride=(2, 2), bias=False)\n",
       "        (1): BatchNorm2d(256, eps=1e-05, momentum=0.1, affine=True, track_running_stats=True)\n",
       "      )\n",
       "    )\n",
       "    (1): BasicBlock(\n",
       "      (conv1): Conv2d(256, 256, kernel_size=(3, 3), stride=(1, 1), padding=(1, 1), bias=False)\n",
       "      (bn1): BatchNorm2d(256, eps=1e-05, momentum=0.1, affine=True, track_running_stats=True)\n",
       "      (relu): ReLU(inplace=True)\n",
       "      (conv2): Conv2d(256, 256, kernel_size=(3, 3), stride=(1, 1), padding=(1, 1), bias=False)\n",
       "      (bn2): BatchNorm2d(256, eps=1e-05, momentum=0.1, affine=True, track_running_stats=True)\n",
       "    )\n",
       "  )\n",
       "  (7): Sequential(\n",
       "    (0): BasicBlock(\n",
       "      (conv1): Conv2d(256, 512, kernel_size=(3, 3), stride=(2, 2), padding=(1, 1), bias=False)\n",
       "      (bn1): BatchNorm2d(512, eps=1e-05, momentum=0.1, affine=True, track_running_stats=True)\n",
       "      (relu): ReLU(inplace=True)\n",
       "      (conv2): Conv2d(512, 512, kernel_size=(3, 3), stride=(1, 1), padding=(1, 1), bias=False)\n",
       "      (bn2): BatchNorm2d(512, eps=1e-05, momentum=0.1, affine=True, track_running_stats=True)\n",
       "      (downsample): Sequential(\n",
       "        (0): Conv2d(256, 512, kernel_size=(1, 1), stride=(2, 2), bias=False)\n",
       "        (1): BatchNorm2d(512, eps=1e-05, momentum=0.1, affine=True, track_running_stats=True)\n",
       "      )\n",
       "    )\n",
       "    (1): BasicBlock(\n",
       "      (conv1): Conv2d(512, 512, kernel_size=(3, 3), stride=(1, 1), padding=(1, 1), bias=False)\n",
       "      (bn1): BatchNorm2d(512, eps=1e-05, momentum=0.1, affine=True, track_running_stats=True)\n",
       "      (relu): ReLU(inplace=True)\n",
       "      (conv2): Conv2d(512, 512, kernel_size=(3, 3), stride=(1, 1), padding=(1, 1), bias=False)\n",
       "      (bn2): BatchNorm2d(512, eps=1e-05, momentum=0.1, affine=True, track_running_stats=True)\n",
       "    )\n",
       "  )\n",
       "  (8): AdaptiveAvgPool2d(output_size=(1, 1))\n",
       ")"
      ]
     },
     "execution_count": 92,
     "metadata": {},
     "output_type": "execute_result"
    }
   ],
   "source": [
    "# load representation\n",
    "model = torchvision.models.resnet18()\n",
    "model = torch.nn.Sequential(*list(model.children())[:-1])\n",
    "model.load_state_dict(torch.load('resnet18_cifar10.pth'))\n",
    "model.eval()"
   ]
  },
  {
   "cell_type": "code",
   "execution_count": 93,
   "metadata": {},
   "outputs": [],
   "source": [
    "with open('data/cifar10.1_v6_data.npy', 'rb') as f:\n",
    "    cifar101_x_test = np.load(f)\n",
    "with open('data/cifar10.1_v6_labels.npy', 'rb') as f:\n",
    "    cifar101_y_test = np.load(f)\n",
    "transform = transforms.Compose([\n",
    "        transforms.ToTensor(),\n",
    "        transforms.Normalize(MEAN, STD)  \n",
    "    ])"
   ]
  },
  {
   "cell_type": "code",
   "execution_count": 94,
   "metadata": {},
   "outputs": [],
   "source": [
    "from torch.utils.data import Dataset, DataLoader\n",
    "class Cifar101(Dataset):\n",
    "    def __init__(self, images, labels, transform=None):\n",
    "        self.data = images\n",
    "        self.labels = labels\n",
    "        self.transform = transform\n",
    "    \n",
    "    def __len__(self):\n",
    "        return len(self.labels)\n",
    "\n",
    "    def __getitem__(self, idx):\n",
    "        image = self.data[idx]\n",
    "        if self.transform:\n",
    "            image = self.transform(image)\n",
    "        return image, self.labels[idx]\n",
    "    "
   ]
  },
  {
   "cell_type": "code",
   "execution_count": 95,
   "metadata": {},
   "outputs": [],
   "source": [
    "dataset = Cifar101(cifar101_x_test, cifar101_y_test, transform=transform)"
   ]
  },
  {
   "cell_type": "code",
   "execution_count": 99,
   "metadata": {},
   "outputs": [
    {
     "name": "stderr",
     "output_type": "stream",
     "text": [
      "100%|██████████| 2000/2000 [00:01<00:00, 1047.07it/s]\n"
     ]
    }
   ],
   "source": [
    "cifar101_512 = get_rep(model, dataset)"
   ]
  },
  {
   "cell_type": "code",
   "execution_count": 101,
   "metadata": {},
   "outputs": [],
   "source": [
    "with open('data/cifar101_x_test.npy', 'wb') as f:\n",
    "    np.save(f, cifar101_512)"
   ]
  },
  {
   "cell_type": "markdown",
   "metadata": {},
   "source": [
    "### Load cifars"
   ]
  },
  {
   "cell_type": "code",
   "execution_count": 104,
   "metadata": {},
   "outputs": [],
   "source": [
    "def load_cifar10_512():\n",
    "    with open('data/cifar10_x_train.npy', 'rb') as f:\n",
    "        x_train = np.load(f)\n",
    "    with open('data/cifar10_x_test.npy', 'rb') as f:\n",
    "        x_test = np.load(f)\n",
    "    with open('data/cifar10_y_train.npy', 'rb') as f:\n",
    "        y_train = np.load(f)\n",
    "    with open('data/cifar10_y_test.npy', 'rb') as f:\n",
    "        y_test = np.load(f)\n",
    "    return x_train, x_test, y_train, y_test"
   ]
  },
  {
   "cell_type": "code",
   "execution_count": 105,
   "metadata": {},
   "outputs": [],
   "source": [
    "def load_cifar101_512():\n",
    "    with open('data/cifar101_x_test.npy', 'rb') as f:\n",
    "        x_test = np.load(f)\n",
    "    with open('data/cifar10.1_v6_labels.npy', 'rb') as f:\n",
    "        y_test = np.load(f)\n",
    "    return x_test, y_test"
   ]
  },
  {
   "cell_type": "code",
   "execution_count": 114,
   "metadata": {},
   "outputs": [],
   "source": [
    "x_train, x_val, y_train, y_val = load_cifar10_512()\n",
    "x_test, y_test = load_cifar101_512()"
   ]
  },
  {
   "cell_type": "code",
   "execution_count": 165,
   "metadata": {},
   "outputs": [
    {
     "data": {
      "text/plain": [
       "(2000,)"
      ]
     },
     "execution_count": 165,
     "metadata": {},
     "output_type": "execute_result"
    }
   ],
   "source": []
  },
  {
   "cell_type": "markdown",
   "metadata": {},
   "source": [
    "### Shuffle data"
   ]
  },
  {
   "cell_type": "code",
   "execution_count": 167,
   "metadata": {},
   "outputs": [],
   "source": [
    "xy_test = np.concatenate([x_test, np.expand_dims(y_test, axis=1)], axis=1)\n",
    "np.random.shuffle(xy_test)\n",
    "x_test, y_test = xy_test[:, :512], xy_test[:,512:]"
   ]
  },
  {
   "cell_type": "code",
   "execution_count": 168,
   "metadata": {},
   "outputs": [
    {
     "data": {
      "text/plain": [
       "((2000, 512), (2000, 1))"
      ]
     },
     "execution_count": 168,
     "metadata": {},
     "output_type": "execute_result"
    }
   ],
   "source": [
    "x_test.shape, y_test.shape"
   ]
  },
  {
   "cell_type": "markdown",
   "metadata": {},
   "source": [
    "## H-Divergence"
   ]
  },
  {
   "cell_type": "code",
   "execution_count": 169,
   "metadata": {},
   "outputs": [],
   "source": [
    "class H_Divergence:\n",
    "    '''\n",
    "    Given two datasets, fit 3 gaussians, 2 on the datasets and 1 on the joint.\n",
    "    Then, compute the statistic: \n",
    "    l((P+Q)/2) - min(l(P), l(Q))\n",
    "    Use this test statistic as the computed value in the permutation test\n",
    "    '''\n",
    "    def __init__(self, bandwidth='scott'):\n",
    "        self.bandwidth = bandwidth\n",
    "        \n",
    "    def _get_kde_estimates(self, bandwidth, data) :\n",
    "        # kde = KernelDensity(bandwidth=bandwidth, kernel='gaussian')\n",
    "        data = data.T\n",
    "        kernel = stats.gaussian_kde(data, bandwidth)\n",
    "        return kernel.evaluate(data)\n",
    "    \n",
    "    def get_distance(self, X, Y):\n",
    "        if len(X) > len(Y):\n",
    "            idx = np.random.choice(len(X), len(Y), replace=False)\n",
    "            X = X[idx]\n",
    "        XY = np.concatenate([X, Y], axis=0)\n",
    "        logprob_1 = self._get_kde_estimates(self.bandwidth, X)\n",
    "        logprob_2 = self._get_kde_estimates(self.bandwidth, Y)\n",
    "        logprob_m = self._get_kde_estimates(self.bandwidth, XY)\n",
    "        \n",
    "        vdiv = np.mean(-logprob_m) - min(np.mean(-logprob_1), np.mean(-logprob_2))\n",
    "        \n",
    "        return vdiv"
   ]
  },
  {
   "cell_type": "code",
   "execution_count": 4,
   "metadata": {},
   "outputs": [],
   "source": [
    "import time\n",
    "def permutation_test(distance, P, Q, X, Y, perms=500, oracle=False, alpha=0.05, enable_tqdm=False, subsample_size=1000):\n",
    "    \"\"\"Performs a permutation test\n",
    "\n",
    "    Args:\n",
    "        distance : Computes an empirical distance between two distributions given samples\n",
    "        P: full access to P\n",
    "        Q: full access to Q\n",
    "        X (_type_): original sample, Xi ~ P\n",
    "        Y (_type_): original sample, Yi ~ Q\n",
    "        perms (int): number of permutations to run\n",
    "        oracle (bool, optional): Whether access to the full distribution is granted.\n",
    "        alpha (float, optional): significance level, defaults to 0.05 \n",
    "    \"\"\"\n",
    "    est = distance.get_distance(X, Y)\n",
    "    print(est)\n",
    "    XuY = np.concatenate([X, Y], axis=0)\n",
    "    distr = []\n",
    "    f = tqdm if enable_tqdm else lambda x: x \n",
    "    \n",
    "    for i in f(range(perms)):\n",
    "        \n",
    "        if oracle:\n",
    "            XuY = np.concatenate([P.sample(n=len(X)), Q.sample(n=len(Y))], axis=0)\n",
    "        np.random.shuffle(XuY)\n",
    "        idx = np.random.choice(len(XuY), len(Y))\n",
    "        X_, Y_ = XuY[idx[:len(Y)//2]], XuY[idx[len(Y)//2:]]\n",
    "        start = time.time()\n",
    "        tmp = distance.get_distance(X_, Y_)\n",
    "        distr.append(tmp)\n",
    "        end = time.time()\n",
    "        \n",
    "        #print('Time elapsed: {}'.format(end - start ))\n",
    "        \n",
    "    q = np.quantile(distr, 1-alpha)\n",
    "    return int(est > q), distr, est"
   ]
  },
  {
   "cell_type": "markdown",
   "metadata": {},
   "source": [
    "#### PCA"
   ]
  },
  {
   "cell_type": "code",
   "execution_count": 171,
   "metadata": {},
   "outputs": [],
   "source": [
    "from sklearn.decomposition import PCA\n",
    "pca = PCA(n_components=10)\n",
    "pca.fit(x_train)\n",
    "x_train_pca, x_val_pca = pca.transform(x_train), pca.transform(x_val)\n",
    "x_test_pca = pca.transform(x_test)"
   ]
  },
  {
   "cell_type": "code",
   "execution_count": 174,
   "metadata": {},
   "outputs": [
    {
     "data": {
      "text/plain": [
       "7.407741279819527e-14"
      ]
     },
     "execution_count": 174,
     "metadata": {},
     "output_type": "execute_result"
    }
   ],
   "source": [
    "hdiv = H_Divergence()\n",
    "hdiv.get_distance(x_train_pca[:], x_test_pca[:])"
   ]
  },
  {
   "cell_type": "code",
   "execution_count": 184,
   "metadata": {},
   "outputs": [
    {
     "name": "stdout",
     "output_type": "stream",
     "text": [
      "7.75651074368367e-14\n"
     ]
    },
    {
     "name": "stderr",
     "output_type": "stream",
     "text": [
      "  0%|          | 0/100 [00:00<?, ?it/s]"
     ]
    },
    {
     "name": "stderr",
     "output_type": "stream",
     "text": [
      "100%|██████████| 100/100 [00:03<00:00, 30.80it/s]\n"
     ]
    }
   ],
   "source": [
    "flag, distr, est = permutation_test(hdiv, P=None, Q=None, X=x_train_pca, Y=x_test_pca[:500], perms=100, enable_tqdm=True, subsample_size=1000)"
   ]
  },
  {
   "cell_type": "code",
   "execution_count": 185,
   "metadata": {},
   "outputs": [
    {
     "name": "stdout",
     "output_type": "stream",
     "text": [
      "1\n"
     ]
    },
    {
     "data": {
      "image/png": "[encoded data removed]",
      "text/plain": [
       "<Figure size 640x480 with 1 Axes>"
      ]
     },
     "metadata": {},
     "output_type": "display_data"
    }
   ],
   "source": [
    "import matplotlib.pyplot as plt\n",
    "plt.hist(distr)\n",
    "plt.axvline(x=est, color='r', linestyle='--')\n",
    "print(flag)"
   ]
  },
  {
   "cell_type": "code",
   "execution_count": 5,
   "metadata": {},
   "outputs": [],
   "source": [
    "class KL_Divergence:\n",
    "    '''\n",
    "    Given two datasets, fit 2 gaussians on each of them.\n",
    "    Then, compute the kl-divergence between them depending on the mode.\n",
    "    '''\n",
    "    def __init__(self, bandwidth):\n",
    "        self.bandwidth = bandwidth\n",
    "    \n",
    "    def get_distance(self, X, Y):\n",
    "        X, Y = X.T, Y.T\n",
    "        kernel_X = stats.gaussian_kde(X, self.bandwidth)\n",
    "        kernel_Y = stats.gaussian_kde(Y, self.bandwidth)\n",
    "        prob_p = kernel_X.evaluate(X)\n",
    "        logprob_p = kernel_X.logpdf(X)\n",
    "        logprob_q = kernel_Y.logpdf(X)\n",
    "        \n",
    "        kl = np.mean(np.multiply(prob_p, logprob_p - logprob_q))\n",
    "        \n",
    "        return kl"
   ]
  },
  {
   "cell_type": "markdown",
   "metadata": {},
   "source": [
    "### Test .py file"
   ]
  },
  {
   "cell_type": "code",
   "execution_count": 15,
   "metadata": {},
   "outputs": [],
   "source": [
    "import numpy as np\n",
    "from divergence import Divergence, permutation_test\n",
    "import matplotlib.pyplot as plt\n",
    "%matplotlib inline\n",
    "\n",
    "%load_ext autoreload\n",
    "%autoreload 2\n"
   ]
  },
  {
   "cell_type": "code",
   "execution_count": 45,
   "metadata": {},
   "outputs": [],
   "source": [
    "distance = Divergence('h')\n",
    "X = np.random.normal(0,1, (50000, 10))\n",
    "Y = np.random.normal(0.5,1, (30, 10))"
   ]
  },
  {
   "cell_type": "code",
   "execution_count": null,
   "metadata": {},
   "outputs": [],
   "source": [
    "flag, distr, est = permutation_test(distance, X, Y, enable_tqdm=True)"
   ]
  },
  {
   "cell_type": "code",
   "execution_count": 48,
   "metadata": {},
   "outputs": [
    {
     "name": "stdout",
     "output_type": "stream",
     "text": [
      "0\n"
     ]
    },
    {
     "data": {
      "image/png": "[encoded data removed]",
      "text/plain": [
       "<Figure size 640x480 with 1 Axes>"
      ]
     },
     "metadata": {},
     "output_type": "display_data"
    }
   ],
   "source": [
    "plt.hist(distr)\n",
    "plt.axvline(x=est, color='r', linestyle='--')\n",
    "print(flag)"
   ]
  },
  {
   "cell_type": "markdown",
   "metadata": {},
   "source": [
    "## UCI Dataset debug"
   ]
  },
  {
   "cell_type": "code",
   "execution_count": 543,
   "metadata": {},
   "outputs": [],
   "source": [
    "from scipy.io import loadmat\n",
    "import numpy as np\n",
    "from divergence import Divergence, permutation_test, _bootstrap\n",
    "from uci_loader import load_and_process_uci\n",
    "from sklearn.decomposition import PCA\n",
    "from matplotlib import pyplot as plt\n",
    "%matplotlib inline\n",
    "uci_dict = loadmat('../data/sample_data/uci_heart_processed.mat')"
   ]
  },
  {
   "cell_type": "code",
   "execution_count": 355,
   "metadata": {},
   "outputs": [
    {
     "data": {
      "text/plain": [
       "dict_keys(['__header__', '__version__', '__globals__', 'train_data', 'train_labels', 'val_data', 'val_labels', 'iid_test_data', 'iid_test_labels', 'ood_test_data', 'ood_test_labels'])"
      ]
     },
     "execution_count": 355,
     "metadata": {},
     "output_type": "execute_result"
    }
   ],
   "source": [
    "uci_dict.keys()"
   ]
  },
  {
   "cell_type": "code",
   "execution_count": 356,
   "metadata": {},
   "outputs": [],
   "source": [
    "x_train = uci_dict['train_data']\n",
    "x_test = uci_dict['ood_test_data']"
   ]
  },
  {
   "cell_type": "code",
   "execution_count": 357,
   "metadata": {},
   "outputs": [
    {
     "data": {
      "text/plain": [
       "(358, 9)"
      ]
     },
     "execution_count": 357,
     "metadata": {},
     "output_type": "execute_result"
    }
   ],
   "source": [
    "#x_train = np.concatenate([uci_dict['train_data'], uci_dict['val_data']], axis=0)\n",
    "x_train.shape"
   ]
  },
  {
   "cell_type": "code",
   "execution_count": 604,
   "metadata": {},
   "outputs": [],
   "source": [
    "distance = Divergence('kl')\n",
    "# load data\n",
    "x_train, x_test, y_train, y_test = load_and_process_uci('../data/sample_data/uci_heart_processed.mat')"
   ]
  },
  {
   "cell_type": "code",
   "execution_count": 605,
   "metadata": {},
   "outputs": [],
   "source": [
    "def normalize(data, mean, std):\n",
    "    return (data - mean) / std"
   ]
  },
  {
   "cell_type": "code",
   "execution_count": 606,
   "metadata": {},
   "outputs": [],
   "source": [
    "# normalize data\n",
    "train_mean, train_std = np.mean(x_train, axis=0), np.std(x_train, axis=0)\n",
    "x_train = normalize(x_train, train_mean, train_std)\n",
    "x_test = normalize(x_test, train_mean, train_std)\n",
    "np.random.shuffle(x_train)\n",
    "np.random.shuffle(x_test)"
   ]
  },
  {
   "cell_type": "code",
   "execution_count": 607,
   "metadata": {},
   "outputs": [],
   "source": [
    "pca = PCA(n_components=9)\n",
    "pca.fit(x_train)\n",
    "x_train, x_test = pca.transform(x_train), pca.transform(x_test)"
   ]
  },
  {
   "cell_type": "code",
   "execution_count": 608,
   "metadata": {},
   "outputs": [
    {
     "data": {
      "text/plain": [
       "<matplotlib.collections.PathCollection at 0x7fe38c8d6490>"
      ]
     },
     "execution_count": 608,
     "metadata": {},
     "output_type": "execute_result"
    },
    {
     "data": {
      "image/png": "[encoded data removed]",
      "text/plain": [
       "<Figure size 640x480 with 1 Axes>"
      ]
     },
     "metadata": {},
     "output_type": "display_data"
    }
   ],
   "source": [
    "plt.scatter(x_train[:, 0], x_train[:, 1])\n",
    "plt.scatter(x_test[:, 0], x_test[:, 1])"
   ]
  },
  {
   "cell_type": "code",
   "execution_count": 609,
   "metadata": {},
   "outputs": [
    {
     "data": {
      "text/plain": [
       "323"
      ]
     },
     "execution_count": 609,
     "metadata": {},
     "output_type": "execute_result"
    }
   ],
   "source": [
    "# smol visualization\n",
    "x_test = x_test[:]\n",
    "len(x_test)"
   ]
  },
  {
   "cell_type": "code",
   "execution_count": 600,
   "metadata": {},
   "outputs": [
    {
     "data": {
      "text/plain": [
       "4.6424046851041965"
      ]
     },
     "execution_count": 600,
     "metadata": {},
     "output_type": "execute_result"
    }
   ],
   "source": [
    "est = distance.get_distance(x_train[np.random.choice(len(x_train), 100)], x_train[np.random.choice(len(x_train), 100)])\n",
    "est"
   ]
  },
  {
   "cell_type": "code",
   "execution_count": 601,
   "metadata": {},
   "outputs": [
    {
     "name": "stderr",
     "output_type": "stream",
     "text": [
      "100%|██████████| 500/500 [00:00<00:00, 760.89it/s]"
     ]
    },
    {
     "name": "stdout",
     "output_type": "stream",
     "text": [
      "1\n"
     ]
    },
    {
     "name": "stderr",
     "output_type": "stream",
     "text": [
      "\n"
     ]
    }
   ],
   "source": [
    "flag, distr, est = permutation_test(distance, est, x_train, x_test, enable_tqdm=True)"
   ]
  },
  {
   "cell_type": "code",
   "execution_count": 602,
   "metadata": {},
   "outputs": [
    {
     "name": "stdout",
     "output_type": "stream",
     "text": [
      "1\n"
     ]
    },
    {
     "data": {
      "image/png": "[encoded data removed]",
      "text/plain": [
       "<Figure size 640x480 with 1 Axes>"
      ]
     },
     "metadata": {},
     "output_type": "display_data"
    }
   ],
   "source": [
    "plt.hist(distr)\n",
    "plt.axvline(x=est, color='r', linestyle='--')\n",
    "print(flag)"
   ]
  },
  {
   "cell_type": "code",
   "execution_count": 603,
   "metadata": {},
   "outputs": [
    {
     "data": {
      "text/plain": [
       "[0.059092995195473286,\n",
       " 0.08655798656345404,\n",
       " 0.08114089699907989,\n",
       " 0.0590976715136442,\n",
       " 0.04918376722737072,\n",
       " 0.08930905579662163,\n",
       " 0.09416588972226148,\n",
       " 0.07742569115258391,\n",
       " 0.06885305482007542,\n",
       " 0.08786538159613944,\n",
       " 0.06312825449649573,\n",
       " 0.0672085035220844,\n",
       " 0.08068832170629481,\n",
       " 0.06726640463482969,\n",
       " 0.08952831252897919,\n",
       " 0.07485595205350748,\n",
       " 0.06591823968652477,\n",
       " 0.07350788270032727,\n",
       " 0.042217210332731625,\n",
       " 0.0733894102916226,\n",
       " 0.08484998991311254,\n",
       " 0.05441807350555994,\n",
       " 0.07564795054479578,\n",
       " 0.08660894793436835,\n",
       " 0.076284584945161,\n",
       " 0.07895616301029396,\n",
       " 0.09805458927092747,\n",
       " 0.08141921419851705,\n",
       " 0.08359395096238309,\n",
       " 0.06375409418907818,\n",
       " 0.07866482453729251,\n",
       " 0.07777747908525434,\n",
       " 0.07459800982506248,\n",
       " 0.08640308657224516,\n",
       " 0.08360046234800489,\n",
       " 0.10155543148607205,\n",
       " 0.06436681100064945,\n",
       " 0.06145074216290336,\n",
       " 0.07359914556156522,\n",
       " 0.05367725802481793,\n",
       " 0.07284180854146349,\n",
       " 0.06797684312776386,\n",
       " 0.06202245594390021,\n",
       " 0.06501126104483923,\n",
       " 0.07136732956863856,\n",
       " 0.0818055679046612,\n",
       " 0.08059092698445536,\n",
       " 0.06573916259924406,\n",
       " 0.09951574889289994,\n",
       " 0.05651199630623349,\n",
       " 0.0661095869042656,\n",
       " 0.04590747227393255,\n",
       " 0.07652583748373232,\n",
       " 0.07520065696380929,\n",
       " 0.05461268752651449,\n",
       " 0.09475056682894856,\n",
       " 0.06535914323997627,\n",
       " 0.053066429486276157,\n",
       " 0.07795643900320037,\n",
       " 0.06237355424923141,\n",
       " 0.0826516341947725,\n",
       " 0.12643726376242093,\n",
       " 0.07618959724066343,\n",
       " 0.09510791644885508,\n",
       " 0.09301491432381503,\n",
       " 0.12103951352052444,\n",
       " 0.11701430551400005,\n",
       " 0.07628453619912268,\n",
       " 0.09769414807706855,\n",
       " 0.06167657993581788,\n",
       " 0.04988783989528134,\n",
       " 0.06304540370749923,\n",
       " 0.08250491080075761,\n",
       " 0.055201488120708575,\n",
       " 0.09638702969244672,\n",
       " 0.06315288264462904,\n",
       " 0.0819273215146854,\n",
       " 0.06394921341515847,\n",
       " 0.07260254401765565,\n",
       " 0.07528244865075706,\n",
       " 0.08720120289945577,\n",
       " 0.09768013313346557,\n",
       " 0.08064595353756765,\n",
       " 0.054584766001824825,\n",
       " 0.08608790772630037,\n",
       " 0.08102078816976288,\n",
       " 0.1049434607587143,\n",
       " 0.07639732248316466,\n",
       " 0.09029340166538002,\n",
       " 0.11213859824576033,\n",
       " 0.09481826424669837,\n",
       " 0.05544939034398144,\n",
       " 0.07401265091894249,\n",
       " 0.06206355270799069,\n",
       " 0.11217321257708335,\n",
       " 0.07328142248945291,\n",
       " 0.07585058722197502,\n",
       " 0.06657583593374117,\n",
       " 0.07773501163896235,\n",
       " 0.07943774054919572,\n",
       " 0.07512441604267384,\n",
       " 0.053805692210440625,\n",
       " 0.06649308419060151,\n",
       " 0.05494018915866139,\n",
       " 0.07359060369257886,\n",
       " 0.0773353855579968,\n",
       " 0.07818901322970184,\n",
       " 0.10247081191835772,\n",
       " 0.07223656133425571,\n",
       " 0.09175143256973506,\n",
       " 0.08154854867997674,\n",
       " 0.06486196793877586,\n",
       " 0.08068693538134308,\n",
       " 0.06944675657208688,\n",
       " 0.10442640695636296,\n",
       " 0.07470114025365504,\n",
       " 0.06329376802203068,\n",
       " 0.12881170752411464,\n",
       " 0.09404591864319034,\n",
       " 0.0847699490597904,\n",
       " 0.061049128747691306,\n",
       " 0.049662211886948526,\n",
       " 0.09281607793438162,\n",
       " 0.06633266817400507,\n",
       " 0.08804452142860164,\n",
       " 0.05793733029196968,\n",
       " 0.09936944535012238,\n",
       " 0.05750133772760524,\n",
       " 0.06857517779013911,\n",
       " 0.07354447327527502,\n",
       " 0.07515879118850766,\n",
       " 0.05458895559469035,\n",
       " 0.052664885960903796,\n",
       " 0.06040398712753259,\n",
       " 0.07258172554519682,\n",
       " 0.06645110913574914,\n",
       " 0.08808378498084668,\n",
       " 0.0785744528872172,\n",
       " 0.07276947378229703,\n",
       " 0.07424251896851075,\n",
       " 0.08519001709403717,\n",
       " 0.07057365040424735,\n",
       " 0.07060282035192689,\n",
       " 0.09340124543641437,\n",
       " 0.09476418965861289,\n",
       " 0.06681488290849913,\n",
       " 0.11385411920631228,\n",
       " 0.06406116199393885,\n",
       " 0.05600238826845949,\n",
       " 0.06184220506831917,\n",
       " 0.07614291357508751,\n",
       " 0.07533731296242951,\n",
       " 0.06273689904621271,\n",
       " 0.10379162873505443,\n",
       " 0.06729182313429849,\n",
       " 0.08515078267023135,\n",
       " 0.07451393107972848,\n",
       " 0.0682550249678684,\n",
       " 0.09045377250598641,\n",
       " 0.09614409460587314,\n",
       " 0.05855400387043197,\n",
       " 0.0647591838207866,\n",
       " 0.08515958999609818,\n",
       " 0.06304369644128105,\n",
       " 0.08647285479440292,\n",
       " 0.06744901806578874,\n",
       " 0.06017623245333592,\n",
       " 0.07030857203566931,\n",
       " 0.07875209193249066,\n",
       " 0.08421147786093819,\n",
       " 0.074629660915984,\n",
       " 0.10445884460039423,\n",
       " 0.057338472695520615,\n",
       " 0.0638201950722106,\n",
       " 0.09681356512936201,\n",
       " 0.0648030412548648,\n",
       " 0.04560928028019351,\n",
       " 0.06993736668560047,\n",
       " 0.07019165409680639,\n",
       " 0.06936584628392772,\n",
       " 0.08025414565125732,\n",
       " 0.06896440357915878,\n",
       " 0.07224537602394676,\n",
       " 0.059135256949994996,\n",
       " 0.05385384435060736,\n",
       " 0.05173868481001431,\n",
       " 0.06902856659377132,\n",
       " 0.1168746059531145,\n",
       " 0.06328674352691621,\n",
       " 0.09111273847856527,\n",
       " 0.08546023329667651,\n",
       " 0.05898468471484275,\n",
       " 0.08097590595454385,\n",
       " 0.056347123823029754,\n",
       " 0.06215811439284291,\n",
       " 0.07192303467824335,\n",
       " 0.07308665973206718,\n",
       " 0.07615654226140389,\n",
       " 0.09801303554829666,\n",
       " 0.04691084101248322,\n",
       " 0.09902131354784949,\n",
       " 0.062487607326526806,\n",
       " 0.09622354784388776,\n",
       " 0.07368853399120923,\n",
       " 0.10086839787882251,\n",
       " 0.06881690093774928,\n",
       " 0.09045280003697354,\n",
       " 0.0834348059368768,\n",
       " 0.052905470883962025,\n",
       " 0.056799736446185634,\n",
       " 0.06143881482335534,\n",
       " 0.07408891676652463,\n",
       " 0.07308694361752632,\n",
       " 0.0697171873000837,\n",
       " 0.07735383799110718,\n",
       " 0.04696344249587536,\n",
       " 0.09335480107121263,\n",
       " 0.0772544486789224,\n",
       " 0.07101043542995278,\n",
       " 0.07920474137618516,\n",
       " 0.08520986601312774,\n",
       " 0.07675683747096862,\n",
       " 0.09590328908846502,\n",
       " 0.06787644808956106,\n",
       " 0.042431703843877955,\n",
       " 0.061085686016105534,\n",
       " 0.07712160912189958,\n",
       " 0.04844627843924787,\n",
       " 0.07990843950343418,\n",
       " 0.05097083330959773,\n",
       " 0.08143542114619429,\n",
       " 0.03713708405174021,\n",
       " 0.08433624878419721,\n",
       " 0.09552331759109656,\n",
       " 0.06918013515788779,\n",
       " 0.05660884380589515,\n",
       " 0.06360719817389349,\n",
       " 0.07317993647429333,\n",
       " 0.07224214285454167,\n",
       " 0.06536622071332054,\n",
       " 0.06782500110198786,\n",
       " 0.06675079622739588,\n",
       " 0.06306473278715874,\n",
       " 0.0753724434570211,\n",
       " 0.08263402899153682,\n",
       " 0.09434825073783148,\n",
       " 0.07873576294187501,\n",
       " 0.07238977230165666,\n",
       " 0.07547069218407199,\n",
       " 0.06257309227726626,\n",
       " 0.09394047103098924,\n",
       " 0.06937803171360901,\n",
       " 0.043884653634600035,\n",
       " 0.07833789994210161,\n",
       " 0.052554149600811506,\n",
       " 0.08189615670683192,\n",
       " 0.052834057104692356,\n",
       " 0.06598634408184623,\n",
       " 0.07330124780619851,\n",
       " 0.060619361104170544,\n",
       " 0.05423419872305324,\n",
       " 0.05996801814918573,\n",
       " 0.10590574770267036,\n",
       " 0.05884522273343773,\n",
       " 0.05772828285459841,\n",
       " 0.08542537342962486,\n",
       " 0.07438936336849444,\n",
       " 0.07576316564361463,\n",
       " 0.0725653080670936,\n",
       " 0.05854075187476315,\n",
       " 0.061082737441299884,\n",
       " 0.1000570657926021,\n",
       " 0.0793859614113801,\n",
       " 0.09897159992880056,\n",
       " 0.0492611291195626,\n",
       " 0.0761866459062226,\n",
       " 0.07807739186251883,\n",
       " 0.06032653954015821,\n",
       " 0.08195841136134163,\n",
       " 0.053902861577075356,\n",
       " 0.09382816429048813,\n",
       " 0.0628138470719044,\n",
       " 0.05057362262242293,\n",
       " 0.10636261942149172,\n",
       " 0.042703405055195987,\n",
       " 0.07657817212449736,\n",
       " 0.0908128614545296,\n",
       " 0.08563809513958098,\n",
       " 0.07546499337573209,\n",
       " 0.08503002615199318,\n",
       " 0.05617650053439238,\n",
       " 0.05891664970845767,\n",
       " 0.0943432403833393,\n",
       " 0.08149471436584044,\n",
       " 0.04242613067447021,\n",
       " 0.0699417289526858,\n",
       " 0.05763170549447327,\n",
       " 0.09406848946563606,\n",
       " 0.07911301513636992,\n",
       " 0.05556936040737437,\n",
       " 0.05130050316145596,\n",
       " 0.06499015345533454,\n",
       " 0.07250397698579647,\n",
       " 0.09824408676720875,\n",
       " 0.10595970113474529,\n",
       " 0.07212824663281303,\n",
       " 0.06236695041346785,\n",
       " 0.05503565492204654,\n",
       " 0.062043990532643534,\n",
       " 0.07118672643014712,\n",
       " 0.07189839798829922,\n",
       " 0.06912432593582718,\n",
       " 0.07364466096065225,\n",
       " 0.1130707625155134,\n",
       " 0.05116465796467207,\n",
       " 0.09293208367136696,\n",
       " 0.050143026495378606,\n",
       " 0.06746303025513267,\n",
       " 0.05727765400225149,\n",
       " 0.0806255589088094,\n",
       " 0.07515856934298437,\n",
       " 0.0706733621525375,\n",
       " 0.08432472756594489,\n",
       " 0.07029557405563125,\n",
       " 0.07393798425708731,\n",
       " 0.08368796953006274,\n",
       " 0.05356338393873905,\n",
       " 0.08891254520351488,\n",
       " 0.054897527576642347,\n",
       " 0.08820531351191896,\n",
       " 0.058548384179743174,\n",
       " 0.08242717048959403,\n",
       " 0.0838615112279637,\n",
       " 0.06531703351466156,\n",
       " 0.06217279620707217,\n",
       " 0.07252601410697057,\n",
       " 0.08237390655250998,\n",
       " 0.06793744660877099,\n",
       " 0.09142504293212639,\n",
       " 0.05432937697090612,\n",
       " 0.08683049649390906,\n",
       " 0.049115148446829515,\n",
       " 0.08238053706195991,\n",
       " 0.06605313595414852,\n",
       " 0.061742976880959866,\n",
       " 0.09780557118988042,\n",
       " 0.08865008404109886,\n",
       " 0.09310960238382737,\n",
       " 0.05994004523905261,\n",
       " 0.050449163934811914,\n",
       " 0.07504473433962477,\n",
       " 0.08012341097022002,\n",
       " 0.1079064680681272,\n",
       " 0.06198849448161159,\n",
       " 0.0541598061642512,\n",
       " 0.09126312100467704,\n",
       " 0.07801631436040513,\n",
       " 0.09411144309610187,\n",
       " 0.08497501363940962,\n",
       " 0.07153166695638813,\n",
       " 0.060105624366459054,\n",
       " 0.06866630743061641,\n",
       " 0.11659597623999218,\n",
       " 0.05119166142849618,\n",
       " 0.06276306234501305,\n",
       " 0.07112334682397314,\n",
       " 0.06816701305091044,\n",
       " 0.07840178173021606,\n",
       " 0.08192564307320982,\n",
       " 0.06679831081676024,\n",
       " 0.06505869246040952,\n",
       " 0.08213565079310214,\n",
       " 0.07999429299177052,\n",
       " 0.062251521335808135,\n",
       " 0.08464968773592219,\n",
       " 0.05716870187769185,\n",
       " 0.07106189408075103,\n",
       " 0.08182937399599055,\n",
       " 0.06217055555378881,\n",
       " 0.09042733307339024,\n",
       " 0.07771291822281778,\n",
       " 0.07093160161587786,\n",
       " 0.096906413052821,\n",
       " 0.05170073002204312,\n",
       " 0.07706825676929885,\n",
       " 0.0849489706709381,\n",
       " 0.07037264601046722,\n",
       " 0.09203630444739908,\n",
       " 0.08837617536076436,\n",
       " 0.04527598875102701,\n",
       " 0.088046326065502,\n",
       " 0.05164732718053955,\n",
       " 0.049049364696070796,\n",
       " 0.05559074193240132,\n",
       " 0.05555881713574262,\n",
       " 0.08226469857038854,\n",
       " 0.082384381106265,\n",
       " 0.09448208741425912,\n",
       " 0.062417694365592524,\n",
       " 0.059580849939686154,\n",
       " 0.08186743780943839,\n",
       " 0.06825110637750331,\n",
       " 0.07350772254589533,\n",
       " 0.08721204774481173,\n",
       " 0.09432162088232587,\n",
       " 0.0775465192287621,\n",
       " 0.06128463976006593,\n",
       " 0.051831572504251966,\n",
       " 0.07620289553362447,\n",
       " 0.043939879421710515,\n",
       " 0.08711337868716029,\n",
       " 0.06542342782244503,\n",
       " 0.06576651845332293,\n",
       " 0.07098135540421069,\n",
       " 0.09855586154964069,\n",
       " 0.08513138984078417,\n",
       " 0.06444316017008145,\n",
       " 0.07546827329953487,\n",
       " 0.06546325212691695,\n",
       " 0.07981061766528352,\n",
       " 0.06309647546405639,\n",
       " 0.0825464915934715,\n",
       " 0.09469993832522317,\n",
       " 0.07386619828831442,\n",
       " 0.08917633444838735,\n",
       " 0.08693206234319906,\n",
       " 0.07428835818407631,\n",
       " 0.09727527510073308,\n",
       " 0.06801550841957216,\n",
       " 0.09691990433693842,\n",
       " 0.09434167540810101,\n",
       " 0.10097328465646971,\n",
       " 0.07903576227980658,\n",
       " 0.06216434155453143,\n",
       " 0.059871009777838324,\n",
       " 0.07339612799483852,\n",
       " 0.13454050138315754,\n",
       " 0.09493261527568109,\n",
       " 0.11011728433478307,\n",
       " 0.08052489153353815,\n",
       " 0.07817055612436441,\n",
       " 0.08333981105795818,\n",
       " 0.04758751407858153,\n",
       " 0.06044872112688182,\n",
       " 0.07958768094917001,\n",
       " 0.06411332437643757,\n",
       " 0.05651849299128653,\n",
       " 0.07033623178162163,\n",
       " 0.06374128237679244,\n",
       " 0.07873908269548302,\n",
       " 0.10425984249162212,\n",
       " 0.04462282758564484,\n",
       " 0.07994974594524162,\n",
       " 0.03760105838983474,\n",
       " 0.056517796553642974,\n",
       " 0.05048485266562075,\n",
       " 0.0616159753294756,\n",
       " 0.04771977392257831,\n",
       " 0.07569602071096959,\n",
       " 0.08175996391164642,\n",
       " 0.10398581830404474,\n",
       " 0.07802067629976772,\n",
       " 0.07871438741898285,\n",
       " 0.08269341644037187,\n",
       " 0.08263834864351072,\n",
       " 0.07228687726125571,\n",
       " 0.07669868558126947,\n",
       " 0.06609428010722684,\n",
       " 0.06844085760483498,\n",
       " 0.05858077687456564,\n",
       " 0.06533159581298609,\n",
       " 0.08354111173885315,\n",
       " 0.07598414347209381,\n",
       " 0.056796086738326146,\n",
       " 0.06443226491275666,\n",
       " 0.08842469806140674,\n",
       " 0.0611712855055373,\n",
       " 0.0842688613830358,\n",
       " 0.09424672874434759,\n",
       " 0.07722714275318765,\n",
       " 0.0720358204324274,\n",
       " 0.047479271333271456,\n",
       " 0.07387982134757642,\n",
       " 0.09438837514192677,\n",
       " 0.06630264261739516,\n",
       " 0.06249054601118331,\n",
       " 0.08470048188842583,\n",
       " 0.0870455414222544,\n",
       " 0.07023151168004294,\n",
       " 0.1076204858748655,\n",
       " 0.06981084670461879,\n",
       " 0.07150789115331779,\n",
       " 0.09308443907441966,\n",
       " 0.06852308873402091,\n",
       " 0.08049251032852567,\n",
       " 0.06937806694458803,\n",
       " 0.06027248452253886,\n",
       " 0.05419232514138628,\n",
       " 0.09028106056066498,\n",
       " 0.06727954846646256]"
      ]
     },
     "execution_count": 603,
     "metadata": {},
     "output_type": "execute_result"
    }
   ],
   "source": [
    "distr"
   ]
  },
  {
   "cell_type": "markdown",
   "metadata": {},
   "source": [
    "### KL-divergence debugging"
   ]
  },
  {
   "cell_type": "code",
   "execution_count": 325,
   "metadata": {},
   "outputs": [],
   "source": [
    "def kl1(X, Y, epsilon=1e-6):\n",
    "        '''\n",
    "        Given two datasets X and Y, fit Gaussian distributions on each,\n",
    "        then compute the KL divergence between the two Gaussians.\n",
    "        \n",
    "        X: Dataset of size (100, 9)\n",
    "        Y: Dataset of size (57, 9)\n",
    "        epsilon: Small regularization term for numerical stability.\n",
    "        '''\n",
    "        # Calculate mean and covariance matrix for dataset X\n",
    "        mean_X = np.mean(X, axis=0)  # (9,)\n",
    "        cov_X = np.cov(X, rowvar=False)  # (9, 9)\n",
    "        \n",
    "        # Calculate mean and covariance matrix for dataset Y\n",
    "        mean_Y = np.mean(Y, axis=0)  # (9,)\n",
    "        cov_Y = np.cov(Y, rowvar=False)  # (9, 9)\n",
    "        \n",
    "        # Add a small value to the diagonal to ensure the matrices are invertible\n",
    "        cov_X += epsilon * np.eye(cov_X.shape[0])\n",
    "        cov_Y += epsilon * np.eye(cov_Y.shape[0])\n",
    "        \n",
    "        # Dimensionality of the data\n",
    "        d = X.shape[1]\n",
    "        \n",
    "        # Compute the inverse and determinant of cov_Y\n",
    "        cov_Y_inv = np.linalg.inv(cov_Y)\n",
    "        det_cov_X = np.linalg.det(cov_X)\n",
    "        det_cov_Y = np.linalg.det(cov_Y)\n",
    "        \n",
    "        # Compute the difference between the means\n",
    "        mean_diff = mean_X - mean_Y  # (9,)\n",
    "        \n",
    "        # KL Divergence formula\n",
    "        term1 = np.log(det_cov_Y / det_cov_X)\n",
    "        term2 = np.trace(np.dot(cov_Y_inv, cov_X))\n",
    "        term3 = np.dot(mean_diff.T, np.dot(cov_Y_inv, mean_diff))\n",
    "        \n",
    "        kl_divergence = 0.5 * (term1 - d + term2 + term3)\n",
    "        \n",
    "        return kl_divergence"
   ]
  },
  {
   "cell_type": "code",
   "execution_count": 235,
   "metadata": {},
   "outputs": [],
   "source": [
    "def kl2(X, Y, epsilon=1e-6):\n",
    "        '''\n",
    "        Given two datasets, fit 2 gaussians on each of them.\n",
    "        Then, compute the kl-divergence between them depending on the mode.\n",
    "        '''\n",
    "        ed = lambda x: np.expand_dims(x, axis=1)\n",
    "        mean_X, mean_Y = ed(np.mean(X, axis=0)), ed(np.mean(Y, axis=0))\n",
    "        #cov_X, cov_Y = np.cov(X.T), np.cov(Y.T)\n",
    "        cov_X = np.cov(X.T) + epsilon * np.eye(X.shape[-1])\n",
    "        cov_Y = np.cov(Y.T) + epsilon * np.eye(Y.shape[-1])\n",
    "        d = X.shape[-1]\n",
    "        det = np.linalg.det\n",
    "        cov_Y_inv = np.linalg.inv(cov_Y)\n",
    "        tmp = np.dot(mean_X.T - mean_Y.T, np.dot(cov_Y_inv, (mean_X - mean_Y)))\n",
    "        KL = 0.5 * (np.log(det(cov_Y)/det(cov_X)) - d + tmp + np.trace(np.dot(cov_Y_inv, cov_X)))\n",
    "        \n",
    "        return np.ravel(KL)[0] "
   ]
  },
  {
   "cell_type": "code",
   "execution_count": null,
   "metadata": {},
   "outputs": [],
   "source": []
  },
  {
   "cell_type": "code",
   "execution_count": null,
   "metadata": {},
   "outputs": [],
   "source": []
  }
 ],
 "metadata": {
  "kernelspec": {
   "display_name": "dl",
   "language": "python",
   "name": "python3"
  },
  "language_info": {
   "codemirror_mode": {
    "name": "ipython",
    "version": 3
   },
   "file_extension": ".py",
   "mimetype": "text/x-python",
   "name": "python",
   "nbconvert_exporter": "python",
   "pygments_lexer": "ipython3",
   "version": "3.9.18"
  }
 },
 "nbformat": 4,
 "nbformat_minor": 2
}
