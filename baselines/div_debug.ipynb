{
 "cells": [
  {
   "cell_type": "code",
   "execution_count": 1,
   "metadata": {},
   "outputs": [],
   "source": [
    "import numpy as np\n",
    "from scipy import stats\n",
    "import torchvision\n",
    "import torch\n",
    "from torchvision import transforms\n",
    "\n",
    "import torch\n",
    "import torch.nn as nn\n",
    "import torch.nn.functional as F \n",
    "import torch.optim as optim\n",
    "from torch.utils.data import DataLoader\n",
    "import multiprocessing\n",
    "from tqdm import tqdm\n",
    "%load_ext autoreload\n",
    "%autoreload 2\n",
    "\n",
    "MEAN, STD = (0.4914, 0.4822, 0.4465), (0.2023, 0.1994, 0.2010)"
   ]
  },
  {
   "cell_type": "code",
   "execution_count": 2,
   "metadata": {},
   "outputs": [],
   "source": [
    "transform = transforms.Compose([\n",
    "        transforms.ToTensor(),\n",
    "        transforms.Normalize(MEAN, STD)  \n",
    "    ])"
   ]
  },
  {
   "cell_type": "code",
   "execution_count": 52,
   "metadata": {},
   "outputs": [
    {
     "name": "stdout",
     "output_type": "stream",
     "text": [
      "Files already downloaded and verified\n",
      "Files already downloaded and verified\n"
     ]
    }
   ],
   "source": [
    "train = torchvision.datasets.CIFAR10(root='./data', train=True, download=True, transform=transform)\n",
    "test = torchvision.datasets.CIFAR10(root='./data', train=False, download=True, transform=transform)\n"
   ]
  },
  {
   "cell_type": "markdown",
   "metadata": {},
   "source": [
    "## Finetune on cifar10 to get representation"
   ]
  },
  {
   "cell_type": "code",
   "execution_count": 79,
   "metadata": {},
   "outputs": [
    {
     "name": "stderr",
     "output_type": "stream",
     "text": [
      "/home/viet/anaconda3/envs/dl/lib/python3.9/site-packages/torchvision/models/_utils.py:208: UserWarning: The parameter 'pretrained' is deprecated since 0.13 and may be removed in the future, please use 'weights' instead.\n",
      "  warnings.warn(\n",
      "/home/viet/anaconda3/envs/dl/lib/python3.9/site-packages/torchvision/models/_utils.py:223: UserWarning: Arguments other than a weight enum or `None` for 'weights' are deprecated since 0.13 and may be removed in the future. The current behavior is equivalent to passing `weights=ResNet18_Weights.IMAGENET1K_V1`. You can also use `weights=ResNet18_Weights.DEFAULT` to get the most up-to-date weights.\n",
      "  warnings.warn(msg)\n"
     ]
    }
   ],
   "source": [
    "resnet18 = torchvision.models.resnet18(pretrained=True)\n",
    "resnet18.fc = nn.Linear(resnet18.fc.in_features, 10)"
   ]
  },
  {
   "cell_type": "code",
   "execution_count": 54,
   "metadata": {},
   "outputs": [],
   "source": [
    "batch_size = 64\n",
    "learning_rate=5e-5\n",
    "epochs = 100"
   ]
  },
  {
   "cell_type": "code",
   "execution_count": 59,
   "metadata": {},
   "outputs": [],
   "source": [
    "trainloader = DataLoader(train, batch_size=batch_size, shuffle=True, num_workers=multiprocessing.cpu_count())\n",
    "testloader = DataLoader(test, batch_size=batch_size, shuffle=True, num_workers=multiprocessing.cpu_count())"
   ]
  },
  {
   "cell_type": "code",
   "execution_count": 60,
   "metadata": {},
   "outputs": [],
   "source": [
    "optimizer = optim.AdamW(resnet18.parameters(), lr=learning_rate)\n",
    "criterion = nn.CrossEntropyLoss()"
   ]
  },
  {
   "cell_type": "code",
   "execution_count": 62,
   "metadata": {},
   "outputs": [
    {
     "name": "stderr",
     "output_type": "stream",
     "text": [
      " 48%|████▊     | 375/782 [00:02<00:02, 141.49it/s]\n"
     ]
    },
    {
     "ename": "KeyboardInterrupt",
     "evalue": "",
     "output_type": "error",
     "traceback": [
      "\u001b[0;31m---------------------------------------------------------------------------\u001b[0m",
      "\u001b[0;31mKeyboardInterrupt\u001b[0m                         Traceback (most recent call last)",
      "Cell \u001b[0;32mIn[62], line 6\u001b[0m\n\u001b[1;32m      4\u001b[0m model\u001b[38;5;241m.\u001b[39mtrain()\n\u001b[1;32m      5\u001b[0m \u001b[38;5;28;01mfor\u001b[39;00m batch_idx, (imgs, labels) \u001b[38;5;129;01min\u001b[39;00m \u001b[38;5;28menumerate\u001b[39m(tqdm(trainloader)):\n\u001b[0;32m----> 6\u001b[0m     imgs, labels \u001b[38;5;241m=\u001b[39m \u001b[43mimgs\u001b[49m\u001b[38;5;241;43m.\u001b[39;49m\u001b[43mcuda\u001b[49m\u001b[43m(\u001b[49m\u001b[43m)\u001b[49m, labels\u001b[38;5;241m.\u001b[39mcuda()\n\u001b[1;32m      7\u001b[0m     output \u001b[38;5;241m=\u001b[39m model(imgs)\n\u001b[1;32m      8\u001b[0m     optimizer\u001b[38;5;241m.\u001b[39mzero_grad()\n",
      "\u001b[0;31mKeyboardInterrupt\u001b[0m: "
     ]
    }
   ],
   "source": [
    "patience = 0\n",
    "best = 0\n",
    "for epoch in range(epochs):\n",
    "    model.train()\n",
    "    for batch_idx, (imgs, labels) in enumerate(tqdm(trainloader)):\n",
    "        imgs, labels = imgs.cuda(), labels.cuda()\n",
    "        output = model(imgs)\n",
    "        optimizer.zero_grad()\n",
    "        loss = criterion(output, labels)\n",
    "        loss.backward()\n",
    "        optimizer.step()\n",
    "    \n",
    "    model.eval()\n",
    "    count = 0\n",
    "    acc = 0 \n",
    "    with torch.no_grad():\n",
    "        for imgs, labels in tqdm(testloader):\n",
    "            imgs, labels = imgs.cuda(), labels.cuda()\n",
    "            output = model(imgs)\n",
    "            preds = torch.argmax(output, 1)\n",
    "            acc += torch.sum(preds == labels)\n",
    "            count += len(labels)\n",
    "    acc = (acc/count).item()\n",
    "    if acc > best:\n",
    "        best = acc\n",
    "        patience = 0\n",
    "    else:\n",
    "        patience += 1\n",
    "    print(acc)\n",
    "    if patience > 5:\n",
    "        print(best)\n",
    "        break"
   ]
  },
  {
   "cell_type": "code",
   "execution_count": null,
   "metadata": {},
   "outputs": [],
   "source": []
  },
  {
   "cell_type": "code",
   "execution_count": null,
   "metadata": {},
   "outputs": [],
   "source": [
    "rep = torch.nn.Sequential(*list(model.children())[:-1])"
   ]
  },
  {
   "cell_type": "code",
   "execution_count": null,
   "metadata": {},
   "outputs": [],
   "source": [
    "rep"
   ]
  },
  {
   "cell_type": "code",
   "execution_count": null,
   "metadata": {},
   "outputs": [],
   "source": [
    "torch.save(rep.state_dict(), 'resnet18_cifar10.pth')"
   ]
  },
  {
   "cell_type": "code",
   "execution_count": 84,
   "metadata": {},
   "outputs": [],
   "source": [
    "def get_rep(model, dataset):\n",
    "    model = model.cuda()\n",
    "    model.eval()\n",
    "    new_data = np.zeros((len(dataset), 512))\n",
    "    i = 0\n",
    "    for features, label in tqdm(dataset):\n",
    "        features = features.unsqueeze(0).cuda()\n",
    "        rep = model(features)\n",
    "        rep = torch.flatten(rep)\n",
    "        new_data[i] = rep.cpu().detach().numpy()\n",
    "        i += 1\n",
    "    return new_data"
   ]
  },
  {
   "cell_type": "code",
   "execution_count": null,
   "metadata": {},
   "outputs": [],
   "source": [
    "x = get_rep(rep, train)"
   ]
  },
  {
   "cell_type": "code",
   "execution_count": null,
   "metadata": {},
   "outputs": [],
   "source": [
    "x_ = get_rep(rep, test)"
   ]
  },
  {
   "cell_type": "code",
   "execution_count": null,
   "metadata": {},
   "outputs": [],
   "source": [
    "with open('data/cifar10_x_train.npy', 'wb') as f:\n",
    "    np.save(f, x)\n",
    "with open('data/cifar10_x_test.npy', 'wb') as f:\n",
    "    np.save(f, x_)\n",
    "with open('data/cifar10_y_train.npy', 'wb') as f:\n",
    "    np.save(f, np.array(train.targets))\n",
    "with open('data/cifar10_y_test.npy', 'wb') as f:\n",
    "    np.save(f, np.array(test.targets))"
   ]
  },
  {
   "cell_type": "markdown",
   "metadata": {},
   "source": [
    "## CIFAR-10.1"
   ]
  },
  {
   "cell_type": "code",
   "execution_count": 92,
   "metadata": {},
   "outputs": [
    {
     "data": {
      "text/plain": [
       "Sequential(\n",
       "  (0): Conv2d(3, 64, kernel_size=(7, 7), stride=(2, 2), padding=(3, 3), bias=False)\n",
       "  (1): BatchNorm2d(64, eps=1e-05, momentum=0.1, affine=True, track_running_stats=True)\n",
       "  (2): ReLU(inplace=True)\n",
       "  (3): MaxPool2d(kernel_size=3, stride=2, padding=1, dilation=1, ceil_mode=False)\n",
       "  (4): Sequential(\n",
       "    (0): BasicBlock(\n",
       "      (conv1): Conv2d(64, 64, kernel_size=(3, 3), stride=(1, 1), padding=(1, 1), bias=False)\n",
       "      (bn1): BatchNorm2d(64, eps=1e-05, momentum=0.1, affine=True, track_running_stats=True)\n",
       "      (relu): ReLU(inplace=True)\n",
       "      (conv2): Conv2d(64, 64, kernel_size=(3, 3), stride=(1, 1), padding=(1, 1), bias=False)\n",
       "      (bn2): BatchNorm2d(64, eps=1e-05, momentum=0.1, affine=True, track_running_stats=True)\n",
       "    )\n",
       "    (1): BasicBlock(\n",
       "      (conv1): Conv2d(64, 64, kernel_size=(3, 3), stride=(1, 1), padding=(1, 1), bias=False)\n",
       "      (bn1): BatchNorm2d(64, eps=1e-05, momentum=0.1, affine=True, track_running_stats=True)\n",
       "      (relu): ReLU(inplace=True)\n",
       "      (conv2): Conv2d(64, 64, kernel_size=(3, 3), stride=(1, 1), padding=(1, 1), bias=False)\n",
       "      (bn2): BatchNorm2d(64, eps=1e-05, momentum=0.1, affine=True, track_running_stats=True)\n",
       "    )\n",
       "  )\n",
       "  (5): Sequential(\n",
       "    (0): BasicBlock(\n",
       "      (conv1): Conv2d(64, 128, kernel_size=(3, 3), stride=(2, 2), padding=(1, 1), bias=False)\n",
       "      (bn1): BatchNorm2d(128, eps=1e-05, momentum=0.1, affine=True, track_running_stats=True)\n",
       "      (relu): ReLU(inplace=True)\n",
       "      (conv2): Conv2d(128, 128, kernel_size=(3, 3), stride=(1, 1), padding=(1, 1), bias=False)\n",
       "      (bn2): BatchNorm2d(128, eps=1e-05, momentum=0.1, affine=True, track_running_stats=True)\n",
       "      (downsample): Sequential(\n",
       "        (0): Conv2d(64, 128, kernel_size=(1, 1), stride=(2, 2), bias=False)\n",
       "        (1): BatchNorm2d(128, eps=1e-05, momentum=0.1, affine=True, track_running_stats=True)\n",
       "      )\n",
       "    )\n",
       "    (1): BasicBlock(\n",
       "      (conv1): Conv2d(128, 128, kernel_size=(3, 3), stride=(1, 1), padding=(1, 1), bias=False)\n",
       "      (bn1): BatchNorm2d(128, eps=1e-05, momentum=0.1, affine=True, track_running_stats=True)\n",
       "      (relu): ReLU(inplace=True)\n",
       "      (conv2): Conv2d(128, 128, kernel_size=(3, 3), stride=(1, 1), padding=(1, 1), bias=False)\n",
       "      (bn2): BatchNorm2d(128, eps=1e-05, momentum=0.1, affine=True, track_running_stats=True)\n",
       "    )\n",
       "  )\n",
       "  (6): Sequential(\n",
       "    (0): BasicBlock(\n",
       "      (conv1): Conv2d(128, 256, kernel_size=(3, 3), stride=(2, 2), padding=(1, 1), bias=False)\n",
       "      (bn1): BatchNorm2d(256, eps=1e-05, momentum=0.1, affine=True, track_running_stats=True)\n",
       "      (relu): ReLU(inplace=True)\n",
       "      (conv2): Conv2d(256, 256, kernel_size=(3, 3), stride=(1, 1), padding=(1, 1), bias=False)\n",
       "      (bn2): BatchNorm2d(256, eps=1e-05, momentum=0.1, affine=True, track_running_stats=True)\n",
       "      (downsample): Sequential(\n",
       "        (0): Conv2d(128, 256, kernel_size=(1, 1), stride=(2, 2), bias=False)\n",
       "        (1): BatchNorm2d(256, eps=1e-05, momentum=0.1, affine=True, track_running_stats=True)\n",
       "      )\n",
       "    )\n",
       "    (1): BasicBlock(\n",
       "      (conv1): Conv2d(256, 256, kernel_size=(3, 3), stride=(1, 1), padding=(1, 1), bias=False)\n",
       "      (bn1): BatchNorm2d(256, eps=1e-05, momentum=0.1, affine=True, track_running_stats=True)\n",
       "      (relu): ReLU(inplace=True)\n",
       "      (conv2): Conv2d(256, 256, kernel_size=(3, 3), stride=(1, 1), padding=(1, 1), bias=False)\n",
       "      (bn2): BatchNorm2d(256, eps=1e-05, momentum=0.1, affine=True, track_running_stats=True)\n",
       "    )\n",
       "  )\n",
       "  (7): Sequential(\n",
       "    (0): BasicBlock(\n",
       "      (conv1): Conv2d(256, 512, kernel_size=(3, 3), stride=(2, 2), padding=(1, 1), bias=False)\n",
       "      (bn1): BatchNorm2d(512, eps=1e-05, momentum=0.1, affine=True, track_running_stats=True)\n",
       "      (relu): ReLU(inplace=True)\n",
       "      (conv2): Conv2d(512, 512, kernel_size=(3, 3), stride=(1, 1), padding=(1, 1), bias=False)\n",
       "      (bn2): BatchNorm2d(512, eps=1e-05, momentum=0.1, affine=True, track_running_stats=True)\n",
       "      (downsample): Sequential(\n",
       "        (0): Conv2d(256, 512, kernel_size=(1, 1), stride=(2, 2), bias=False)\n",
       "        (1): BatchNorm2d(512, eps=1e-05, momentum=0.1, affine=True, track_running_stats=True)\n",
       "      )\n",
       "    )\n",
       "    (1): BasicBlock(\n",
       "      (conv1): Conv2d(512, 512, kernel_size=(3, 3), stride=(1, 1), padding=(1, 1), bias=False)\n",
       "      (bn1): BatchNorm2d(512, eps=1e-05, momentum=0.1, affine=True, track_running_stats=True)\n",
       "      (relu): ReLU(inplace=True)\n",
       "      (conv2): Conv2d(512, 512, kernel_size=(3, 3), stride=(1, 1), padding=(1, 1), bias=False)\n",
       "      (bn2): BatchNorm2d(512, eps=1e-05, momentum=0.1, affine=True, track_running_stats=True)\n",
       "    )\n",
       "  )\n",
       "  (8): AdaptiveAvgPool2d(output_size=(1, 1))\n",
       ")"
      ]
     },
     "execution_count": 92,
     "metadata": {},
     "output_type": "execute_result"
    }
   ],
   "source": [
    "# load representation\n",
    "model = torchvision.models.resnet18()\n",
    "model = torch.nn.Sequential(*list(model.children())[:-1])\n",
    "model.load_state_dict(torch.load('resnet18_cifar10.pth'))\n",
    "model.eval()"
   ]
  },
  {
   "cell_type": "code",
   "execution_count": 93,
   "metadata": {},
   "outputs": [],
   "source": [
    "with open('data/cifar10.1_v6_data.npy', 'rb') as f:\n",
    "    cifar101_x_test = np.load(f)\n",
    "with open('data/cifar10.1_v6_labels.npy', 'rb') as f:\n",
    "    cifar101_y_test = np.load(f)\n",
    "transform = transforms.Compose([\n",
    "        transforms.ToTensor(),\n",
    "        transforms.Normalize(MEAN, STD)  \n",
    "    ])"
   ]
  },
  {
   "cell_type": "code",
   "execution_count": 94,
   "metadata": {},
   "outputs": [],
   "source": [
    "from torch.utils.data import Dataset, DataLoader\n",
    "class Cifar101(Dataset):\n",
    "    def __init__(self, images, labels, transform=None):\n",
    "        self.data = images\n",
    "        self.labels = labels\n",
    "        self.transform = transform\n",
    "    \n",
    "    def __len__(self):\n",
    "        return len(self.labels)\n",
    "\n",
    "    def __getitem__(self, idx):\n",
    "        image = self.data[idx]\n",
    "        if self.transform:\n",
    "            image = self.transform(image)\n",
    "        return image, self.labels[idx]\n",
    "    "
   ]
  },
  {
   "cell_type": "code",
   "execution_count": 95,
   "metadata": {},
   "outputs": [],
   "source": [
    "dataset = Cifar101(cifar101_x_test, cifar101_y_test, transform=transform)"
   ]
  },
  {
   "cell_type": "code",
   "execution_count": 99,
   "metadata": {},
   "outputs": [
    {
     "name": "stderr",
     "output_type": "stream",
     "text": [
      "100%|██████████| 2000/2000 [00:01<00:00, 1047.07it/s]\n"
     ]
    }
   ],
   "source": [
    "cifar101_512 = get_rep(model, dataset)"
   ]
  },
  {
   "cell_type": "code",
   "execution_count": 101,
   "metadata": {},
   "outputs": [],
   "source": [
    "with open('data/cifar101_x_test.npy', 'wb') as f:\n",
    "    np.save(f, cifar101_512)"
   ]
  },
  {
   "cell_type": "markdown",
   "metadata": {},
   "source": [
    "### Load cifars"
   ]
  },
  {
   "cell_type": "code",
   "execution_count": 6,
   "metadata": {},
   "outputs": [],
   "source": [
    "def load_cifar10_512():\n",
    "    with open('data/cifar10_x_train.npy', 'rb') as f:\n",
    "        x_train = np.load(f)\n",
    "    with open('data/cifar10_x_test.npy', 'rb') as f:\n",
    "        x_test = np.load(f)\n",
    "    with open('data/cifar10_y_train.npy', 'rb') as f:\n",
    "        y_train = np.load(f)\n",
    "    with open('data/cifar10_y_test.npy', 'rb') as f:\n",
    "        y_test = np.load(f)\n",
    "    return x_train, x_test, y_train, y_test"
   ]
  },
  {
   "cell_type": "code",
   "execution_count": 7,
   "metadata": {},
   "outputs": [],
   "source": [
    "def load_cifar101_512():\n",
    "    with open('data/cifar101_x_test.npy', 'rb') as f:\n",
    "        x_test = np.load(f)\n",
    "    with open('data/cifar10.1_v6_labels.npy', 'rb') as f:\n",
    "        y_test = np.load(f)\n",
    "    return x_test, y_test"
   ]
  },
  {
   "cell_type": "code",
   "execution_count": 8,
   "metadata": {},
   "outputs": [],
   "source": [
    "x_train, x_val, y_train, y_val = load_cifar10_512()\n",
    "x_test, y_test = load_cifar101_512()"
   ]
  },
  {
   "cell_type": "code",
   "execution_count": 65,
   "metadata": {},
   "outputs": [
    {
     "data": {
      "text/plain": [
       "(50000, 512)"
      ]
     },
     "execution_count": 65,
     "metadata": {},
     "output_type": "execute_result"
    }
   ],
   "source": []
  },
  {
   "cell_type": "markdown",
   "metadata": {},
   "source": [
    "### Shuffle data"
   ]
  },
  {
   "cell_type": "code",
   "execution_count": 8,
   "metadata": {},
   "outputs": [],
   "source": [
    "xy_test = np.concatenate([x_test, np.expand_dims(y_test, axis=1)], axis=1)\n",
    "np.random.shuffle(xy_test)\n",
    "x_test, y_test = xy_test[:, :512], xy_test[:,512:]"
   ]
  },
  {
   "cell_type": "code",
   "execution_count": 9,
   "metadata": {},
   "outputs": [
    {
     "data": {
      "text/plain": [
       "((2000, 512), (2000, 1))"
      ]
     },
     "execution_count": 9,
     "metadata": {},
     "output_type": "execute_result"
    }
   ],
   "source": [
    "x_test.shape, y_test.shape"
   ]
  },
  {
   "cell_type": "markdown",
   "metadata": {},
   "source": [
    "## H-Divergence"
   ]
  },
  {
   "cell_type": "code",
   "execution_count": 163,
   "metadata": {},
   "outputs": [],
   "source": [
    "import numpy as np\n",
    "from sklearn.decomposition import PCA\n",
    "\n",
    "\n",
    "def load_cifar10_512():\n",
    "    with open('data/cifar10_x_train.npy', 'rb') as f:\n",
    "        x_train = np.load(f)\n",
    "    #with open('baselines/data/cifar10_x_test.npy', 'rb') as f:\n",
    "    #    x_test = np.load(f)\n",
    "    with open('data/cifar10_y_train.npy', 'rb') as f:\n",
    "        y_train = np.load(f)\n",
    "    #with open('baselines/data/cifar10_y_test.npy', 'rb') as f:\n",
    "    #    y_test = np.load(f)\n",
    "    return x_train, y_train\n",
    "\n",
    "def load_cifar101_512():\n",
    "    with open('data/cifar101_x_test.npy', 'rb') as f:\n",
    "        x_test = np.load(f)\n",
    "    with open('data/cifar10.1_v6_labels.npy', 'rb') as f:\n",
    "        y_test = np.load(f)\n",
    "    return x_test, y_test\n",
    "\n",
    "def load_and_process_cifar(n_components=10):\n",
    "    # load datasets -------------------------------\n",
    "    x_train, y_train = load_cifar10_512()\n",
    "    x_test, y_test = load_cifar101_512()\n",
    "    \n",
    "    xy_train = np.concatenate([x_train, np.expand_dims(y_train, axis=1)], axis=1)\n",
    "    np.random.shuffle(xy_train)\n",
    "    x_train, y_train = xy_train[:, :512], xy_train[:,512:]\n",
    "    \n",
    "    xy_test = np.concatenate([x_test, np.expand_dims(y_test, axis=1)], axis=1)\n",
    "    np.random.shuffle(xy_test)\n",
    "    x_test, y_test = xy_test[:, :512], xy_test[:,512:]\n",
    "    # PCA -----------------------------------------\n",
    "    pca = PCA(n_components=n_components)\n",
    "    pca.fit(x_train)\n",
    "    x_train_pca, x_test_pca = pca.transform(x_train), pca.transform(x_test)\n",
    "    print('PCA explained variance ratio: ', sum(pca.explained_variance_ratio_))\n",
    "    return x_train_pca, x_test_pca, y_train, y_test\n",
    "    "
   ]
  },
  {
   "cell_type": "markdown",
   "metadata": {},
   "source": [
    "#### PCA"
   ]
  },
  {
   "cell_type": "code",
   "execution_count": 164,
   "metadata": {},
   "outputs": [
    {
     "name": "stdout",
     "output_type": "stream",
     "text": [
      "0.8065869583259311\n"
     ]
    }
   ],
   "source": [
    "from sklearn.decomposition import PCA\n",
    "x_train, x_test, y_train, y_test = load_and_process_cifar(n_components=20)"
   ]
  },
  {
   "cell_type": "code",
   "execution_count": 161,
   "metadata": {},
   "outputs": [],
   "source": [
    "from divergence import Divergence, permutation_test\n",
    "hdiv = Divergence('kl')\n",
    "MAX_SIZE=5"
   ]
  },
  {
   "cell_type": "code",
   "execution_count": 162,
   "metadata": {},
   "outputs": [
    {
     "name": "stderr",
     "output_type": "stream",
     "text": [
      "100%|██████████| 500/500 [00:00<00:00, 5825.91it/s]\n"
     ]
    }
   ],
   "source": [
    "flag, distr, est = permutation_test(hdiv, X=x_train, Y=x_test, perms=500, enable_tqdm=True, max_size=MAX_SIZE)"
   ]
  },
  {
   "cell_type": "code",
   "execution_count": 147,
   "metadata": {},
   "outputs": [
    {
     "name": "stdout",
     "output_type": "stream",
     "text": [
      "0\n"
     ]
    },
    {
     "data": {
      "image/png": "[encoded data removed]",
      "text/plain": [
       "<Figure size 640x480 with 1 Axes>"
      ]
     },
     "metadata": {},
     "output_type": "display_data"
    }
   ],
   "source": [
    "import matplotlib.pyplot as plt\n",
    "plt.hist(distr)\n",
    "plt.axvline(x=est, color='r', linestyle='--')\n",
    "print(flag)"
   ]
  },
  {
   "cell_type": "code",
   "execution_count": 154,
   "metadata": {},
   "outputs": [
    {
     "name": "stderr",
     "output_type": "stream",
     "text": [
      "100%|██████████| 100/100 [00:11<00:00,  8.61it/s]\n"
     ]
    },
    {
     "data": {
      "text/plain": [
       "0.18"
      ]
     },
     "execution_count": 154,
     "metadata": {},
     "output_type": "execute_result"
    }
   ],
   "source": [
    "flags = 0\n",
    "for i in tqdm(range(100)):\n",
    "    flag, distr, est = permutation_test(hdiv, X=x_train, Y=x_test, perms=500, enable_tqdm=False, max_size=MAX_SIZE)\n",
    "    flags += flag\n",
    "flags /= 100\n",
    "flags"
   ]
  },
  {
   "cell_type": "code",
   "execution_count": 5,
   "metadata": {},
   "outputs": [],
   "source": [
    "class KL_Divergence:\n",
    "    '''\n",
    "    Given two datasets, fit 2 gaussians on each of them.\n",
    "    Then, compute the kl-divergence between them depending on the mode.\n",
    "    '''\n",
    "    def __init__(self, bandwidth):\n",
    "        self.bandwidth = bandwidth\n",
    "    \n",
    "    def get_distance(self, X, Y):\n",
    "        X, Y = X.T, Y.T\n",
    "        kernel_X = stats.gaussian_kde(X, self.bandwidth)\n",
    "        kernel_Y = stats.gaussian_kde(Y, self.bandwidth)\n",
    "        prob_p = kernel_X.evaluate(X)\n",
    "        logprob_p = kernel_X.logpdf(X)\n",
    "        logprob_q = kernel_Y.logpdf(X)\n",
    "        \n",
    "        kl = np.mean(np.multiply(prob_p, logprob_p - logprob_q))\n",
    "        \n",
    "        return kl"
   ]
  },
  {
   "cell_type": "markdown",
   "metadata": {},
   "source": [
    "### Test .py file"
   ]
  },
  {
   "cell_type": "code",
   "execution_count": 134,
   "metadata": {},
   "outputs": [],
   "source": [
    "import numpy as np\n",
    "from divergence import Divergence, permutation_test\n",
    "import matplotlib.pyplot as plt\n",
    "%matplotlib inline\n",
    "\n",
    "%load_ext autoreload\n",
    "%autoreload 2\n"
   ]
  },
  {
   "cell_type": "code",
   "execution_count": 45,
   "metadata": {},
   "outputs": [],
   "source": [
    "distance = Divergence('h')\n",
    "X = np.random.normal(0,1, (50000, 10))\n",
    "Y = np.random.normal(0.5,1, (30, 10))"
   ]
  },
  {
   "cell_type": "code",
   "execution_count": null,
   "metadata": {},
   "outputs": [],
   "source": [
    "flag, distr, est = permutation_test(distance, X, Y, enable_tqdm=True)"
   ]
  },
  {
   "cell_type": "code",
   "execution_count": 48,
   "metadata": {},
   "outputs": [
    {
     "name": "stdout",
     "output_type": "stream",
     "text": [
      "0\n"
     ]
    },
    {
     "data": {
      "image/png": "[encoded data removed]",
      "text/plain": [
       "<Figure size 640x480 with 1 Axes>"
      ]
     },
     "metadata": {},
     "output_type": "display_data"
    }
   ],
   "source": [
    "plt.hist(distr)\n",
    "plt.axvline(x=est, color='r', linestyle='--')\n",
    "print(flag)"
   ]
  },
  {
   "cell_type": "markdown",
   "metadata": {},
   "source": [
    "## UCI Dataset debug"
   ]
  },
  {
   "cell_type": "code",
   "execution_count": 1,
   "metadata": {},
   "outputs": [],
   "source": [
    "from scipy.io import loadmat\n",
    "import numpy as np\n",
    "from divergence import Divergence, permutation_test, _bootstrap\n",
    "from uci_loader import load_and_process_uci\n",
    "from sklearn.decomposition import PCA\n",
    "from matplotlib import pyplot as plt\n",
    "from tqdm import tqdm\n",
    "%load_ext autoreload\n",
    "%autoreload 2\n",
    "%matplotlib inline\n",
    "uci_dict = loadmat('../data/sample_data/uci_heart_processed.mat')"
   ]
  },
  {
   "cell_type": "code",
   "execution_count": 49,
   "metadata": {},
   "outputs": [],
   "source": [
    "distance = Divergence('h')\n",
    "# load data\n",
    "x_train, x_test, y_train, y_test = load_and_process_uci('../data/sample_data/uci_heart_processed.mat')"
   ]
  },
  {
   "cell_type": "code",
   "execution_count": 50,
   "metadata": {},
   "outputs": [],
   "source": [
    "def normalize(data, mean, std):\n",
    "    return (data - mean) / std"
   ]
  },
  {
   "cell_type": "code",
   "execution_count": 51,
   "metadata": {},
   "outputs": [],
   "source": [
    "# normalize data\n",
    "train_mean, train_std = np.mean(x_train, axis=0), np.std(x_train, axis=0)\n",
    "x_train = normalize(x_train, train_mean, train_std)\n",
    "x_test = normalize(x_test, train_mean, train_std)"
   ]
  },
  {
   "cell_type": "code",
   "execution_count": 52,
   "metadata": {},
   "outputs": [],
   "source": [
    "pca = PCA(n_components=9)\n",
    "pca.fit(x_train)\n",
    "x_train, x_test = pca.transform(x_train), pca.transform(x_test)"
   ]
  },
  {
   "cell_type": "code",
   "execution_count": 53,
   "metadata": {},
   "outputs": [
    {
     "data": {
      "text/plain": [
       "<matplotlib.collections.PathCollection at 0x7f1960088130>"
      ]
     },
     "execution_count": 53,
     "metadata": {},
     "output_type": "execute_result"
    },
    {
     "data": {
      "image/png": "[encoded data removed]",
      "text/plain": [
       "<Figure size 640x480 with 1 Axes>"
      ]
     },
     "metadata": {},
     "output_type": "display_data"
    }
   ],
   "source": [
    "plt.scatter(x_train[:, 0], x_train[:, 1])\n",
    "plt.scatter(x_test[:, 0], x_test[:, 1])"
   ]
  },
  {
   "cell_type": "code",
   "execution_count": 57,
   "metadata": {},
   "outputs": [],
   "source": [
    "MAX_SIZE=100"
   ]
  },
  {
   "cell_type": "code",
   "execution_count": 58,
   "metadata": {},
   "outputs": [
    {
     "name": "stderr",
     "output_type": "stream",
     "text": [
      "100%|██████████| 500/500 [00:00<00:00, 662.36it/s]"
     ]
    },
    {
     "name": "stdout",
     "output_type": "stream",
     "text": [
      "1\n"
     ]
    },
    {
     "name": "stderr",
     "output_type": "stream",
     "text": [
      "\n"
     ]
    }
   ],
   "source": [
    "flag, distr, est = permutation_test(distance, X=x_train, Y=x_test[:MAX_SIZE], enable_tqdm=True, max_size=MAX_SIZE)"
   ]
  },
  {
   "cell_type": "code",
   "execution_count": 59,
   "metadata": {},
   "outputs": [
    {
     "name": "stdout",
     "output_type": "stream",
     "text": [
      "1\n"
     ]
    },
    {
     "data": {
      "image/png": "[encoded data removed]",
      "text/plain": [
       "<Figure size 640x480 with 1 Axes>"
      ]
     },
     "metadata": {},
     "output_type": "display_data"
    }
   ],
   "source": [
    "plt.hist(distr)\n",
    "plt.axvline(x=est, color='r', linestyle='--')\n",
    "print(flag)"
   ]
  },
  {
   "cell_type": "code",
   "execution_count": 104,
   "metadata": {},
   "outputs": [
    {
     "data": {
      "text/plain": [
       "[0.05868006494841982,\n",
       " 0.05634054264678756,\n",
       " 0.07686247002408297,\n",
       " 0.09050158547751863,\n",
       " 0.06392156271816685,\n",
       " 0.07370496210679711,\n",
       " 0.06710078153121213,\n",
       " 0.09167060237461211,\n",
       " 0.060412730890125665,\n",
       " 0.07281906795569881,\n",
       " 0.08800304703771733,\n",
       " 0.08325963788886348,\n",
       " 0.0895980259267235,\n",
       " 0.0977774969437144,\n",
       " 0.07969102261527272,\n",
       " 0.07616256671683708,\n",
       " 0.03849139725473716,\n",
       " 0.0892845658597885,\n",
       " 0.0840394954870467,\n",
       " 0.059997611159519515,\n",
       " 0.06469010827626853,\n",
       " 0.0847397843173141,\n",
       " 0.08714113715954941,\n",
       " 0.05738304290470708,\n",
       " 0.1041936602467457,\n",
       " 0.05620876645096118,\n",
       " 0.0751256902840236,\n",
       " 0.06262409903275401,\n",
       " 0.05649498279627174,\n",
       " 0.05865647179068212,\n",
       " 0.09670575560532768,\n",
       " 0.06185112383096403,\n",
       " 0.06625683372315638,\n",
       " 0.08024462296489165,\n",
       " 0.053457381744685506,\n",
       " 0.10416501826026714,\n",
       " 0.08127091254230301,\n",
       " 0.09705487826470272,\n",
       " 0.06246001060969242,\n",
       " 0.062334627828184,\n",
       " 0.05520121080493556,\n",
       " 0.07002239699714075,\n",
       " 0.05234839887597609,\n",
       " 0.07332873433403098,\n",
       " 0.11680058806880478,\n",
       " 0.07493789272650453,\n",
       " 0.0850541303514154,\n",
       " 0.08817051481847304,\n",
       " 0.08406531654281313,\n",
       " 0.07749844924635507,\n",
       " 0.07733826698659385,\n",
       " 0.0976893213173815,\n",
       " 0.06417121570842976,\n",
       " 0.09670107008562745,\n",
       " 0.09120036868415227,\n",
       " 0.05118045910486391,\n",
       " 0.059740176663970246,\n",
       " 0.0822924618211669,\n",
       " 0.07633937805249769,\n",
       " 0.08795156229939494,\n",
       " 0.05694697563909745,\n",
       " 0.05707802462223732,\n",
       " 0.062403138434361516,\n",
       " 0.09222194656465987,\n",
       " 0.06587834928328284,\n",
       " 0.07103572391066848,\n",
       " 0.056928762084299755,\n",
       " 0.08068286640875577,\n",
       " 0.039204708469014804,\n",
       " 0.04395930356301658,\n",
       " 0.09753008690484499,\n",
       " 0.09827878123574418,\n",
       " 0.07693795937074821,\n",
       " 0.06087585107897553,\n",
       " 0.06995247303609542,\n",
       " 0.06749345172616028,\n",
       " 0.07208117127494429,\n",
       " 0.06553223008765396,\n",
       " 0.05197530859928445,\n",
       " 0.14785324886482254,\n",
       " 0.0870226740934621,\n",
       " 0.07548779576134734,\n",
       " 0.07814035965759825,\n",
       " 0.06848122372960574,\n",
       " 0.06919329107018513,\n",
       " 0.05887013714425304,\n",
       " 0.09494924886923073,\n",
       " 0.07824919274082642,\n",
       " 0.052478864199268394,\n",
       " 0.05320757931582154,\n",
       " 0.0768919175897862,\n",
       " 0.09326030423605403,\n",
       " 0.06107086567809805,\n",
       " 0.04017497316662588,\n",
       " 0.07187602980656571,\n",
       " 0.09625204899998341,\n",
       " 0.07527579706348941,\n",
       " 0.06079594943974609,\n",
       " 0.08149761441535386,\n",
       " 0.0662701172572504,\n",
       " 0.05927211808013144,\n",
       " 0.05901625104332009,\n",
       " 0.08844360821294028,\n",
       " 0.07020535764271774,\n",
       " 0.08371793789460824,\n",
       " 0.05667502422972248,\n",
       " 0.09810710039129589,\n",
       " 0.06655826894332062,\n",
       " 0.04521804423539866,\n",
       " 0.08816284683529219,\n",
       " 0.05241210757943726,\n",
       " 0.1045928890147998,\n",
       " 0.06342739512265005,\n",
       " 0.1096831145088597,\n",
       " 0.07949621093499637,\n",
       " 0.08318461782219622,\n",
       " 0.09606015075744523,\n",
       " 0.08460489203279842,\n",
       " 0.0685928552534758,\n",
       " 0.06715252005419181,\n",
       " 0.10442167318209972,\n",
       " 0.06844757015098679,\n",
       " 0.07683167855458528,\n",
       " 0.07514886354192463,\n",
       " 0.07903630052233446,\n",
       " 0.05683778203425671,\n",
       " 0.08706492474349492,\n",
       " 0.07755820704153127,\n",
       " 0.06558416183087612,\n",
       " 0.06398552515825795,\n",
       " 0.0742326764935397,\n",
       " 0.08353672755408681,\n",
       " 0.09614232373189413,\n",
       " 0.06415622326865744,\n",
       " 0.059404428322583414,\n",
       " 0.08662762275622615,\n",
       " 0.05624932018695894,\n",
       " 0.05970682555090967,\n",
       " 0.06693714958659136,\n",
       " 0.0695350948084652,\n",
       " 0.09187434608068834,\n",
       " 0.06643736947803003,\n",
       " 0.10376810513502654,\n",
       " 0.07377974326751335,\n",
       " 0.075872703173407,\n",
       " 0.0788105766287126,\n",
       " 0.08635404006414493,\n",
       " 0.04104525563734196,\n",
       " 0.04803729844798088,\n",
       " 0.06292371632381233,\n",
       " 0.09238096079123892,\n",
       " 0.0705970848572024,\n",
       " 0.07656891971841162,\n",
       " 0.07006097851577575,\n",
       " 0.07200387611619075,\n",
       " 0.06909365971185011,\n",
       " 0.08501522995652788,\n",
       " 0.09904494965028032,\n",
       " 0.04946693299210203,\n",
       " 0.06214799552938732,\n",
       " 0.08379275678304854,\n",
       " 0.05755478699771377,\n",
       " 0.052632652701434246,\n",
       " 0.05573406608578768,\n",
       " 0.07769009749277878,\n",
       " 0.10224764583501322,\n",
       " 0.04915578959386924,\n",
       " 0.08339601064353719,\n",
       " 0.08627253541195401,\n",
       " 0.08407450941461825,\n",
       " 0.08835436334036118,\n",
       " 0.06809376082843599,\n",
       " 0.06256975013016142,\n",
       " 0.0816383462657777,\n",
       " 0.08175105297044194,\n",
       " 0.06699630441327376,\n",
       " 0.0838130022378083,\n",
       " 0.0956851187311285,\n",
       " 0.05705390807110433,\n",
       " 0.0628289074418813,\n",
       " 0.08342058714180922,\n",
       " 0.051206844787311745,\n",
       " 0.06676049326533029,\n",
       " 0.07437506862255816,\n",
       " 0.08699485544697172,\n",
       " 0.08343297057726051,\n",
       " 0.06877052952001783,\n",
       " 0.07139799467528007,\n",
       " 0.08919189891508239,\n",
       " 0.05750834923075665,\n",
       " 0.07857331646168486,\n",
       " 0.06349157932964378,\n",
       " 0.09149759764919718,\n",
       " 0.06106112183772083,\n",
       " 0.0759347603931122,\n",
       " 0.09616766313886771,\n",
       " 0.07752647693684978,\n",
       " 0.07793653490519059,\n",
       " 0.06387225158517751,\n",
       " 0.06655593930786363,\n",
       " 0.07597588600537186,\n",
       " 0.05062485994173915,\n",
       " 0.07189291472495896,\n",
       " 0.05479343197058917,\n",
       " 0.06522546685574326,\n",
       " 0.08485534700844699,\n",
       " 0.08831038955854975,\n",
       " 0.0651227975448645,\n",
       " 0.05862899628447771,\n",
       " 0.07323072742992842,\n",
       " 0.07711964979371189,\n",
       " 0.05582793561405275,\n",
       " 0.08476995590656955,\n",
       " 0.029468187367950982,\n",
       " 0.06464326318510683,\n",
       " 0.08694301836613327,\n",
       " 0.07087867719581187,\n",
       " 0.06463252355702043,\n",
       " 0.07387560838846152,\n",
       " 0.0886623801574844,\n",
       " 0.077260188222807,\n",
       " 0.07631915437661974,\n",
       " 0.06499789061860817,\n",
       " 0.08138243415806912,\n",
       " 0.09775903361267435,\n",
       " 0.10394776960630203,\n",
       " 0.0788815416834332,\n",
       " 0.10072620036675417,\n",
       " 0.08879812892996419,\n",
       " 0.08246862578677572,\n",
       " 0.08529105697860473,\n",
       " 0.06436980413022475,\n",
       " 0.0717993758064539,\n",
       " 0.05901043958928476,\n",
       " 0.06712577657170726,\n",
       " 0.07678934653771385,\n",
       " 0.05803343675430117,\n",
       " 0.07360280098855032,\n",
       " 0.07540953619906787,\n",
       " 0.06170641028181212,\n",
       " 0.05846526675442387,\n",
       " 0.08652248628623749,\n",
       " 0.07427401105799536,\n",
       " 0.06752635962035836,\n",
       " 0.05039813276827321,\n",
       " 0.08471416474710658,\n",
       " 0.05225648574639319,\n",
       " 0.07218398733587073,\n",
       " 0.07464670651049587,\n",
       " 0.07122023520454057,\n",
       " 0.11753654745028363,\n",
       " 0.060290307218031636,\n",
       " 0.05838353899279802,\n",
       " 0.06315597006760143,\n",
       " 0.10839776630706055,\n",
       " 0.07455894392229112,\n",
       " 0.04034018897320024,\n",
       " 0.07448480378933375,\n",
       " 0.08137828459608709,\n",
       " 0.05725545708423052,\n",
       " 0.07575421822744488,\n",
       " 0.07107582963474623,\n",
       " 0.07770698629412554,\n",
       " 0.05299348235443535,\n",
       " 0.05752393005795042,\n",
       " 0.07176585269826408,\n",
       " 0.06039353621543331,\n",
       " 0.049733818011600484,\n",
       " 0.06514200437205364,\n",
       " 0.04999591233712142,\n",
       " 0.06476327664912507,\n",
       " 0.04407312431264021,\n",
       " 0.0840397626193079,\n",
       " 0.06505283672675155,\n",
       " 0.08650738971505856,\n",
       " 0.09328319128707463,\n",
       " 0.07681511162080756,\n",
       " 0.05960079493153714,\n",
       " 0.11788159671166376,\n",
       " 0.07762777754404837,\n",
       " 0.07649694856481126,\n",
       " 0.06793998477850138,\n",
       " 0.05060965899672443,\n",
       " 0.05669283303328676,\n",
       " 0.06679487144021579,\n",
       " 0.04696753313868918,\n",
       " 0.08302332197993323,\n",
       " 0.09919273127308248,\n",
       " 0.06446824958193798,\n",
       " 0.08059442336223732,\n",
       " 0.07250976658930153,\n",
       " 0.06634824577974374,\n",
       " 0.07610193175434254,\n",
       " 0.06106015506119089,\n",
       " 0.05648462065226223,\n",
       " 0.056923210230343635,\n",
       " 0.06953912602591927,\n",
       " 0.06606753481705407,\n",
       " 0.062160950593966646,\n",
       " 0.07005845265402844,\n",
       " 0.07976100771903116,\n",
       " 0.07153097373496387,\n",
       " 0.059333774249011206,\n",
       " 0.07991178737925875,\n",
       " 0.062454420710508884,\n",
       " 0.05351636141201688,\n",
       " 0.062066686075718636,\n",
       " 0.05891209318003643,\n",
       " 0.0800070106558719,\n",
       " 0.09981850979600804,\n",
       " 0.081308022299722,\n",
       " 0.09014375483241022,\n",
       " 0.05107621793423345,\n",
       " 0.07622415076210576,\n",
       " 0.04688005903546255,\n",
       " 0.0660973405218499,\n",
       " 0.06634108606066036,\n",
       " 0.08112255979097416,\n",
       " 0.08566451484710669,\n",
       " 0.05199639574201331,\n",
       " 0.04680824538617134,\n",
       " 0.05391341989600118,\n",
       " 0.1111800069937754,\n",
       " 0.06216950893776918,\n",
       " 0.06748443011760141,\n",
       " 0.05136826924132176,\n",
       " 0.05547860284464967,\n",
       " 0.09100138056107898,\n",
       " 0.0630764252643603,\n",
       " 0.07803964829879373,\n",
       " 0.04166155873009281,\n",
       " 0.06416695158517616,\n",
       " 0.047886847985552095,\n",
       " 0.04777596047614541,\n",
       " 0.07449582168279889,\n",
       " 0.08666694503902672,\n",
       " 0.07317606204242111,\n",
       " 0.07724485473249754,\n",
       " 0.09535608114065841,\n",
       " 0.07019897161758326,\n",
       " 0.07254890904926103,\n",
       " 0.07915038266502439,\n",
       " 0.06229675415084657,\n",
       " 0.09233595818884766,\n",
       " 0.10125682636780198,\n",
       " 0.05248178347286192,\n",
       " 0.07573110341278877,\n",
       " 0.05930249463085069,\n",
       " 0.09353080186822194,\n",
       " 0.07888700303870078,\n",
       " 0.0674965699243133,\n",
       " 0.08542287988716968,\n",
       " 0.07244035432628859,\n",
       " 0.07369307370545819,\n",
       " 0.06435255538614637,\n",
       " 0.04807102813103459,\n",
       " 0.0891939790797327,\n",
       " 0.07051717585025408,\n",
       " 0.06493486603471244,\n",
       " 0.06870615502271082,\n",
       " 0.08822468145927775,\n",
       " 0.07258833034978185,\n",
       " 0.06792502731646177,\n",
       " 0.045785914817679796,\n",
       " 0.05148780660761432,\n",
       " 0.09431889280220496,\n",
       " 0.061719135873890885,\n",
       " 0.06795735251081325,\n",
       " 0.08554869774507168,\n",
       " 0.07232553007643183,\n",
       " 0.0630709406777763,\n",
       " 0.07428021106058225,\n",
       " 0.07626794776274082,\n",
       " 0.06340631663173468,\n",
       " 0.06983017544718528,\n",
       " 0.09798446199551059,\n",
       " 0.0880240618702155,\n",
       " 0.08608580744216532,\n",
       " 0.06620590178389829,\n",
       " 0.09774327147188178,\n",
       " 0.0838840282371347,\n",
       " 0.055031032826939885,\n",
       " 0.08404662084999615,\n",
       " 0.08762161415010539,\n",
       " 0.08932870431770912,\n",
       " 0.07832365459825574,\n",
       " 0.08340270119099724,\n",
       " 0.08050319776794534,\n",
       " 0.06893720293703609,\n",
       " 0.05521247150854691,\n",
       " 0.08653464987053905,\n",
       " 0.12174889026348534,\n",
       " 0.05924452343363029,\n",
       " 0.06393949038198876,\n",
       " 0.0594840549042015,\n",
       " 0.09299451577576257,\n",
       " 0.06263878480833096,\n",
       " 0.09254506011902564,\n",
       " 0.055373399520131095,\n",
       " 0.06435649257796072,\n",
       " 0.06832474768909425,\n",
       " 0.07435035497059594,\n",
       " 0.058784906804153714,\n",
       " 0.06847374020959496,\n",
       " 0.04801052561025898,\n",
       " 0.0609456136083697,\n",
       " 0.04226716198325864,\n",
       " 0.09147102430199627,\n",
       " 0.07545862708970041,\n",
       " 0.08599569239318505,\n",
       " 0.05373521133560821,\n",
       " 0.07847117188465091,\n",
       " 0.05289146558924429,\n",
       " 0.07576135475325607,\n",
       " 0.07885638372933812,\n",
       " 0.06852668716405663,\n",
       " 0.07563337831569505,\n",
       " 0.10450331155705506,\n",
       " 0.04959273853949231,\n",
       " 0.08513092798344069,\n",
       " 0.040082997302643975,\n",
       " 0.0552029308601405,\n",
       " 0.09544212822615528,\n",
       " 0.0600577643659177,\n",
       " 0.05767883478945546,\n",
       " 0.05764169589665169,\n",
       " 0.0874600565017234,\n",
       " 0.06348277679273195,\n",
       " 0.10312080631993314,\n",
       " 0.05174172473603722,\n",
       " 0.06834798214718596,\n",
       " 0.09035766219673391,\n",
       " 0.07494124400370783,\n",
       " 0.09541065653232561,\n",
       " 0.07430866704801709,\n",
       " 0.08792295922443305,\n",
       " 0.05280401380915922,\n",
       " 0.07027526975136311,\n",
       " 0.08288787303625167,\n",
       " 0.06783082700308096,\n",
       " 0.05352240792334051,\n",
       " 0.0584320540756762,\n",
       " 0.04826942204342011,\n",
       " 0.07668248269074063,\n",
       " 0.08194664672332319,\n",
       " 0.03766470082478701,\n",
       " 0.08959972093831858,\n",
       " 0.08475489739677489,\n",
       " 0.054601749308848646,\n",
       " 0.08355468654806852,\n",
       " 0.07517513428900102,\n",
       " 0.08528951976196453,\n",
       " 0.0477540916612984,\n",
       " 0.08013626648859073,\n",
       " 0.07643193702687068,\n",
       " 0.07304074274176564,\n",
       " 0.08915055745209077,\n",
       " 0.09429180106945712,\n",
       " 0.10121667060868766,\n",
       " 0.07181276711814011,\n",
       " 0.04878271060889183,\n",
       " 0.07877086147288104,\n",
       " 0.07543475303097935,\n",
       " 0.07885136130275594,\n",
       " 0.08168822351539085,\n",
       " 0.07619399604530575,\n",
       " 0.05336467367078246,\n",
       " 0.07756821240903111,\n",
       " 0.0460829943795682,\n",
       " 0.08906776937312255,\n",
       " 0.05206639293511728,\n",
       " 0.07053502460891536,\n",
       " 0.059935815964188954,\n",
       " 0.04593797245190778,\n",
       " 0.06460015242988781,\n",
       " 0.07042779869122118,\n",
       " 0.06068886865364842,\n",
       " 0.07319305818368615,\n",
       " 0.048081396881871186,\n",
       " 0.11257584357807016,\n",
       " 0.08273187456963349,\n",
       " 0.08523973527288842,\n",
       " 0.04695880745456904,\n",
       " 0.07565898430728346,\n",
       " 0.07166331662071901,\n",
       " 0.0817200562704068,\n",
       " 0.051581883712364274,\n",
       " 0.08681510110034374,\n",
       " 0.08516128546121138,\n",
       " 0.10129891253855128,\n",
       " 0.0882618017317709,\n",
       " 0.09105997860580217,\n",
       " 0.08332138026043623,\n",
       " 0.056173136936664037,\n",
       " 0.059979360147836225,\n",
       " 0.08246087621039777,\n",
       " 0.053819248692731136,\n",
       " 0.08648365175323125,\n",
       " 0.07928905286334675,\n",
       " 0.07704450450513534]"
      ]
     },
     "execution_count": 104,
     "metadata": {},
     "output_type": "execute_result"
    }
   ],
   "source": [
    "distr"
   ]
  },
  {
   "cell_type": "markdown",
   "metadata": {},
   "source": [
    "### KL-divergence debugging"
   ]
  },
  {
   "cell_type": "code",
   "execution_count": 3,
   "metadata": {},
   "outputs": [],
   "source": [
    "import numpy as np\n",
    "import pickle\n",
    "from scipy import stats\n",
    "import sys\n",
    "import argparse\n",
    "import os\n",
    "\n",
    "from tqdm import tqdm"
   ]
  },
  {
   "cell_type": "code",
   "execution_count": 56,
   "metadata": {},
   "outputs": [],
   "source": [
    "def get_kde_estimates(bandwidth, data) :\n",
    "\t# kde = KernelDensity(bandwidth=bandwidth, kernel='gaussian')\n",
    "\tdata = data.T\n",
    "\tkernel = stats.gaussian_kde(data, bandwidth)\n",
    "\treturn kernel.evaluate(data)\n",
    "\n",
    "def get_kde_estimates_log(bandwidth, data) :\n",
    "\t# kde = KernelDensity(bandwidth=bandwidth, kernel='gaussian')\n",
    "\tdata = data.T\n",
    "\tkernel = stats.gaussian_kde(data, bandwidth)\n",
    "\treturn kernel.logpdf(data)"
   ]
  },
  {
   "cell_type": "code",
   "execution_count": 58,
   "metadata": {},
   "outputs": [],
   "source": [
    "\n",
    "def in_top_k(scores, k):\n",
    "\tindices = np.argsort(scores)[::-1]\n",
    "\tpos = np.where(indices==0)[0][0]\n",
    "\treturn pos <= k\n",
    "\n",
    "def evaluate(dataX, dataY, max_data_size=100, bandwidth='scott'):\n",
    "\tscores = []\n",
    "\tidx1 = np.random.choice(len(dataX), max_data_size, replace=False)\n",
    "\tidx2 = np.random.choice(len(dataY), max_data_size, replace=False)\n",
    "\n",
    "\tdata1 = dataX[idx1]\n",
    "\tdata2 = dataY[idx2]\n",
    "\tfor rep in range(100):\n",
    "\n",
    "\t\tif rep != 0:\n",
    "\t\t\tdata_all = np.concatenate([data1, data2], axis=0)\n",
    "\t\t\tdata_all = data_all[np.random.permutation(range(data_all.shape[0]))]\n",
    "\t\t\tdata1 = data_all[:max_data_size]\n",
    "\t\t\tdata2 = data_all[max_data_size:]\n",
    "\t\tdatam = np.concatenate([data1[:max_data_size//2], data2[:max_data_size//2]], axis=0)\n",
    "\t\t\n",
    "\t\tlogprob_1 = get_kde_estimates(bandwidth, data1)\n",
    "\t\tlogprob_2 = get_kde_estimates(bandwidth, data2)\n",
    "\t\tlogprob_m = get_kde_estimates(bandwidth, datam)\n",
    "\n",
    "\t\tvdiv = np.mean(-logprob_m) - min(np.mean(-logprob_1), np.mean(-logprob_2))\n",
    "\t\tscores.append(vdiv)\n",
    "\n",
    "\treturn in_top_k(scores, k=5), scores\n",
    "\n",
    "def evaluate_log(dataX, dataY, max_data_size=100, bandwidth='scott'):\n",
    "\tscores = []\n",
    "\tidx1 = np.random.choice(len(dataX), max_data_size, replace=False)\n",
    "\tidx2 = np.random.choice(len(dataY), max_data_size, replace=False)\n",
    "\n",
    "\tdata1 = dataX[idx1]\n",
    "\tdata2 = dataY[idx2]\n",
    "\tfor rep in range(100):\n",
    "\n",
    "\t\tif rep != 0:\n",
    "\t\t\tdata_all = np.concatenate([data1, data2], axis=0)\n",
    "\t\t\tdata_all = data_all[np.random.permutation(range(data_all.shape[0]))]\n",
    "\t\t\tdata1 = data_all[:max_data_size]\n",
    "\t\t\tdata2 = data_all[max_data_size:]\n",
    "\t\tdatam = np.concatenate([data1[:max_data_size//2], data2[:max_data_size//2]], axis=0)\n",
    "\t\t\n",
    "\t\tlogprob_1 = get_kde_estimates_log(bandwidth, data1)\n",
    "\t\tlogprob_2 = get_kde_estimates_log(bandwidth, data2)\n",
    "\t\tlogprob_m = get_kde_estimates_log(bandwidth, datam)\n",
    "\n",
    "\t\tvdiv = np.mean(-logprob_m) - min(np.mean(-logprob_1), np.mean(-logprob_2))\n",
    "\t\tscores.append(vdiv)\n",
    "\n",
    "\treturn in_top_k(scores, k=5), scores"
   ]
  },
  {
   "cell_type": "code",
   "execution_count": 53,
   "metadata": {},
   "outputs": [],
   "source": [
    "x = np.random.normal(0,1, (1000, 10))\n",
    "y = np.random.normal(0.5,1, (1000, 10))"
   ]
  },
  {
   "cell_type": "code",
   "execution_count": 59,
   "metadata": {},
   "outputs": [],
   "source": [
    "normalspace, normalspacestd = [], []\n",
    "logspace, logspacestd = [], []"
   ]
  },
  {
   "cell_type": "code",
   "execution_count": 61,
   "metadata": {},
   "outputs": [
    {
     "name": "stderr",
     "output_type": "stream",
     "text": [
      "100%|██████████| 10/10 [02:06<00:00, 12.66s/it]\n"
     ]
    }
   ],
   "source": [
    "for i in tqdm(range(10)):\n",
    "    x = np.random.normal(0,1, (1000,10))\n",
    "    y = np.random.normal(i/10, 1, (1000,10))\n",
    "    tpr, tprlog = [], []\n",
    "    for j in range(100):\n",
    "        tpr.append(evaluate(x,y,max_data_size=100)[0])\n",
    "        tprlog.append(evaluate_log(x,y,max_data_size=100)[0])\n",
    "    normalspace.append(np.mean(tpr))\n",
    "    normalspacestd.append(np.std(tpr))\n",
    "    logspace.append(np.mean(tprlog))\n",
    "    logspacestd.append(np.std(tprlog))\n",
    "    "
   ]
  },
  {
   "cell_type": "code",
   "execution_count": 64,
   "metadata": {},
   "outputs": [],
   "source": [
    "import matplotlib.pyplot as plt\n",
    "%matplotlib inline"
   ]
  },
  {
   "cell_type": "code",
   "execution_count": 67,
   "metadata": {},
   "outputs": [
    {
     "data": {
      "text/plain": [
       "<matplotlib.collections.PolyCollection at 0x7f7e4a546b80>"
      ]
     },
     "execution_count": 67,
     "metadata": {},
     "output_type": "execute_result"
    },
    {
     "data": {
      "image/png": "[encoded data removed]",
      "text/plain": [
       "<Figure size 640x480 with 1 Axes>"
      ]
     },
     "metadata": {},
     "output_type": "display_data"
    }
   ],
   "source": [
    "x = np.arange(10)\n",
    "normalspace, normalspacestd = np.array(normalspace), np.array(normalspacestd)\n",
    "logspace, logspacestd = np.array(logspace), np.array(logspacestd)\n"
   ]
  },
  {
   "cell_type": "code",
   "execution_count": 69,
   "metadata": {},
   "outputs": [
    {
     "data": {
      "text/plain": [
       "<matplotlib.collections.PolyCollection at 0x7f7e4a520640>"
      ]
     },
     "execution_count": 69,
     "metadata": {},
     "output_type": "execute_result"
    },
    {
     "data": {
      "image/png": "[encoded data removed]",
      "text/plain": [
       "<Figure size 640x480 with 1 Axes>"
      ]
     },
     "metadata": {},
     "output_type": "display_data"
    }
   ],
   "source": [
    "plt.plot(x, normalspace)\n",
    "plt.fill_between(x,normalspace-normalspacestd, normalspace+normalspacestd, alpha=0.1)\n",
    "plt.plot(x, logspace)\n",
    "plt.fill_between(x,logspace-logspacestd, logspace+logspacestd, alpha=0.1)\n",
    "\n"
   ]
  },
  {
   "cell_type": "code",
   "execution_count": null,
   "metadata": {},
   "outputs": [],
   "source": []
  }
 ],
 "metadata": {
  "kernelspec": {
   "display_name": "dl",
   "language": "python",
   "name": "python3"
  },
  "language_info": {
   "codemirror_mode": {
    "name": "ipython",
    "version": 3
   },
   "file_extension": ".py",
   "mimetype": "text/x-python",
   "name": "python",
   "nbconvert_exporter": "python",
   "pygments_lexer": "ipython3",
   "version": "3.9.18"
  }
 },
 "nbformat": 4,
 "nbformat_minor": 2
}
