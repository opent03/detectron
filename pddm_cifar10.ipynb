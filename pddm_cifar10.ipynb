{
 "cells": [
  {
   "cell_type": "code",
   "execution_count": 1,
   "metadata": {},
   "outputs": [],
   "source": [
    "import numpy as np\n",
    "import torch\n",
    "from baselines.cifar10_loader import load_and_process_cifar\n",
    "from models.classifier import MLP\n",
    "import pytorch_lightning as pl\n",
    "from torch.utils.data import DataLoader, Dataset\n",
    "from tqdm import tqdm\n",
    "import torch.nn.functional as F\n",
    "#torch.set_float32_matmul_precision('medium')\n",
    "%load_ext autoreload\n",
    "%autoreload 2"
   ]
  },
  {
   "cell_type": "code",
   "execution_count": 2,
   "metadata": {},
   "outputs": [],
   "source": [
    "class CoolDataset(Dataset):\n",
    "    def __init__(self, features, labels):\n",
    "        self.features = features\n",
    "        self.labels = labels\n",
    "    \n",
    "    def __len__(self):\n",
    "        return len(self.labels)\n",
    "    \n",
    "    def __getitem__(self, idx):\n",
    "        i = self.labels[idx]\n",
    "        l = torch.zeros(size=(10,))\n",
    "        l[i] = 1\n",
    "        return torch.tensor(self.features[idx], dtype=torch.float32), torch.tensor(self.labels[idx], dtype=torch.long).squeeze(-1)#l"
   ]
  },
  {
   "cell_type": "code",
   "execution_count": 57,
   "metadata": {},
   "outputs": [
    {
     "name": "stdout",
     "output_type": "stream",
     "text": [
      "PCA explained variance ratio:  1.0\n"
     ]
    }
   ],
   "source": [
    "dct = load_and_process_cifar(n_components=20, return_all=True)"
   ]
  },
  {
   "cell_type": "code",
   "execution_count": 58,
   "metadata": {},
   "outputs": [],
   "source": [
    "\n",
    "x_train, x_val, x_test, x_test_ood =  dct['x_train'], dct['x_val'], dct['x_test'], dct['x_test_ood']\n",
    "y_train, y_val, y_test, y_test_ood =  dct['y_train'], dct['y_val'], dct['y_test'], dct['y_test_ood']\n"
   ]
  },
  {
   "cell_type": "code",
   "execution_count": 238,
   "metadata": {},
   "outputs": [],
   "source": []
  },
  {
   "cell_type": "code",
   "execution_count": 60,
   "metadata": {},
   "outputs": [],
   "source": [
    "base_model = MLP(input_size=20,\n",
    "    hidden_layers=[32, 32],\n",
    "    output_size=10,\n",
    "    dropout=0.5,\n",
    "    logger='auc', loss='ce',\n",
    "    loss_params=None, optim='adam',\n",
    "    optim_params=dict(lr=1e-4, weight_decay=0),\n",
    "    scheduler=None,\n",
    "    scheduler_params=None,\n",
    "    legacy=True,\n",
    ")"
   ]
  },
  {
   "cell_type": "code",
   "execution_count": 62,
   "metadata": {},
   "outputs": [],
   "source": [
    "batch_size = 64\n",
    "learning_rate = 1e-4\n",
    "epochs=20"
   ]
  },
  {
   "cell_type": "code",
   "execution_count": 63,
   "metadata": {},
   "outputs": [
    {
     "name": "stderr",
     "output_type": "stream",
     "text": [
      "GPU available: True (cuda), used: True\n",
      "TPU available: False, using: 0 TPU cores\n"
     ]
    },
    {
     "name": "stderr",
     "output_type": "stream",
     "text": [
      "HPU available: False, using: 0 HPUs\n",
      "/home/viet/anaconda3/envs/dl/lib/python3.9/site-packages/pytorch_lightning/trainer/connectors/logger_connector/logger_connector.py:75: Starting from v1.9.0, `tensorboardX` has been removed as a dependency of the `pytorch_lightning` package, due to potential conflicts with other packages in the ML ecosystem. For this reason, `logger=True` will use `CSVLogger` as the default logger, unless the `tensorboard` or `tensorboardX` packages are found. Please `pip install lightning[extra]` or one of them to enable TensorBoard support by default\n"
     ]
    }
   ],
   "source": [
    "trainer = pl.Trainer(\n",
    "    limit_train_batches=100,\n",
    "    max_epochs=epochs\n",
    ")"
   ]
  },
  {
   "cell_type": "code",
   "execution_count": 64,
   "metadata": {},
   "outputs": [],
   "source": [
    "train_loader = DataLoader(CoolDataset(x_train, y_train), batch_size=batch_size, num_workers=20)\n",
    "val_loader = DataLoader(CoolDataset(x_val, y_val), batch_size=batch_size, num_workers=20)\n",
    "test_loader = DataLoader(CoolDataset(x_test, y_test), batch_size=batch_size, num_workers=20)\n",
    "ood_test_loader = DataLoader(CoolDataset(x_test_ood, y_test_ood), batch_size=batch_size, num_workers=20)"
   ]
  },
  {
   "cell_type": "code",
   "execution_count": 65,
   "metadata": {},
   "outputs": [
    {
     "name": "stderr",
     "output_type": "stream",
     "text": [
      "You are using a CUDA device ('NVIDIA GeForce RTX 3060 Ti') that has Tensor Cores. To properly utilize them, you should set `torch.set_float32_matmul_precision('medium' | 'high')` which will trade-off precision for performance. For more details, read https://pytorch.org/docs/stable/generated/torch.set_float32_matmul_precision.html#torch.set_float32_matmul_precision\n",
      "LOCAL_RANK: 0 - CUDA_VISIBLE_DEVICES: [0]\n",
      "\n",
      "  | Name    | Type             | Params | Mode \n",
      "-----------------------------------------------------\n",
      "0 | model   | Sequential       | 2.1 K  | train\n",
      "1 | loss_fn | CrossEntropyLoss | 0      | train\n",
      "2 | _logger | AUCLogger        | 0      | train\n",
      "-----------------------------------------------------\n",
      "2.1 K     Trainable params\n",
      "0         Non-trainable params\n",
      "2.1 K     Total params\n",
      "0.008     Total estimated model params size (MB)\n",
      "10        Modules in train mode\n",
      "0         Modules in eval mode\n"
     ]
    },
    {
     "data": {
      "application/vnd.jupyter.widget-view+json": {
       "model_id": "6491712d59e343f789f85e34ec085614",
       "version_major": 2,
       "version_minor": 0
      },
      "text/plain": [
       "Sanity Checking: |          | 0/? [00:00<?, ?it/s]"
      ]
     },
     "metadata": {},
     "output_type": "display_data"
    },
    {
     "data": {
      "application/vnd.jupyter.widget-view+json": {
       "model_id": "a22ae01d7b8e40b08d3d5adf6d71e4ee",
       "version_major": 2,
       "version_minor": 0
      },
      "text/plain": [
       "Training: |          | 0/? [00:00<?, ?it/s]"
      ]
     },
     "metadata": {},
     "output_type": "display_data"
    },
    {
     "name": "stderr",
     "output_type": "stream",
     "text": [
      "/home/viet/anaconda3/envs/dl/lib/python3.9/site-packages/torchmetrics/utilities/prints.py:43: UserWarning: No positive samples in targets, true positive value should be meaningless. Returning zero tensor in true positive score\n",
      "  warnings.warn(*args, **kwargs)  # noqa: B028\n"
     ]
    },
    {
     "data": {
      "application/vnd.jupyter.widget-view+json": {
       "model_id": "c6e285ab9f1b4dacb08a66740f7af45d",
       "version_major": 2,
       "version_minor": 0
      },
      "text/plain": [
       "Validation: |          | 0/? [00:00<?, ?it/s]"
      ]
     },
     "metadata": {},
     "output_type": "display_data"
    },
    {
     "data": {
      "application/vnd.jupyter.widget-view+json": {
       "model_id": "55d0ceb1ae6c4374961fa689d59e0a06",
       "version_major": 2,
       "version_minor": 0
      },
      "text/plain": [
       "Validation: |          | 0/? [00:00<?, ?it/s]"
      ]
     },
     "metadata": {},
     "output_type": "display_data"
    },
    {
     "data": {
      "application/vnd.jupyter.widget-view+json": {
       "model_id": "1dc9dae3022d467593993e345abbf3ee",
       "version_major": 2,
       "version_minor": 0
      },
      "text/plain": [
       "Validation: |          | 0/? [00:00<?, ?it/s]"
      ]
     },
     "metadata": {},
     "output_type": "display_data"
    },
    {
     "data": {
      "application/vnd.jupyter.widget-view+json": {
       "model_id": "4e0de324250e4f6794585167af3fdfc8",
       "version_major": 2,
       "version_minor": 0
      },
      "text/plain": [
       "Validation: |          | 0/? [00:00<?, ?it/s]"
      ]
     },
     "metadata": {},
     "output_type": "display_data"
    },
    {
     "data": {
      "application/vnd.jupyter.widget-view+json": {
       "model_id": "7ad474e445404248921b1baba718c852",
       "version_major": 2,
       "version_minor": 0
      },
      "text/plain": [
       "Validation: |          | 0/? [00:00<?, ?it/s]"
      ]
     },
     "metadata": {},
     "output_type": "display_data"
    },
    {
     "data": {
      "application/vnd.jupyter.widget-view+json": {
       "model_id": "5ab09f693b2a43c1ab2b53afbe44f733",
       "version_major": 2,
       "version_minor": 0
      },
      "text/plain": [
       "Validation: |          | 0/? [00:00<?, ?it/s]"
      ]
     },
     "metadata": {},
     "output_type": "display_data"
    },
    {
     "data": {
      "application/vnd.jupyter.widget-view+json": {
       "model_id": "57f66897cce4492eb18accda212ee682",
       "version_major": 2,
       "version_minor": 0
      },
      "text/plain": [
       "Validation: |          | 0/? [00:00<?, ?it/s]"
      ]
     },
     "metadata": {},
     "output_type": "display_data"
    },
    {
     "data": {
      "application/vnd.jupyter.widget-view+json": {
       "model_id": "5f5159a599e54b14b78589db6e237150",
       "version_major": 2,
       "version_minor": 0
      },
      "text/plain": [
       "Validation: |          | 0/? [00:00<?, ?it/s]"
      ]
     },
     "metadata": {},
     "output_type": "display_data"
    },
    {
     "data": {
      "application/vnd.jupyter.widget-view+json": {
       "model_id": "da8f9fcba23b47c19a9a84a610059dc9",
       "version_major": 2,
       "version_minor": 0
      },
      "text/plain": [
       "Validation: |          | 0/? [00:00<?, ?it/s]"
      ]
     },
     "metadata": {},
     "output_type": "display_data"
    },
    {
     "data": {
      "application/vnd.jupyter.widget-view+json": {
       "model_id": "08408fc49e17471fbfbc3c0c9867f7a4",
       "version_major": 2,
       "version_minor": 0
      },
      "text/plain": [
       "Validation: |          | 0/? [00:00<?, ?it/s]"
      ]
     },
     "metadata": {},
     "output_type": "display_data"
    },
    {
     "data": {
      "application/vnd.jupyter.widget-view+json": {
       "model_id": "00c7823bb92d4a0ebb7a10767366a272",
       "version_major": 2,
       "version_minor": 0
      },
      "text/plain": [
       "Validation: |          | 0/? [00:00<?, ?it/s]"
      ]
     },
     "metadata": {},
     "output_type": "display_data"
    },
    {
     "data": {
      "application/vnd.jupyter.widget-view+json": {
       "model_id": "1c5966e5389e44da915f6a80dd09bf49",
       "version_major": 2,
       "version_minor": 0
      },
      "text/plain": [
       "Validation: |          | 0/? [00:00<?, ?it/s]"
      ]
     },
     "metadata": {},
     "output_type": "display_data"
    },
    {
     "data": {
      "application/vnd.jupyter.widget-view+json": {
       "model_id": "6b48ab292846495ba79af5d310bd55dc",
       "version_major": 2,
       "version_minor": 0
      },
      "text/plain": [
       "Validation: |          | 0/? [00:00<?, ?it/s]"
      ]
     },
     "metadata": {},
     "output_type": "display_data"
    },
    {
     "data": {
      "application/vnd.jupyter.widget-view+json": {
       "model_id": "b01bf3e453b24cf885fc8ea0f4328419",
       "version_major": 2,
       "version_minor": 0
      },
      "text/plain": [
       "Validation: |          | 0/? [00:00<?, ?it/s]"
      ]
     },
     "metadata": {},
     "output_type": "display_data"
    },
    {
     "data": {
      "application/vnd.jupyter.widget-view+json": {
       "model_id": "3095f420778d4c1baa30db1c22483899",
       "version_major": 2,
       "version_minor": 0
      },
      "text/plain": [
       "Validation: |          | 0/? [00:00<?, ?it/s]"
      ]
     },
     "metadata": {},
     "output_type": "display_data"
    },
    {
     "data": {
      "application/vnd.jupyter.widget-view+json": {
       "model_id": "031899d355dd4f108ef49141f56c9689",
       "version_major": 2,
       "version_minor": 0
      },
      "text/plain": [
       "Validation: |          | 0/? [00:00<?, ?it/s]"
      ]
     },
     "metadata": {},
     "output_type": "display_data"
    },
    {
     "data": {
      "application/vnd.jupyter.widget-view+json": {
       "model_id": "b15165495963445181ee185c66dfb14e",
       "version_major": 2,
       "version_minor": 0
      },
      "text/plain": [
       "Validation: |          | 0/? [00:00<?, ?it/s]"
      ]
     },
     "metadata": {},
     "output_type": "display_data"
    },
    {
     "data": {
      "application/vnd.jupyter.widget-view+json": {
       "model_id": "3751ed0464bb4b2f8e24284dff7efc71",
       "version_major": 2,
       "version_minor": 0
      },
      "text/plain": [
       "Validation: |          | 0/? [00:00<?, ?it/s]"
      ]
     },
     "metadata": {},
     "output_type": "display_data"
    },
    {
     "data": {
      "application/vnd.jupyter.widget-view+json": {
       "model_id": "af15201b49b04633907f13aec0ba052e",
       "version_major": 2,
       "version_minor": 0
      },
      "text/plain": [
       "Validation: |          | 0/? [00:00<?, ?it/s]"
      ]
     },
     "metadata": {},
     "output_type": "display_data"
    },
    {
     "data": {
      "application/vnd.jupyter.widget-view+json": {
       "model_id": "d3b7f5c2cc0d454da7d50487537118fc",
       "version_major": 2,
       "version_minor": 0
      },
      "text/plain": [
       "Validation: |          | 0/? [00:00<?, ?it/s]"
      ]
     },
     "metadata": {},
     "output_type": "display_data"
    },
    {
     "name": "stderr",
     "output_type": "stream",
     "text": [
      "`Trainer.fit` stopped: `max_epochs=20` reached.\n"
     ]
    }
   ],
   "source": [
    "trainer.fit(base_model, train_loader, val_loader)"
   ]
  },
  {
   "cell_type": "code",
   "execution_count": 69,
   "metadata": {},
   "outputs": [],
   "source": [
    "trainer.save_checkpoint('pddm_cifar10.pth')"
   ]
  },
  {
   "cell_type": "code",
   "execution_count": 161,
   "metadata": {},
   "outputs": [],
   "source": []
  },
  {
   "cell_type": "code",
   "execution_count": 70,
   "metadata": {},
   "outputs": [],
   "source": [
    "model2 = MLP.load_from_checkpoint('pddm_cifar10.pth', input_size=20,\n",
    "    hidden_layers=[32, 32],\n",
    "    output_size=10,\n",
    "    dropout=0.5,\n",
    "    logger='auc', loss='ce',\n",
    "    loss_params=None, optim='adam',\n",
    "    optim_params=dict(lr=1e-3, weight_decay=0),\n",
    "    scheduler=None,\n",
    "    scheduler_params=None,\n",
    "    legacy=True)"
   ]
  },
  {
   "cell_type": "code",
   "execution_count": 75,
   "metadata": {},
   "outputs": [],
   "source": [
    "# sanity check\n",
    "\n",
    "def evaluate(model, loader):\n",
    "    model.eval()\n",
    "    model = model.cuda()\n",
    "    count = 0\n",
    "    acc = 0 \n",
    "    for features, labels in loader:\n",
    "        features, labels = features.cuda(), labels.cuda()\n",
    "        logits = model(features)\n",
    "        output = F.softmax(logits, dim=-1)\n",
    "        preds = torch.argmax(output, dim=-1)\n",
    "        acc += torch.sum(preds == labels)\n",
    "        count += len(labels)\n",
    "    return acc / count"
   ]
  },
  {
   "cell_type": "code",
   "execution_count": 78,
   "metadata": {},
   "outputs": [
    {
     "data": {
      "text/plain": [
       "tensor(0.9008, device='cuda:0')"
      ]
     },
     "execution_count": 78,
     "metadata": {},
     "output_type": "execute_result"
    }
   ],
   "source": [
    "evaluate(model2, train_loader)"
   ]
  },
  {
   "cell_type": "code",
   "execution_count": 250,
   "metadata": {},
   "outputs": [],
   "source": [
    "import pickle\n",
    "\n",
    "def save_dataset(dataset, name):\n",
    "    with open(name, 'wb') as f:\n",
    "        pickle.dump(dataset, f)"
   ]
  },
  {
   "cell_type": "code",
   "execution_count": 251,
   "metadata": {},
   "outputs": [],
   "source": [
    "dct = {\n",
    "    'x_train1': x_train1,\n",
    "    'x_train2': x_train2,\n",
    "    'x_val': x_val,\n",
    "    'x_test': x_test,\n",
    "    'y_train1':y_train1,\n",
    "    'y_train2': y_train2,\n",
    "    'y_val': y_val,\n",
    "    'y_test': y_test\n",
    "}"
   ]
  },
  {
   "cell_type": "code",
   "execution_count": 252,
   "metadata": {},
   "outputs": [],
   "source": [
    "save_dataset(dct, 'pddm_cifar10.pkl')"
   ]
  },
  {
   "cell_type": "code",
   "execution_count": 253,
   "metadata": {},
   "outputs": [],
   "source": [
    "with open('pddm_cifar10.pkl', 'rb') as f:\n",
    "    dct = pickle.load(f)"
   ]
  },
  {
   "cell_type": "markdown",
   "metadata": {},
   "source": [
    "## CIFAR 10.1 PDDM"
   ]
  },
  {
   "cell_type": "code",
   "execution_count": 1,
   "metadata": {},
   "outputs": [],
   "source": [
    "import torch\n",
    "import torch.nn as nn\n",
    "import torch.nn.functional as F\n",
    "import torch.optim as optim\n",
    "\n",
    "import numpy as np\n",
    "import sklearn\n",
    "from tqdm import tqdm \n",
    "from torch.utils.data import DataLoader\n",
    "%load_ext autoreload\n",
    "%autoreload 2\n",
    "device = torch.device('cuda' if torch.cuda.is_available() else 'cpu')"
   ]
  },
  {
   "cell_type": "code",
   "execution_count": 2,
   "metadata": {},
   "outputs": [],
   "source": [
    "alpha = 2\n",
    "batch_size = 64\n",
    "learning_rate = 1e-4\n",
    "epochs=10"
   ]
  },
  {
   "cell_type": "code",
   "execution_count": 3,
   "metadata": {},
   "outputs": [],
   "source": [
    "\n",
    "def load_cifars():\n",
    "    tmp = {}\n",
    "    splits = ['train', 'val', 'test']\n",
    "    kk = ['x', 'y']\n",
    "    # load iid \n",
    "    for k in kk:\n",
    "        for split in splits:\n",
    "            with open('baselines/data/cifar10_' + k + '_' + split + '.npy', 'rb') as f:\n",
    "                tmp[k + '_' + split] = np.load(f)\n",
    "    \n",
    "    with open('baselines/data/cifar101_x_test.npy', 'rb') as f:\n",
    "                tmp['x_test_ood'] = np.load(f)\n",
    "    with open('baselines/data/cifar10.1_v6_labels.npy', 'rb') as f:\n",
    "                tmp['y_test_ood'] = np.load(f)\n",
    "    tmp['x_test_ood'], tmp['y_test_ood'] = sklearn.utils.shuffle(tmp['x_test_ood'], tmp['y_test_ood'])\n",
    "    return tmp\n",
    "    # load ood\n",
    "dct = load_cifars()"
   ]
  },
  {
   "cell_type": "code",
   "execution_count": 4,
   "metadata": {},
   "outputs": [],
   "source": [
    "class CustomDataset(torch.utils.data.Dataset):\n",
    "    def __init__(self, features, labels, sample_weights=None):\n",
    "        self.features = features\n",
    "        self.labels = labels\n",
    "        self.sample_weights = sample_weights\n",
    "    \n",
    "    def __len__(self):\n",
    "        return len(self.labels)\n",
    "    \n",
    "    def __getitem__(self, idx):\n",
    "        return self.features[idx], self.labels[idx], self.sample_weights[idx] if self.sample_weights is not None else torch.tensor(1)\n",
    "\n",
    "def dce_loss(logits: torch.Tensor, labels: torch.Tensor, mask: torch.Tensor, alpha=None,\n",
    "             use_random_vectors=False, weight=None) -> torch.Tensor:\n",
    "    if mask.all():\n",
    "        # if all labels are positive, then use the standard cross entropy loss\n",
    "        return F.cross_entropy(logits, labels)\n",
    "\n",
    "    if alpha is None:\n",
    "        alpha = 1 / (1 + (~mask).float().sum())\n",
    "\n",
    "    num_classes = logits.shape[1]\n",
    "\n",
    "    q_logits, q_labels = logits[~mask], labels[~mask]\n",
    "    if use_random_vectors:\n",
    "        # noinspection PyTypeChecker,PyUnresolvedReferences\n",
    "        p = - torch.log(torch.rand(device=q_labels.device, size=(len(q_labels), num_classes)))\n",
    "        p *= (1. - F.one_hot(q_labels, num_classes=num_classes))\n",
    "        p /= torch.sum(p)\n",
    "        ce_n = -(p * q_logits).sum(1) + torch.logsumexp(q_logits, dim=1)\n",
    "\n",
    "    else:\n",
    "        zero_hot = 1. - F.one_hot(q_labels, num_classes=num_classes)\n",
    "        ce_n = -(q_logits * zero_hot).sum(dim=1) / (num_classes - 1) + torch.logsumexp(q_logits, dim=1)\n",
    "\n",
    "    if torch.isinf(ce_n).any() or torch.isnan(ce_n).any():\n",
    "        raise RuntimeError('NaN or Infinite loss encountered for ce-q')\n",
    "\n",
    "    if (~mask).all():\n",
    "        return (ce_n * alpha).mean()\n",
    "\n",
    "    p_logits, p_labels = logits[mask], labels[mask]\n",
    "    ce_p = F.cross_entropy(p_logits, p_labels, reduction='none', weight=weight)\n",
    "    return torch.cat([ce_n * alpha, ce_p]).mean()"
   ]
  },
  {
   "cell_type": "code",
   "execution_count": 5,
   "metadata": {},
   "outputs": [],
   "source": [
    "class Net(nn.Module):\n",
    "    def __init__(self, in_dim=20, hid_dim=32, out_dim=10, p=0.2):\n",
    "        super(Net, self).__init__()\n",
    "        self.in_dim = in_dim\n",
    "        self.hid_dim = hid_dim\n",
    "        self.out_dim = out_dim\n",
    "        self.p = p\n",
    "    \n",
    "        self.fc1 = nn.Linear(self.in_dim, self.hid_dim)\n",
    "        self.fc2 = nn.Linear(self.hid_dim, self.hid_dim)\n",
    "        self.fc3 = nn.Linear(self.hid_dim, self.out_dim)\n",
    "        \n",
    "    def forward(self, x):\n",
    "        x = F.dropout(F.relu(self.fc1(x)), p=self.p)\n",
    "        x = F.dropout(F.relu(self.fc2(x)), p=self.p)\n",
    "        return self.fc3(x)\n",
    "\n",
    "class MLP_Model:\n",
    "    def __init__(self, in_dim, hid_dim, out_dim, p, batch_size, train_epochs, learning_rate, alpha=2):\n",
    "        self.device = torch.device('cuda' if torch.cuda.is_available() else 'cpu')\n",
    "        #print('Running neural nets on {}'.format(self.device))\n",
    "        self.net = Net(in_dim, hid_dim, out_dim, p)\n",
    "        self.net = self.net.to(self.device)\n",
    "        self.batch_size = batch_size\n",
    "        self.train_epochs = train_epochs\n",
    "        self.optimizer = optim.Adam(self.net.parameters(), lr=learning_rate)\n",
    "        self.criterion = dce_loss\n",
    "        self.alpha = alpha\n",
    "        \n",
    "    def train_disagreement(self, x, y, sample_weights=None):\n",
    "        model = self.net\n",
    "        model.train()\n",
    "        train_loader = self._create_dataloader(x, y, sample_weights=sample_weights)\n",
    "        for e in tqdm(range(epochs)):\n",
    "            for features, labels, sample_weights in train_loader:\n",
    "                features, labels, sample_weights = features.to(device), labels.to(device), sample_weights.to(device)\n",
    "                output = model(features)\n",
    "                self.optimizer.zero_grad()\n",
    "                mask = (sample_weights == torch.ones_like(sample_weights)).squeeze(-1)\n",
    "                loss = self.criterion(output, labels, mask, self.alpha)\n",
    "                loss.backward()\n",
    "                self.optimizer.step()\n",
    "    \n",
    "    def train_base_model(self, x, y):\n",
    "        model = self.net\n",
    "        model.train()\n",
    "        train_loader = self._create_dataloader(x, y)\n",
    "        for e in tqdm(range(epochs)):\n",
    "            for features, labels, sample_weights in train_loader:\n",
    "                features, labels, sample_weights = features.to(device), labels.to(device), sample_weights.to(device)\n",
    "                output = model(features)\n",
    "                self.optimizer.zero_grad()\n",
    "                loss = nn.CrossEntropyLoss()(output, labels)\n",
    "                loss.backward()\n",
    "                self.optimizer.step()\n",
    "                \n",
    "    def evaluate_model(self, x, y):\n",
    "        model = self.net\n",
    "        model.eval()\n",
    "        correct = 0\n",
    "        total = 0\n",
    "        loader = self._create_dataloader(x, y)\n",
    "        with torch.no_grad():\n",
    "            for features, labels, sample_weights in loader:\n",
    "                features, labels, sample_weights = features.to(device), labels.to(device), sample_weights.to(device)\n",
    "                output = F.softmax(model(features), dim=1)\n",
    "                preds = torch.argmax(output, dim=1)\n",
    "                correct += torch.sum(preds == labels).item()\n",
    "                total += len(labels)\n",
    "                \n",
    "        return correct/total\n",
    "            \n",
    "        \n",
    "    def _create_dataloader(self, features, labels, sample_weights=None):\n",
    "        features, labels = torch.as_tensor(features, dtype=torch.float32), torch.as_tensor(labels)\n",
    "        if sample_weights is not None:\n",
    "            sample_weights = torch.as_tensor(sample_weights)\n",
    "        dataset = CustomDataset(features, labels, sample_weights=sample_weights)\n",
    "        dataloader = DataLoader(dataset, batch_size=batch_size, shuffle=True, num_workers=20, pin_memory=True)\n",
    "        return dataloader\n",
    "    \n",
    "    def get_labels(self, x):\n",
    "        self.net.eval()\n",
    "        probas = F.softmax(self.net(x), dim=1)\n",
    "        preds = torch.argmax(probas, dim=1)\n",
    "        preds = preds.detach().cpu().numpy()\n",
    "        return preds"
   ]
  },
  {
   "cell_type": "code",
   "execution_count": 6,
   "metadata": {},
   "outputs": [],
   "source": [
    "x_train, x_val, x_test, x_test_ood =  dct['x_train'], dct['x_val'], dct['x_test'], dct['x_test_ood']\n",
    "y_train, y_val, y_test, y_test_ood =  dct['y_train'], dct['y_val'], dct['y_test'], dct['y_test_ood']"
   ]
  },
  {
   "cell_type": "code",
   "execution_count": 7,
   "metadata": {},
   "outputs": [],
   "source": [
    "trainset = CustomDataset(x_train, y_train)\n",
    "valset = CustomDataset(x_val, y_val)\n",
    "testset = CustomDataset(x_test, y_test)\n",
    "testset_ood = CustomDataset(x_test_ood, y_test_ood, torch.ones(size=y_test_ood.shape) * alpha)"
   ]
  },
  {
   "cell_type": "code",
   "execution_count": 8,
   "metadata": {},
   "outputs": [],
   "source": [
    "train_loader = DataLoader(trainset, batch_size=64, shuffle=True, num_workers=20)\n",
    "val_loader = DataLoader(valset, batch_size=64, shuffle=True, num_workers=20)\n",
    "test_loader = DataLoader(testset, batch_size=64, shuffle=True, num_workers=20)\n",
    "test_ood_loader = DataLoader(testset_ood, batch_size=64, shuffle=True, num_workers=20)"
   ]
  },
  {
   "cell_type": "code",
   "execution_count": 9,
   "metadata": {},
   "outputs": [
    {
     "name": "stderr",
     "output_type": "stream",
     "text": [
      "100%|██████████| 10/10 [00:07<00:00,  1.33it/s]\n"
     ]
    }
   ],
   "source": [
    "base_model = MLP_Model(20,32, 10, 0.2, 64, 10, 1e-4)\n",
    "base_model.train_base_model(x_train, y_train)"
   ]
  },
  {
   "cell_type": "code",
   "execution_count": 11,
   "metadata": {},
   "outputs": [
    {
     "data": {
      "text/plain": [
       "0.88145"
      ]
     },
     "execution_count": 11,
     "metadata": {},
     "output_type": "execute_result"
    }
   ],
   "source": [
    "base_model.evaluate_model(x_train, y_train)"
   ]
  },
  {
   "cell_type": "code",
   "execution_count": 12,
   "metadata": {},
   "outputs": [],
   "source": [
    "base_preds = base_model.get_labels(torch.as_tensor(x_val, dtype=torch.float32).cuda())"
   ]
  },
  {
   "cell_type": "code",
   "execution_count": 13,
   "metadata": {},
   "outputs": [],
   "source": [
    "x_merged = np.concatenate([x_train, x_val], axis=0)\n",
    "y_merged = np.concatenate([y_train, base_preds], axis=0)\n",
    "sample_weights = np.ones(shape=(len(x_train) + len(x_val), 1))\n",
    "sample_weights[len(x_train):] = sample_weights[len(x_train):] * alpha"
   ]
  },
  {
   "cell_type": "code",
   "execution_count": 14,
   "metadata": {},
   "outputs": [],
   "source": [
    "new_net = MLP_Model(20,32, 10, 0.2, 64, 10, 1e-4)"
   ]
  },
  {
   "cell_type": "code",
   "execution_count": 15,
   "metadata": {},
   "outputs": [],
   "source": [
    "optimizer = optim.Adam(new_net.net.parameters(), lr=1e-4)\n",
    "def _create_dataloader(features, labels, sample_weights=None):\n",
    "        features, labels = torch.as_tensor(features, dtype=torch.float32), torch.as_tensor(labels)\n",
    "        if sample_weights is not None:\n",
    "            sample_weights = torch.as_tensor(sample_weights)\n",
    "        dataset = CustomDataset(features, labels, sample_weights=sample_weights)\n",
    "        dataloader = DataLoader(dataset, batch_size=batch_size, shuffle=True, num_workers=20, pin_memory=True)\n",
    "        return dataloader\n",
    "    \n",
    "def train_disagreement(model, x, y, optimizer, sample_weights=None, alpha=10):\n",
    "        model.train()\n",
    "        train_loader = _create_dataloader(x, y, sample_weights=sample_weights)\n",
    "        for e in tqdm(range(epochs)):\n",
    "            for features, labels, sample_weights in train_loader:\n",
    "                features, labels, sample_weights = features.to(device), labels.to(device), sample_weights.to(device)\n",
    "                output = model(features)\n",
    "                optimizer.zero_grad()\n",
    "                mask = (sample_weights == torch.ones_like(sample_weights)).squeeze(-1)\n",
    "                loss = dce_loss(output, labels, mask, alpha)\n",
    "                loss.backward()\n",
    "                optimizer.step()"
   ]
  },
  {
   "cell_type": "code",
   "execution_count": 265,
   "metadata": {},
   "outputs": [
    {
     "name": "stderr",
     "output_type": "stream",
     "text": [
      "  0%|          | 0/10 [00:00<?, ?it/s]"
     ]
    },
    {
     "name": "stderr",
     "output_type": "stream",
     "text": [
      "100%|██████████| 10/10 [00:12<00:00,  1.26s/it]\n"
     ]
    },
    {
     "name": "stdout",
     "output_type": "stream",
     "text": [
      "0.64905 0.5721\n"
     ]
    }
   ],
   "source": [
    "new_net = MLP_Model(20,32, 10, 0.2, 64, 10, 1e-4)\n",
    "optimizer = optim.AdamW(new_net.net.parameters(), lr=1e-4)\n",
    "train_disagreement(new_net.net, x_merged, y_merged, optimizer, sample_weights, 30)\n",
    "a = new_net.evaluate_model(x_train, y_train)\n",
    "b = new_net.evaluate_model(x_val, y_val)\n",
    "print(a, b)"
   ]
  },
  {
   "cell_type": "code",
   "execution_count": 16,
   "metadata": {},
   "outputs": [],
   "source": [
    "def algo1(base_model:MLP_Model, data, rounds=100, alpha=30):\n",
    "    x_train, x_val, y_train, y_val = data\n",
    "    base_preds = base_model.get_labels(torch.as_tensor(x_val, dtype=torch.float32).cuda())\n",
    "    Phi = []\n",
    "    for i in tqdm(range(rounds)):\n",
    "        new_model = MLP_Model(20,32, 4, 0.2, 64, 10, 1e-4, alpha=alpha)\n",
    "        id_val = np.random.choice(len(x_val), len(x_val), replace=True)\n",
    "        xx, yy = x_val[id_val], base_preds[id_val]\n",
    "        x_merged = np.concatenate([x_train, xx], axis=0)\n",
    "        y_merged = np.concatenate([y_train, yy], axis=0)\n",
    "        #x_merged = np.concatenate([x_train, x_val], axis=0)\n",
    "        #y_merged = np.concatenate([y_train, base_preds], axis=0)\n",
    "        \n",
    "        sample_weights = np.ones(shape=(len(x_train) + len(xx), 1))\n",
    "        sample_weights[len(x_train):] = sample_weights[len(x_train):] * 2\n",
    "        new_model.train_disagreement(x_merged, y_merged, sample_weights)\n",
    "        dis = 1 - ((new_model.get_labels(torch.as_tensor(x_val, dtype=torch.float32).cuda()) == yy).sum() / len(x_val))\n",
    "        print(dis)\n",
    "        Phi.append(dis)\n",
    "    return Phi\n",
    "\n",
    "def algo2(base_model, data, Phi, alpha=30): \n",
    "    (x_train, x_val, y_train, y_val) = data\n",
    "    base_preds = base_model.get_labels(torch.as_tensor(x_val, dtype=torch.float32).cuda())\n",
    "    \n",
    "    new_model = MLP_Model(20,32, 4, 0.2, 64, 10, 1e-4, alpha=alpha)\n",
    "    id_val = np.random.choice(len(x_val), len(x_val), replace=True)\n",
    "    xx, yy = x_val[id_val], base_preds[id_val]\n",
    "    #x_merged = np.concatenate([x_train, xx], axis=0)\n",
    "    #y_merged = np.concatenate([y_train, yy], axis=0)\n",
    "    x_merged = np.concatenate([x_train, x_val], axis=0)\n",
    "    y_merged = np.concatenate([y_train, base_preds], axis=0)\n",
    "    \n",
    "    sample_weights = np.ones(shape=(len(x_train) + len(xx), 1))\n",
    "    sample_weights[len(x_train):] = sample_weights[len(x_train):] * 2\n",
    "    new_model.train_disagreement(x_merged, y_merged, sample_weights)\n",
    "    dis = 1 - ((new_model.get_labels(torch.as_tensor(x_val, dtype=torch.float32).cuda()) == yy).sum() / len(x_val))\n",
    "    print(dis)\n",
    "    return dis\n",
    "    \n",
    "    \n",
    "    "
   ]
  },
  {
   "cell_type": "code",
   "execution_count": 17,
   "metadata": {},
   "outputs": [
    {
     "name": "stderr",
     "output_type": "stream",
     "text": [
      "  0%|          | 0/10 [00:00<?, ?it/s]"
     ]
    },
    {
     "name": "stderr",
     "output_type": "stream",
     "text": [
      "  0%|          | 0/10 [00:00<?, ?it/s]\n",
      "  0%|          | 0/10 [00:00<?, ?it/s]\n",
      "../aten/src/ATen/native/cuda/ScatterGatherKernel.cu:365: operator(): block: [0,0,0], thread: [1,0,0] Assertion `idx_dim >= 0 && idx_dim < index_size && \"index out of bounds\"` failed.\n",
      "../aten/src/ATen/native/cuda/ScatterGatherKernel.cu:365: operator(): block: [0,0,0], thread: [4,0,0] Assertion `idx_dim >= 0 && idx_dim < index_size && \"index out of bounds\"` failed.\n",
      "../aten/src/ATen/native/cuda/ScatterGatherKernel.cu:365: operator(): block: [0,0,0], thread: [5,0,0] Assertion `idx_dim >= 0 && idx_dim < index_size && \"index out of bounds\"` failed.\n",
      "../aten/src/ATen/native/cuda/ScatterGatherKernel.cu:365: operator(): block: [0,0,0], thread: [10,0,0] Assertion `idx_dim >= 0 && idx_dim < index_size && \"index out of bounds\"` failed.\n",
      "../aten/src/ATen/native/cuda/ScatterGatherKernel.cu:365: operator(): block: [0,0,0], thread: [11,0,0] Assertion `idx_dim >= 0 && idx_dim < index_size && \"index out of bounds\"` failed.\n",
      "../aten/src/ATen/native/cuda/ScatterGatherKernel.cu:365: operator(): block: [0,0,0], thread: [12,0,0] Assertion `idx_dim >= 0 && idx_dim < index_size && \"index out of bounds\"` failed.\n"
     ]
    },
    {
     "ename": "RuntimeError",
     "evalue": "CUDA error: device-side assert triggered\nCUDA kernel errors might be asynchronously reported at some other API call, so the stacktrace below might be incorrect.\nFor debugging consider passing CUDA_LAUNCH_BLOCKING=1.\nCompile with `TORCH_USE_CUDA_DSA` to enable device-side assertions.\n",
     "output_type": "error",
     "traceback": [
      "\u001b[0;31m---------------------------------------------------------------------------\u001b[0m",
      "\u001b[0;31mRuntimeError\u001b[0m                              Traceback (most recent call last)",
      "Cell \u001b[0;32mIn[17], line 1\u001b[0m\n\u001b[0;32m----> 1\u001b[0m Phi \u001b[38;5;241m=\u001b[39m \u001b[43malgo1\u001b[49m\u001b[43m(\u001b[49m\u001b[43mbase_model\u001b[49m\u001b[43m,\u001b[49m\u001b[43m \u001b[49m\u001b[43m(\u001b[49m\u001b[43mx_train\u001b[49m\u001b[43m,\u001b[49m\u001b[43m \u001b[49m\u001b[43mx_val\u001b[49m\u001b[43m,\u001b[49m\u001b[43m \u001b[49m\u001b[43my_train\u001b[49m\u001b[43m,\u001b[49m\u001b[43m \u001b[49m\u001b[43my_val\u001b[49m\u001b[43m)\u001b[49m\u001b[43m,\u001b[49m\u001b[43m \u001b[49m\u001b[43mrounds\u001b[49m\u001b[38;5;241;43m=\u001b[39;49m\u001b[38;5;241;43m10\u001b[39;49m\u001b[43m,\u001b[49m\u001b[43m \u001b[49m\u001b[43malpha\u001b[49m\u001b[38;5;241;43m=\u001b[39;49m\u001b[38;5;241;43m2\u001b[39;49m\u001b[43m)\u001b[49m\n",
      "Cell \u001b[0;32mIn[16], line 16\u001b[0m, in \u001b[0;36malgo1\u001b[0;34m(base_model, data, rounds, alpha)\u001b[0m\n\u001b[1;32m     14\u001b[0m sample_weights \u001b[38;5;241m=\u001b[39m np\u001b[38;5;241m.\u001b[39mones(shape\u001b[38;5;241m=\u001b[39m(\u001b[38;5;28mlen\u001b[39m(x_train) \u001b[38;5;241m+\u001b[39m \u001b[38;5;28mlen\u001b[39m(xx), \u001b[38;5;241m1\u001b[39m))\n\u001b[1;32m     15\u001b[0m sample_weights[\u001b[38;5;28mlen\u001b[39m(x_train):] \u001b[38;5;241m=\u001b[39m sample_weights[\u001b[38;5;28mlen\u001b[39m(x_train):] \u001b[38;5;241m*\u001b[39m \u001b[38;5;241m2\u001b[39m\n\u001b[0;32m---> 16\u001b[0m \u001b[43mnew_model\u001b[49m\u001b[38;5;241;43m.\u001b[39;49m\u001b[43mtrain_disagreement\u001b[49m\u001b[43m(\u001b[49m\u001b[43mx_merged\u001b[49m\u001b[43m,\u001b[49m\u001b[43m \u001b[49m\u001b[43my_merged\u001b[49m\u001b[43m,\u001b[49m\u001b[43m \u001b[49m\u001b[43msample_weights\u001b[49m\u001b[43m)\u001b[49m\n\u001b[1;32m     17\u001b[0m dis \u001b[38;5;241m=\u001b[39m \u001b[38;5;241m1\u001b[39m \u001b[38;5;241m-\u001b[39m ((new_model\u001b[38;5;241m.\u001b[39mget_labels(torch\u001b[38;5;241m.\u001b[39mas_tensor(x_val, dtype\u001b[38;5;241m=\u001b[39mtorch\u001b[38;5;241m.\u001b[39mfloat32)\u001b[38;5;241m.\u001b[39mcuda()) \u001b[38;5;241m==\u001b[39m yy)\u001b[38;5;241m.\u001b[39msum() \u001b[38;5;241m/\u001b[39m \u001b[38;5;28mlen\u001b[39m(x_val))\n\u001b[1;32m     18\u001b[0m \u001b[38;5;28mprint\u001b[39m(dis)\n",
      "Cell \u001b[0;32mIn[5], line 40\u001b[0m, in \u001b[0;36mMLP_Model.train_disagreement\u001b[0;34m(self, x, y, sample_weights)\u001b[0m\n\u001b[1;32m     38\u001b[0m \u001b[38;5;28mself\u001b[39m\u001b[38;5;241m.\u001b[39moptimizer\u001b[38;5;241m.\u001b[39mzero_grad()\n\u001b[1;32m     39\u001b[0m mask \u001b[38;5;241m=\u001b[39m (sample_weights \u001b[38;5;241m==\u001b[39m torch\u001b[38;5;241m.\u001b[39mones_like(sample_weights))\u001b[38;5;241m.\u001b[39msqueeze(\u001b[38;5;241m-\u001b[39m\u001b[38;5;241m1\u001b[39m)\n\u001b[0;32m---> 40\u001b[0m loss \u001b[38;5;241m=\u001b[39m \u001b[38;5;28;43mself\u001b[39;49m\u001b[38;5;241;43m.\u001b[39;49m\u001b[43mcriterion\u001b[49m\u001b[43m(\u001b[49m\u001b[43moutput\u001b[49m\u001b[43m,\u001b[49m\u001b[43m \u001b[49m\u001b[43mlabels\u001b[49m\u001b[43m,\u001b[49m\u001b[43m \u001b[49m\u001b[43mmask\u001b[49m\u001b[43m,\u001b[49m\u001b[43m \u001b[49m\u001b[38;5;28;43mself\u001b[39;49m\u001b[38;5;241;43m.\u001b[39;49m\u001b[43malpha\u001b[49m\u001b[43m)\u001b[49m\n\u001b[1;32m     41\u001b[0m loss\u001b[38;5;241m.\u001b[39mbackward()\n\u001b[1;32m     42\u001b[0m \u001b[38;5;28mself\u001b[39m\u001b[38;5;241m.\u001b[39moptimizer\u001b[38;5;241m.\u001b[39mstep()\n",
      "Cell \u001b[0;32mIn[4], line 33\u001b[0m, in \u001b[0;36mdce_loss\u001b[0;34m(logits, labels, mask, alpha, use_random_vectors, weight)\u001b[0m\n\u001b[1;32m     30\u001b[0m     ce_n \u001b[38;5;241m=\u001b[39m \u001b[38;5;241m-\u001b[39m(p \u001b[38;5;241m*\u001b[39m q_logits)\u001b[38;5;241m.\u001b[39msum(\u001b[38;5;241m1\u001b[39m) \u001b[38;5;241m+\u001b[39m torch\u001b[38;5;241m.\u001b[39mlogsumexp(q_logits, dim\u001b[38;5;241m=\u001b[39m\u001b[38;5;241m1\u001b[39m)\n\u001b[1;32m     32\u001b[0m \u001b[38;5;28;01melse\u001b[39;00m:\n\u001b[0;32m---> 33\u001b[0m     zero_hot \u001b[38;5;241m=\u001b[39m \u001b[38;5;241;43m1.\u001b[39;49m\u001b[43m \u001b[49m\u001b[38;5;241;43m-\u001b[39;49m\u001b[43m \u001b[49m\u001b[43mF\u001b[49m\u001b[38;5;241;43m.\u001b[39;49m\u001b[43mone_hot\u001b[49m\u001b[43m(\u001b[49m\u001b[43mq_labels\u001b[49m\u001b[43m,\u001b[49m\u001b[43m \u001b[49m\u001b[43mnum_classes\u001b[49m\u001b[38;5;241;43m=\u001b[39;49m\u001b[43mnum_classes\u001b[49m\u001b[43m)\u001b[49m\n\u001b[1;32m     34\u001b[0m     ce_n \u001b[38;5;241m=\u001b[39m \u001b[38;5;241m-\u001b[39m(q_logits \u001b[38;5;241m*\u001b[39m zero_hot)\u001b[38;5;241m.\u001b[39msum(dim\u001b[38;5;241m=\u001b[39m\u001b[38;5;241m1\u001b[39m) \u001b[38;5;241m/\u001b[39m (num_classes \u001b[38;5;241m-\u001b[39m \u001b[38;5;241m1\u001b[39m) \u001b[38;5;241m+\u001b[39m torch\u001b[38;5;241m.\u001b[39mlogsumexp(q_logits, dim\u001b[38;5;241m=\u001b[39m\u001b[38;5;241m1\u001b[39m)\n\u001b[1;32m     36\u001b[0m \u001b[38;5;28;01mif\u001b[39;00m torch\u001b[38;5;241m.\u001b[39misinf(ce_n)\u001b[38;5;241m.\u001b[39many() \u001b[38;5;129;01mor\u001b[39;00m torch\u001b[38;5;241m.\u001b[39misnan(ce_n)\u001b[38;5;241m.\u001b[39many():\n",
      "File \u001b[0;32m~/anaconda3/envs/dl/lib/python3.9/site-packages/torch/_tensor.py:40\u001b[0m, in \u001b[0;36m_handle_torch_function_and_wrap_type_error_to_not_implemented.<locals>.wrapped\u001b[0;34m(*args, **kwargs)\u001b[0m\n\u001b[1;32m     38\u001b[0m     \u001b[38;5;28;01mif\u001b[39;00m has_torch_function(args):\n\u001b[1;32m     39\u001b[0m         \u001b[38;5;28;01mreturn\u001b[39;00m handle_torch_function(wrapped, args, \u001b[38;5;241m*\u001b[39margs, \u001b[38;5;241m*\u001b[39m\u001b[38;5;241m*\u001b[39mkwargs)\n\u001b[0;32m---> 40\u001b[0m     \u001b[38;5;28;01mreturn\u001b[39;00m \u001b[43mf\u001b[49m\u001b[43m(\u001b[49m\u001b[38;5;241;43m*\u001b[39;49m\u001b[43margs\u001b[49m\u001b[43m,\u001b[49m\u001b[43m \u001b[49m\u001b[38;5;241;43m*\u001b[39;49m\u001b[38;5;241;43m*\u001b[39;49m\u001b[43mkwargs\u001b[49m\u001b[43m)\u001b[49m\n\u001b[1;32m     41\u001b[0m \u001b[38;5;28;01mexcept\u001b[39;00m \u001b[38;5;167;01mTypeError\u001b[39;00m:\n\u001b[1;32m     42\u001b[0m     \u001b[38;5;28;01mreturn\u001b[39;00m \u001b[38;5;28mNotImplemented\u001b[39m\n",
      "File \u001b[0;32m~/anaconda3/envs/dl/lib/python3.9/site-packages/torch/_tensor.py:941\u001b[0m, in \u001b[0;36mTensor.__rsub__\u001b[0;34m(self, other)\u001b[0m\n\u001b[1;32m    939\u001b[0m \u001b[38;5;129m@_handle_torch_function_and_wrap_type_error_to_not_implemented\u001b[39m\n\u001b[1;32m    940\u001b[0m \u001b[38;5;28;01mdef\u001b[39;00m \u001b[38;5;21m__rsub__\u001b[39m(\u001b[38;5;28mself\u001b[39m, other):\n\u001b[0;32m--> 941\u001b[0m     \u001b[38;5;28;01mreturn\u001b[39;00m \u001b[43m_C\u001b[49m\u001b[38;5;241;43m.\u001b[39;49m\u001b[43m_VariableFunctions\u001b[49m\u001b[38;5;241;43m.\u001b[39;49m\u001b[43mrsub\u001b[49m\u001b[43m(\u001b[49m\u001b[38;5;28;43mself\u001b[39;49m\u001b[43m,\u001b[49m\u001b[43m \u001b[49m\u001b[43mother\u001b[49m\u001b[43m)\u001b[49m\n",
      "\u001b[0;31mRuntimeError\u001b[0m: CUDA error: device-side assert triggered\nCUDA kernel errors might be asynchronously reported at some other API call, so the stacktrace below might be incorrect.\nFor debugging consider passing CUDA_LAUNCH_BLOCKING=1.\nCompile with `TORCH_USE_CUDA_DSA` to enable device-side assertions.\n"
     ]
    }
   ],
   "source": [
    "Phi = algo1(base_model, (x_train, x_val, y_train, y_val), rounds=10, alpha=2)"
   ]
  },
  {
   "cell_type": "code",
   "execution_count": 35,
   "metadata": {},
   "outputs": [
    {
     "name": "stderr",
     "output_type": "stream",
     "text": [
      "  0%|          | 0/10 [00:00<?, ?it/s]"
     ]
    },
    {
     "name": "stderr",
     "output_type": "stream",
     "text": [
      "100%|██████████| 10/10 [00:12<00:00,  1.21s/it]"
     ]
    },
    {
     "name": "stdout",
     "output_type": "stream",
     "text": [
      "0.8995\n"
     ]
    },
    {
     "name": "stderr",
     "output_type": "stream",
     "text": [
      "\n"
     ]
    },
    {
     "data": {
      "text/plain": [
       "0.8995"
      ]
     },
     "execution_count": 35,
     "metadata": {},
     "output_type": "execute_result"
    }
   ],
   "source": [
    "algo2(base_model, (x_train, x_val, y_train, y_val), Phi, alpha=2)"
   ]
  },
  {
   "cell_type": "code",
   "execution_count": 30,
   "metadata": {},
   "outputs": [
    {
     "data": {
      "text/plain": [
       "<matplotlib.lines.Line2D at 0x7f8ca0171160>"
      ]
     },
     "execution_count": 30,
     "metadata": {},
     "output_type": "execute_result"
    },
    {
     "data": {
      "image/png": "[encoded data removed]",
      "text/plain": [
       "<Figure size 640x480 with 1 Axes>"
      ]
     },
     "metadata": {},
     "output_type": "display_data"
    }
   ],
   "source": [
    "import matplotlib.pyplot as plt\n",
    "plt.hist(Phi)\n",
    "plt.axvline(0.901)"
   ]
  },
  {
   "cell_type": "code",
   "execution_count": null,
   "metadata": {},
   "outputs": [],
   "source": []
  }
 ],
 "metadata": {
  "kernelspec": {
   "display_name": "dl",
   "language": "python",
   "name": "python3"
  },
  "language_info": {
   "codemirror_mode": {
    "name": "ipython",
    "version": 3
   },
   "file_extension": ".py",
   "mimetype": "text/x-python",
   "name": "python",
   "nbconvert_exporter": "python",
   "pygments_lexer": "ipython3",
   "version": "3.9.18"
  }
 },
 "nbformat": 4,
 "nbformat_minor": 2
}
