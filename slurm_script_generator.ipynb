{
 "cells": [
  {
   "cell_type": "code",
   "execution_count": 11,
   "metadata": {},
   "outputs": [],
   "source": [
    "import os\n",
    "import sys"
   ]
  },
  {
   "cell_type": "code",
   "execution_count": 12,
   "metadata": {},
   "outputs": [],
   "source": [
    "!sh del_all.sh"
   ]
  },
  {
   "cell_type": "code",
   "execution_count": 13,
   "metadata": {},
   "outputs": [],
   "source": [
    "logs_path = 'slurm_logs/'\n",
    "slurm_path = 'slurm_scripts/'"
   ]
  },
  {
   "cell_type": "code",
   "execution_count": 14,
   "metadata": {},
   "outputs": [],
   "source": [
    "def qos(i):\n",
    "    if i < 12:\n",
    "        return 'deadline', 24\n",
    "    elif i < 14:\n",
    "        return 'normal', 16\n",
    "    elif i < 18:\n",
    "        return 'm', 12\n",
    "    elif i < 26:\n",
    "        return 'm2', 8\n",
    "    elif i < 42: \n",
    "        return 'm3', 4\n",
    "    elif i < 74:\n",
    "        return 'm4', 2\n",
    "    elif i < 138: \n",
    "        return 'm5', 1\n",
    "    else:\n",
    "        return 'scavenger', 24\n"
   ]
  },
  {
   "cell_type": "code",
   "execution_count": 15,
   "metadata": {},
   "outputs": [],
   "source": [
    "def write_file(name, test_size, qos, time, job_id=0):\n",
    "    if not os.path.exists(slurm_path):\n",
    "        os.mkdir(slurm_path)\n",
    "    with open(os.path.join(slurm_path, '{}_{}_{}.slrm'.format(name, test_size, job_id)), 'w') as file:\n",
    "        file.write(\n",
    "'''#!/bin/bash\n",
    "#SBATCH --job-name={}_{}_{}\\n'''.format(name, test_size, job_id))\n",
    "        if qos == 'deadline':\n",
    "            file.write('#SBATCH --account=deadline\\n')\n",
    "        file.write('''#SBATCH -c 16\n",
    "#SBATCH --qos={1}\n",
    "#SBATCH --partition=t4v1,t4v2,a40\n",
    "#SBATCH --gres=gpu:1\n",
    "#SBATCH --mem=16G\n",
    "#SBATCH --time={2}:00:00\n",
    "#SBATCH --output=slurm_logs/{0}_{3}_{4}.out\n",
    "#SBATCH --error=slurm_logs/{0}_{3}_{4}.err\n",
    "#SBATCH --open-mode=append\n",
    "#SBATCH --signal=B:USR1@120\\n'''.format(name, qos, time, test_size, job_id))\n",
    "        file.write(\"term_handler() {\\n\")\n",
    "        #file.write(\"{\\n\")\n",
    "        file.write('''\\tscontrol requeue \"${SLURM_JOB_ID}\"\\n''')\n",
    "        file.write(\"}\\ntrap term_handler SIGUSR1\\n\")\n",
    "        file.write(\n",
    "'''source ~/.bashrc\n",
    "conda activate dis\n",
    "which python\n",
    "\n",
    "/h/opent03/.conda/envs/dis/bin/python -u run_div.py --name={} --dataset=cifar10 --test_size={} &\n",
    "child=\"$!\"\n",
    "wait \"$child\"\n",
    "\n",
    "            '''.format(name, test_size))\n"
   ]
  },
  {
   "cell_type": "code",
   "execution_count": 17,
   "metadata": {},
   "outputs": [],
   "source": [
    "job_counter = 0\n",
    "for test_size in [50, 100, 200]:\n",
    "    for name in ['h', 'kl', 'js']:\n",
    "        for i in range(10):\n",
    "            q, t = qos(job_counter)\n",
    "            job_counter += 1\n",
    "            write_file(name, test_size, q, t, i)"
   ]
  },
  {
   "cell_type": "code",
   "execution_count": null,
   "metadata": {},
   "outputs": [],
   "source": []
  }
 ],
 "metadata": {
  "kernelspec": {
   "display_name": "dl",
   "language": "python",
   "name": "python3"
  },
  "language_info": {
   "codemirror_mode": {
    "name": "ipython",
    "version": 3
   },
   "file_extension": ".py",
   "mimetype": "text/x-python",
   "name": "python",
   "nbconvert_exporter": "python",
   "pygments_lexer": "ipython3",
   "version": "3.9.18"
  }
 },
 "nbformat": 4,
 "nbformat_minor": 2
}
