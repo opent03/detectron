{
 "cells": [
  {
   "cell_type": "code",
   "execution_count": 1,
   "metadata": {},
   "outputs": [],
   "source": [
    "import os\n",
    "import sys"
   ]
  },
  {
   "cell_type": "code",
   "execution_count": 2,
   "metadata": {},
   "outputs": [],
   "source": [
    "!sh del_all.sh"
   ]
  },
  {
   "cell_type": "code",
   "execution_count": 3,
   "metadata": {},
   "outputs": [],
   "source": [
    "logs_path = 'slurm_logs/'\n",
    "slurm_path = 'slurm_scripts/'"
   ]
  },
  {
   "cell_type": "code",
   "execution_count": 4,
   "metadata": {},
   "outputs": [],
   "source": [
    "def qos(i):\n",
    "    if i < 12:\n",
    "        return 'deadline', 24\n",
    "    elif i < 14:\n",
    "        return 'normal', 16\n",
    "    elif i < 18:\n",
    "        return 'm', 12\n",
    "    elif i < 26:\n",
    "        return 'm2', 8\n",
    "    elif i < 42: \n",
    "        return 'm3', 4\n",
    "    elif i < 74:\n",
    "        return 'm4', 2\n",
    "    elif i < 138: \n",
    "        return 'cpu_qos', 8\n",
    "    else:\n",
    "        return 'scavenger', 24\n"
   ]
  },
  {
   "cell_type": "code",
   "execution_count": 5,
   "metadata": {},
   "outputs": [],
   "source": [
    "\n",
    "def write_file(name, test_size, qos, time, job_id=0):\n",
    "    if not os.path.exists(slurm_path):\n",
    "        os.mkdir(slurm_path)\n",
    "    with open(os.path.join(slurm_path, '{}_{}_{}.slrm'.format(name, test_size, job_id)), 'w') as file:\n",
    "        file.write(\n",
    "'''#!/bin/bash\n",
    "#SBATCH --job-name={}_{}_{}\\n'''.format(name, test_size, job_id))\n",
    "        if qos == 'deadline':\n",
    "            file.write('#SBATCH --account=deadline\\n')\n",
    "        file.write('''#SBATCH -c 16\n",
    "#SBATCH --qos={0}\n",
    "#SBATCH --partition={1}'''.format(qos, 't4v1,t4v2,rtx6000,a40\\n#SBATCH --gres=gpu:1\\n' if not qos=='cpu_qos' else 'cpu\\n'))\n",
    "        file.write('''#SBATCH --mem=16G\n",
    "#SBATCH --time={1}:00:00\n",
    "#SBATCH --output=slurm_logs/{0}_{2}_{3}.out\n",
    "#SBATCH --error=slurm_logs/{0}_{2}_{3}.err\n",
    "#SBATCH --open-mode=append\n",
    "#SBATCH --signal=B:USR1@120\\n'''.format(name, time, test_size, job_id))\n",
    "        file.write(\"term_handler() {\\n\")\n",
    "        #file.write(\"{\\n\")\n",
    "        file.write('''\\tscontrol requeue \"${SLURM_JOB_ID}\"\\n''')\n",
    "        file.write(\"}\\ntrap term_handler SIGUSR1\\n\")\n",
    "        file.write(\n",
    "'''source ~/.bashrc\n",
    "conda activate dis\n",
    "which python\n",
    "\n",
    "/h/opent03/.conda/envs/dis/bin/python -u run_div.py --name={} --dataset=uci --loader_args='\\{\"n_components\":5\\}' --test_size={} --slurm_job_id=$SLURM_JOB_ID &\n",
    "child=\"$!\"\n",
    "wait \"$child\"\n",
    "\n",
    "            '''.format(name, test_size))\n"
   ]
  },
  {
   "cell_type": "code",
   "execution_count": 6,
   "metadata": {},
   "outputs": [
    {
     "ename": "KeyError",
     "evalue": "'\"n_components\"'",
     "output_type": "error",
     "traceback": [
      "\u001b[0;31m---------------------------------------------------------------------------\u001b[0m",
      "\u001b[0;31mKeyError\u001b[0m                                  Traceback (most recent call last)",
      "Cell \u001b[0;32mIn[6], line 7\u001b[0m\n\u001b[1;32m      5\u001b[0m q, t \u001b[38;5;241m=\u001b[39m qos(job_counter)\n\u001b[1;32m      6\u001b[0m job_counter \u001b[38;5;241m+\u001b[39m\u001b[38;5;241m=\u001b[39m \u001b[38;5;241m1\u001b[39m\n\u001b[0;32m----> 7\u001b[0m \u001b[43mwrite_file\u001b[49m\u001b[43m(\u001b[49m\u001b[43mname\u001b[49m\u001b[43m,\u001b[49m\u001b[43m \u001b[49m\u001b[43mtest_size\u001b[49m\u001b[43m,\u001b[49m\u001b[43m \u001b[49m\u001b[43mq\u001b[49m\u001b[43m,\u001b[49m\u001b[43m \u001b[49m\u001b[43mt\u001b[49m\u001b[43m,\u001b[49m\u001b[43m \u001b[49m\u001b[43mi\u001b[49m\u001b[43m)\u001b[49m\n",
      "Cell \u001b[0;32mIn[5], line 24\u001b[0m, in \u001b[0;36mwrite_file\u001b[0;34m(name, test_size, qos, time, job_id)\u001b[0m\n\u001b[1;32m     21\u001b[0m         file\u001b[38;5;241m.\u001b[39mwrite(\u001b[38;5;124m'''\u001b[39m\u001b[38;5;130;01m\\t\u001b[39;00m\u001b[38;5;124mscontrol requeue \u001b[39m\u001b[38;5;124m\"\u001b[39m\u001b[38;5;124m$\u001b[39m\u001b[38;5;132;01m{SLURM_JOB_ID}\u001b[39;00m\u001b[38;5;124m\"\u001b[39m\u001b[38;5;130;01m\\n\u001b[39;00m\u001b[38;5;124m'''\u001b[39m)\n\u001b[1;32m     22\u001b[0m         file\u001b[38;5;241m.\u001b[39mwrite(\u001b[38;5;124m\"\u001b[39m\u001b[38;5;124m}\u001b[39m\u001b[38;5;130;01m\\n\u001b[39;00m\u001b[38;5;124mtrap term_handler SIGUSR1\u001b[39m\u001b[38;5;130;01m\\n\u001b[39;00m\u001b[38;5;124m\"\u001b[39m)\n\u001b[1;32m     23\u001b[0m         file\u001b[38;5;241m.\u001b[39mwrite(\n\u001b[0;32m---> 24\u001b[0m \u001b[38;5;124;43;03m'''source ~/.bashrc\u001b[39;49;00m\n\u001b[1;32m     25\u001b[0m \u001b[38;5;124;43;03mconda activate dis\u001b[39;49;00m\n\u001b[1;32m     26\u001b[0m \u001b[38;5;124;43;03mwhich python\u001b[39;49;00m\n\u001b[1;32m     27\u001b[0m \n\u001b[1;32m     28\u001b[0m \u001b[38;5;124;43;03m/h/opent03/.conda/envs/dis/bin/python -u run_div.py --name={} --dataset=uci --loader_args='{\"n_components\":5}' --test_size={} --slurm_job_id=$SLURM_JOB_ID &\u001b[39;49;00m\n\u001b[1;32m     29\u001b[0m \u001b[38;5;124;43;03mchild=\"$!\"\u001b[39;49;00m\n\u001b[1;32m     30\u001b[0m \u001b[38;5;124;43;03mwait \"$child\"\u001b[39;49;00m\n\u001b[1;32m     31\u001b[0m \n\u001b[1;32m     32\u001b[0m \u001b[38;5;124;43;03m            '''\u001b[39;49;00m\u001b[38;5;241;43m.\u001b[39;49m\u001b[43mformat\u001b[49m\u001b[43m(\u001b[49m\u001b[43mname\u001b[49m\u001b[43m,\u001b[49m\u001b[43m \u001b[49m\u001b[43mtest_size\u001b[49m\u001b[43m)\u001b[49m)\n",
      "\u001b[0;31mKeyError\u001b[0m: '\"n_components\"'"
     ]
    }
   ],
   "source": [
    "job_counter = 0\n",
    "for test_size in [50, 100, 200]:\n",
    "    for name in ['h', 'kl', 'js']:\n",
    "        for i in range(10):\n",
    "            q, t = qos(job_counter)\n",
    "            job_counter += 1\n",
    "            write_file(name, test_size, q, t, i)"
   ]
  },
  {
   "cell_type": "code",
   "execution_count": null,
   "metadata": {},
   "outputs": [],
   "source": []
  }
 ],
 "metadata": {
  "kernelspec": {
   "display_name": "dl",
   "language": "python",
   "name": "python3"
  },
  "language_info": {
   "codemirror_mode": {
    "name": "ipython",
    "version": 3
   },
   "file_extension": ".py",
   "mimetype": "text/x-python",
   "name": "python",
   "nbconvert_exporter": "python",
   "pygments_lexer": "ipython3",
   "version": "3.9.18"
  }
 },
 "nbformat": 4,
 "nbformat_minor": 2
}
