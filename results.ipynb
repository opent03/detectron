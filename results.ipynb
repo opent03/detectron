{
 "cells": [
  {
   "cell_type": "code",
   "execution_count": 1,
   "metadata": {},
   "outputs": [],
   "source": [
    "import numpy as np\n",
    "import os"
   ]
  },
  {
   "cell_type": "code",
   "execution_count": 21,
   "metadata": {},
   "outputs": [],
   "source": [
    "results_dir = 'baselines/tprs_cifar10'"
   ]
  },
  {
   "cell_type": "code",
   "execution_count": 22,
   "metadata": {},
   "outputs": [
    {
     "name": "stdout",
     "output_type": "stream",
     "text": [
      "h_100.log\n",
      "mean: 0.87, std: 0.03\n",
      "h_200.log\n",
      "mean: 0.99, std: 0.01\n",
      "h_50.log\n",
      "mean: 0.56, std: 0.04\n",
      "js_100.log\n",
      "mean: 0.11, std: 0.02\n",
      "js_200.log\n",
      "mean: 0.38, std: 0.03\n",
      "js_50.log\n",
      "mean: 0.06, std: 0.02\n",
      "kl_100.log\n",
      "mean: 0.75, std: 0.04\n",
      "kl_200.log\n",
      "mean: 0.98, std: 0.01\n",
      "kl_50.log\n",
      "mean: 0.37, std: 0.03\n"
     ]
    }
   ],
   "source": [
    "for files in sorted(os.listdir(results_dir)):\n",
    "    if '.log' not in files:\n",
    "        continue\n",
    "    print(files)\n",
    "    with open(os.path.join(results_dir, files), 'r') as f:\n",
    "        lines = [line.rstrip() for line in f]\n",
    "        lines = np.array(list(map(lambda x: float(x), lines)))\n",
    "    print('mean: {:.2f}, std: {:.2f}'.format(np.mean(lines), np.std(lines)))\n",
    "    "
   ]
  },
  {
   "cell_type": "code",
   "execution_count": null,
   "metadata": {},
   "outputs": [],
   "source": []
  }
 ],
 "metadata": {
  "kernelspec": {
   "display_name": "dl",
   "language": "python",
   "name": "python3"
  },
  "language_info": {
   "codemirror_mode": {
    "name": "ipython",
    "version": 3
   },
   "file_extension": ".py",
   "mimetype": "text/x-python",
   "name": "python",
   "nbconvert_exporter": "python",
   "pygments_lexer": "ipython3",
   "version": "3.9.18"
  }
 },
 "nbformat": 4,
 "nbformat_minor": 2
}
